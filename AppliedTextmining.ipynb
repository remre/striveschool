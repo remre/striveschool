{
  "nbformat": 4,
  "nbformat_minor": 0,
  "metadata": {
    "colab": {
      "name": "AppliedTextmining.ipynb adlı not defterinin kopyası",
      "provenance": [],
      "collapsed_sections": [
        "RarPSd0iWBFy"
      ],
      "authorship_tag": "ABX9TyM1VpGB/AeoK5pD5r/26A7E",
      "include_colab_link": true
    },
    "kernelspec": {
      "name": "python3",
      "display_name": "Python 3"
    },
    "language_info": {
      "name": "python"
    }
  },
  "cells": [
    {
      "cell_type": "markdown",
      "metadata": {
        "id": "view-in-github",
        "colab_type": "text"
      },
      "source": [
        "<a href=\"https://colab.research.google.com/github/remre/striveschool/blob/main/AppliedTextmining.ipynb\" target=\"_parent\"><img src=\"https://colab.research.google.com/assets/colab-badge.svg\" alt=\"Open In Colab\"/></a>"
      ]
    },
    {
      "cell_type": "markdown",
      "metadata": {
        "id": "YA7udV929Nl-"
      },
      "source": [
        ""
      ]
    },
    {
      "cell_type": "code",
      "metadata": {
        "id": "QSn48Tdh9JkI"
      },
      "source": [
        "text = \"asdadad=a this This not what will happen etchics are in details most probably and never come back again so if you want to change the world for good yu should look at the moon\"\n",
        "text1 = text.split(\" \")"
      ],
      "execution_count": null,
      "outputs": []
    },
    {
      "cell_type": "code",
      "metadata": {
        "colab": {
          "base_uri": "https://localhost:8080/"
        },
        "id": "gAXw-yyL9a-I",
        "outputId": "296e7953-fe85-4cd9-fdca-42d264569ec6"
      },
      "source": [
        "text1"
      ],
      "execution_count": null,
      "outputs": [
        {
          "output_type": "execute_result",
          "data": {
            "text/plain": [
              "['asdadad=a',\n",
              " 'this',\n",
              " 'not',\n",
              " 'what',\n",
              " 'will',\n",
              " 'happen',\n",
              " 'etchics',\n",
              " 'are',\n",
              " 'in',\n",
              " 'details',\n",
              " 'most',\n",
              " 'probably',\n",
              " 'and',\n",
              " 'never',\n",
              " 'come',\n",
              " 'back',\n",
              " 'again',\n",
              " 'so',\n",
              " 'if',\n",
              " 'you',\n",
              " 'want',\n",
              " 'to',\n",
              " 'change',\n",
              " 'the',\n",
              " 'world',\n",
              " 'for',\n",
              " 'good',\n",
              " 'yu',\n",
              " 'should',\n",
              " 'look',\n",
              " 'at',\n",
              " 'the',\n",
              " 'moon']"
            ]
          },
          "metadata": {
            "tags": []
          },
          "execution_count": 18
        }
      ]
    },
    {
      "cell_type": "code",
      "metadata": {
        "colab": {
          "base_uri": "https://localhost:8080/"
        },
        "id": "uI9MDfUl9b_P",
        "outputId": "e02e8b8d-4920-40f0-c3d6-3ea68a7b43b3"
      },
      "source": [
        "[w for w in text1 if w.istitle()]"
      ],
      "execution_count": null,
      "outputs": [
        {
          "output_type": "execute_result",
          "data": {
            "text/plain": [
              "[]"
            ]
          },
          "metadata": {
            "tags": []
          },
          "execution_count": 19
        }
      ]
    },
    {
      "cell_type": "code",
      "metadata": {
        "colab": {
          "base_uri": "https://localhost:8080/"
        },
        "id": "Mc4GK_j499Gr",
        "outputId": "8faa5841-f5e6-4db7-db2a-29a1b94faa17"
      },
      "source": [
        "[w for w in text1 if w.endswith(\"d\")]"
      ],
      "execution_count": null,
      "outputs": [
        {
          "output_type": "execute_result",
          "data": {
            "text/plain": [
              "['and', 'world', 'good', 'should']"
            ]
          },
          "metadata": {
            "tags": []
          },
          "execution_count": 20
        }
      ]
    },
    {
      "cell_type": "code",
      "metadata": {
        "colab": {
          "base_uri": "https://localhost:8080/"
        },
        "id": "_GAKdGk8-Eou",
        "outputId": "45983bd5-b025-4302-f524-9adf7dc1156c"
      },
      "source": [
        "#find out unique words in text however it is not capable with lower capital words\n",
        "len(set(text1))"
      ],
      "execution_count": null,
      "outputs": [
        {
          "output_type": "execute_result",
          "data": {
            "text/plain": [
              "33"
            ]
          },
          "metadata": {
            "tags": []
          },
          "execution_count": 31
        }
      ]
    },
    {
      "cell_type": "code",
      "metadata": {
        "colab": {
          "base_uri": "https://localhost:8080/"
        },
        "id": "4WlGGAJM-rM4",
        "outputId": "db320c8d-2ca2-451a-edb4-a56bc696733d"
      },
      "source": [
        "len(set([w.lower() for w in text1]))"
      ],
      "execution_count": null,
      "outputs": [
        {
          "output_type": "execute_result",
          "data": {
            "text/plain": [
              "32"
            ]
          },
          "metadata": {
            "tags": []
          },
          "execution_count": 32
        }
      ]
    },
    {
      "cell_type": "code",
      "metadata": {
        "id": "OeK_lWsV_J_R"
      },
      "source": [
        ""
      ],
      "execution_count": null,
      "outputs": []
    },
    {
      "cell_type": "markdown",
      "metadata": {
        "id": "aI_LgcOR_r4z"
      },
      "source": [
        "### **Comparision Operations**\n",
        "\n",
        "\n",
        "\n",
        "\n",
        "s.startswith(t)\n",
        "\n",
        "s.endswith(t)\n",
        "\n",
        "t in s \n",
        "\n",
        "s.upper(); s.islower(); s.istitle()\n",
        "\n",
        "s.isalpha(); s.isdigit(); sisalnum()#alphebet or digits\n"
      ]
    },
    {
      "cell_type": "markdown",
      "metadata": {
        "id": "fhX2eMSE_y_c"
      },
      "source": [
        "### **String Operations**\n",
        " s.lower() s.upper() s.titlecase()\n",
        "\n",
        " s.split(t)#it will split the text\n",
        "\n",
        "s.splitlines()\n",
        "\n",
        "t.join(s)#opposite of split()\n",
        "\n",
        "s.strip() ; s.rstrip() # strip will clean spaces and white spaces at the beginnig of the wrods and rstrip clean at the end of words\n",
        "\n",
        "\n",
        "s.find(t); s.rfind # will find from the beginning and rfind will find from back\n",
        "\n",
        "\n",
        "s.replace(\"a\",\"b\") a replace with b\n",
        "\n",
        "\n",
        "*Examples:*"
      ]
    },
    {
      "cell_type": "code",
      "metadata": {
        "id": "1LbtqzJDA7o4"
      },
      "source": [
        "text5 = \"ouasd ihasidg ouasduhjasn asdasd dasd oudasd \"\n",
        "text6 = text5.split(\"ou\")"
      ],
      "execution_count": null,
      "outputs": []
    },
    {
      "cell_type": "code",
      "metadata": {
        "colab": {
          "base_uri": "https://localhost:8080/"
        },
        "id": "Q7jqeurbBKKY",
        "outputId": "bec185fb-7a2d-421f-c646-23e8d364b8fc"
      },
      "source": [
        "text6"
      ],
      "execution_count": null,
      "outputs": [
        {
          "output_type": "execute_result",
          "data": {
            "text/plain": [
              "['', 'asd ihasidg ', 'asduhjasn asdasd dasd ', 'dasd ']"
            ]
          },
          "metadata": {
            "tags": []
          },
          "execution_count": 38
        }
      ]
    },
    {
      "cell_type": "code",
      "metadata": {
        "colab": {
          "base_uri": "https://localhost:8080/",
          "height": 35
        },
        "id": "NHhaxBnQBK2Z",
        "outputId": "3a46dacc-8ccb-4dd4-8311-e63dff20b0ba"
      },
      "source": [
        "\"ou\".join(text6)"
      ],
      "execution_count": null,
      "outputs": [
        {
          "output_type": "execute_result",
          "data": {
            "application/vnd.google.colaboratory.intrinsic+json": {
              "type": "string"
            },
            "text/plain": [
              "'ouasd ihasidg ouasduhjasn asdasd dasd oudasd '"
            ]
          },
          "metadata": {
            "tags": []
          },
          "execution_count": 42
        }
      ]
    },
    {
      "cell_type": "code",
      "metadata": {
        "id": "FBJSxXhsBjpu"
      },
      "source": [
        "# to get characters in text u can go with list or c in c for text bllbalabla"
      ],
      "execution_count": null,
      "outputs": []
    },
    {
      "cell_type": "markdown",
      "metadata": {
        "id": "5IS3UysZB9sZ"
      },
      "source": [
        "### **Cleaning Text**"
      ]
    },
    {
      "cell_type": "code",
      "metadata": {
        "colab": {
          "base_uri": "https://localhost:8080/"
        },
        "id": "08F3zaL8CGGk",
        "outputId": "043a2364-3312-4619-f607-f81596f4e4c5"
      },
      "source": [
        "text8 = \"  A quick brown fox jumped over the lazy dog  \"\n",
        "text8.strip().split()"
      ],
      "execution_count": null,
      "outputs": [
        {
          "output_type": "execute_result",
          "data": {
            "text/plain": [
              "['A', 'quick', 'brown', 'fox', 'jumped', 'over', 'the', 'lazy', 'dog']"
            ]
          },
          "metadata": {
            "tags": []
          },
          "execution_count": 89
        }
      ]
    },
    {
      "cell_type": "code",
      "metadata": {
        "colab": {
          "base_uri": "https://localhost:8080/",
          "height": 35
        },
        "id": "27gOoWqhCO9l",
        "outputId": "87546d11-a7e1-4f62-8fcd-442b830f2aea"
      },
      "source": [
        "text9 = \"A quick brown fox jumped over the lazy dog\"\n",
        "text9.find(\"o\")#when \"o\" is first occur\n",
        "text2 = text9.replace(\"o\",\"0\")#replace 0 with 0\n",
        "text2"
      ],
      "execution_count": null,
      "outputs": [
        {
          "output_type": "execute_result",
          "data": {
            "application/vnd.google.colaboratory.intrinsic+json": {
              "type": "string"
            },
            "text/plain": [
              "'A quick br0wn f0x jumped 0ver the lazy d0g'"
            ]
          },
          "metadata": {
            "tags": []
          },
          "execution_count": 57
        }
      ]
    },
    {
      "cell_type": "code",
      "metadata": {
        "id": "zh6qODmOCo0z"
      },
      "source": [
        ""
      ],
      "execution_count": null,
      "outputs": []
    },
    {
      "cell_type": "markdown",
      "metadata": {
        "id": "DY9KAXbnDKyJ"
      },
      "source": [
        "### **Handling Larger Text**\n",
        "#### Reading files line by line \n",
        "\n",
        "\n",
        "f = open(filename,mode)\n",
        "\n",
        "\n",
        "f.readline() f.read() f.read(n) n is how many line \n",
        "\n",
        "for line in f : doSomething(line)\n",
        "\n",
        "f.seek(n) reading positoin\n",
        "\n",
        "f.write(message) wrtie a message\n",
        "\n",
        "f.close()\n",
        "\n",
        "f.closed#check if u closed it"
      ]
    },
    {
      "cell_type": "code",
      "metadata": {
        "colab": {
          "base_uri": "https://localhost:8080/",
          "height": 35
        },
        "id": "OziUxTJeDTSb",
        "outputId": "9e5b2f72-1ae1-4c6c-af55-4affeac3f56d"
      },
      "source": [
        "f = open(\"Butwhyisaspheressurf.txt\", \"r\",encoding='cp1252')#encoding is important\n",
        "f.readline()"
      ],
      "execution_count": null,
      "outputs": [
        {
          "output_type": "execute_result",
          "data": {
            "application/vnd.google.colaboratory.intrinsic+json": {
              "type": "string"
            },
            "text/plain": [
              "\"Title:\\tBut why is a sphere's surface area four times its shadow?\\n\""
            ]
          },
          "metadata": {
            "tags": []
          },
          "execution_count": 70
        }
      ]
    },
    {
      "cell_type": "code",
      "metadata": {
        "colab": {
          "base_uri": "https://localhost:8080/"
        },
        "id": "wJ9YauC9DZ4A",
        "outputId": "b29268fd-d7b5-4f36-836a-710a92e9a319"
      },
      "source": [
        "#reading full file\n",
        "f.seek(0)\n",
        "text12  = f.read()\n",
        "len(text12)"
      ],
      "execution_count": null,
      "outputs": [
        {
          "output_type": "execute_result",
          "data": {
            "text/plain": [
              "18756"
            ]
          },
          "metadata": {
            "tags": []
          },
          "execution_count": 71
        }
      ]
    },
    {
      "cell_type": "code",
      "metadata": {
        "id": "4f3n0dIJEC6F"
      },
      "source": [
        "text13 = text12.splitlines()"
      ],
      "execution_count": null,
      "outputs": []
    },
    {
      "cell_type": "code",
      "metadata": {
        "colab": {
          "base_uri": "https://localhost:8080/",
          "height": 35
        },
        "id": "F4_w8VuPGDDs",
        "outputId": "f1cd78e4-6511-4d0c-92ab-ef714c76624f"
      },
      "source": [
        "text13[8].rstrip()"
      ],
      "execution_count": null,
      "outputs": [
        {
          "output_type": "execute_result",
          "data": {
            "application/vnd.google.colaboratory.intrinsic+json": {
              "type": "string"
            },
            "text/plain": [
              "'Positive Reaction:\\t94398'"
            ]
          },
          "metadata": {
            "tags": []
          },
          "execution_count": 77
        }
      ]
    },
    {
      "cell_type": "markdown",
      "metadata": {
        "id": "QYUT6UWeNw6V"
      },
      "source": [
        "### **ReGex**\n",
        "\n",
        "\n",
        ". : wildcard,matches a single character \n",
        "\n",
        "^ : start with a string\n",
        "\n",
        "$ : en of a string\n",
        "\n",
        "[] : matches one of the set of characters within []\n",
        "\n",
        "ex : [a-z], [^abc] matches a character that is not a,b or c\n",
        "\n",
        "a|b matches either a or b \n",
        "\n",
        "() scoping for op\n",
        "\n",
        "\\ escapefrom characters like \\t,\\n,\\b\n",
        "\n",
        "\\b matches word boundary\n",
        "\n",
        "\\D any non-digit \n",
        "\n",
        "\\d any digit\n",
        "\n",
        "\\s any whitespace\n",
        "\n",
        "\\S any nonwhitespace character\n",
        "\n",
        "\\w Alphanumaric charactres\n",
        "\n",
        "\\W matches non alphanumeric characters\n",
        "\n",
        "*: matches zero or more occurences \n",
        "\n",
        "\"+\" : matches one or more occurance\n",
        "\n",
        "?:  matches zero or one occurances\n",
        "\n",
        "{n} : exatcly n repetitions\n",
        "\n",
        "{n,}\n",
        "\n",
        "{,n}\n",
        "\n",
        "{m,n}\n",
        "\n"
      ]
    },
    {
      "cell_type": "code",
      "metadata": {
        "colab": {
          "base_uri": "https://localhost:8080/"
        },
        "id": "PriZGxfhGEgx",
        "outputId": "4a23c988-d601-47eb-c4bc-6b31dc3a299d"
      },
      "source": [
        "import re # import re - a module that provides support for regular expressions\n",
        "\n",
        "text7 = '@UN @UN_Women \"Ethics are built right into the ideals and objectives of the United Nations\" \\\n",
        "#UNSG @ NY Society for Ethical Culture bit.ly/2guVelr %4## ##@@ %%@@# $%%$ @#$ '\n",
        "text8 = text7.split(' ')\n",
        "\n",
        "[w for w in text8 if re.search('@[A-Za-z0-9_]+', w)]"
      ],
      "execution_count": null,
      "outputs": [
        {
          "output_type": "execute_result",
          "data": {
            "text/plain": [
              "['@UN', '@UN_Women']"
            ]
          },
          "metadata": {
            "tags": []
          },
          "execution_count": 80
        }
      ]
    },
    {
      "cell_type": "code",
      "metadata": {
        "id": "OpPrGVENN1cI"
      },
      "source": [
        "[w for w in text8 if w.isalnum()]"
      ],
      "execution_count": null,
      "outputs": []
    },
    {
      "cell_type": "code",
      "metadata": {
        "colab": {
          "base_uri": "https://localhost:8080/"
        },
        "id": "gYKEKR_xOKXZ",
        "outputId": "e49e7e1e-53ea-4ea2-901e-ca4adf8973ac"
      },
      "source": [
        "tweet = \"@nltk Text analysis is @asda # awesome! #regex #pandas #python\"\n",
        "\n",
        "print([word for word in tweet.split() if word.startswith('#')])"
      ],
      "execution_count": null,
      "outputs": [
        {
          "output_type": "stream",
          "text": [
            "['#', '#regex', '#pandas', '#python']\n"
          ],
          "name": "stdout"
        }
      ]
    },
    {
      "cell_type": "code",
      "metadata": {
        "id": "uJBBF9hNPXJI"
      },
      "source": [
        "text12 = \"as dsfs asvcfht4 u65  ou dasd #43sd4sda 4534 *@@fgfhty@dasd asd\"\n",
        "re.findall(r\"[^aeiou]\",text12)\n",
        "re.findall(r\"[aeiou]\",text12)"
      ],
      "execution_count": null,
      "outputs": []
    },
    {
      "cell_type": "code",
      "metadata": {
        "id": "djoAaMjoTMu8"
      },
      "source": [
        ""
      ],
      "execution_count": null,
      "outputs": []
    },
    {
      "cell_type": "markdown",
      "metadata": {
        "id": "sH9x1psiWBBG"
      },
      "source": [
        ""
      ]
    },
    {
      "cell_type": "markdown",
      "metadata": {
        "id": "RarPSd0iWBFy"
      },
      "source": [
        "#### **Exercise Regex with Pandas and Named Groups**"
      ]
    },
    {
      "cell_type": "code",
      "metadata": {
        "colab": {
          "base_uri": "https://localhost:8080/",
          "height": 204
        },
        "id": "jrSD9Dt3WGwf",
        "outputId": "4966359f-fafb-41e1-dbf1-4a437904270f"
      },
      "source": [
        "import pandas as pd\n",
        "\n",
        "time_sentences = [\"Monday: The doctor's appointment is at 2:45pm.\", \n",
        "                  \"Tuesday: The dentist's appointment is at 11:30 am.\",\n",
        "                  \"Wednesday: At 7:00pm, there is a basketball game!\",\n",
        "                  \"Thursday: Be back home by 11:15 pm at the latest.\",\n",
        "                  \"Friday: Take the train at 08:10 am, arrive at 09:00am.\"]\n",
        "\n",
        "df = pd.DataFrame(time_sentences, columns=['text'])\n",
        "df"
      ],
      "execution_count": null,
      "outputs": [
        {
          "output_type": "execute_result",
          "data": {
            "text/html": [
              "<div>\n",
              "<style scoped>\n",
              "    .dataframe tbody tr th:only-of-type {\n",
              "        vertical-align: middle;\n",
              "    }\n",
              "\n",
              "    .dataframe tbody tr th {\n",
              "        vertical-align: top;\n",
              "    }\n",
              "\n",
              "    .dataframe thead th {\n",
              "        text-align: right;\n",
              "    }\n",
              "</style>\n",
              "<table border=\"1\" class=\"dataframe\">\n",
              "  <thead>\n",
              "    <tr style=\"text-align: right;\">\n",
              "      <th></th>\n",
              "      <th>text</th>\n",
              "    </tr>\n",
              "  </thead>\n",
              "  <tbody>\n",
              "    <tr>\n",
              "      <th>0</th>\n",
              "      <td>Monday: The doctor's appointment is at 2:45pm.</td>\n",
              "    </tr>\n",
              "    <tr>\n",
              "      <th>1</th>\n",
              "      <td>Tuesday: The dentist's appointment is at 11:30...</td>\n",
              "    </tr>\n",
              "    <tr>\n",
              "      <th>2</th>\n",
              "      <td>Wednesday: At 7:00pm, there is a basketball game!</td>\n",
              "    </tr>\n",
              "    <tr>\n",
              "      <th>3</th>\n",
              "      <td>Thursday: Be back home by 11:15 pm at the latest.</td>\n",
              "    </tr>\n",
              "    <tr>\n",
              "      <th>4</th>\n",
              "      <td>Friday: Take the train at 08:10 am, arrive at ...</td>\n",
              "    </tr>\n",
              "  </tbody>\n",
              "</table>\n",
              "</div>"
            ],
            "text/plain": [
              "                                                text\n",
              "0     Monday: The doctor's appointment is at 2:45pm.\n",
              "1  Tuesday: The dentist's appointment is at 11:30...\n",
              "2  Wednesday: At 7:00pm, there is a basketball game!\n",
              "3  Thursday: Be back home by 11:15 pm at the latest.\n",
              "4  Friday: Take the train at 08:10 am, arrive at ..."
            ]
          },
          "metadata": {
            "tags": []
          },
          "execution_count": 95
        }
      ]
    },
    {
      "cell_type": "code",
      "metadata": {
        "colab": {
          "base_uri": "https://localhost:8080/"
        },
        "id": "Qo0-rlxxXGY5",
        "outputId": "4f00f5ac-65ef-45a7-9455-b59309d79e14"
      },
      "source": [
        "df['text'].str.len()"
      ],
      "execution_count": null,
      "outputs": [
        {
          "output_type": "execute_result",
          "data": {
            "text/plain": [
              "0    46\n",
              "1    50\n",
              "2    49\n",
              "3    49\n",
              "4    54\n",
              "Name: text, dtype: int64"
            ]
          },
          "metadata": {
            "tags": []
          },
          "execution_count": 121
        }
      ]
    },
    {
      "cell_type": "code",
      "metadata": {
        "colab": {
          "base_uri": "https://localhost:8080/"
        },
        "id": "fVjoVHKSYtGv",
        "outputId": "54551d97-2195-426a-d947-122acf49d6f5"
      },
      "source": [
        "aaa = \"Monday: The doctor's appointment is at 2:45pm.\"\n",
        "len(list(aaa))"
      ],
      "execution_count": null,
      "outputs": [
        {
          "output_type": "execute_result",
          "data": {
            "text/plain": [
              "46"
            ]
          },
          "metadata": {
            "tags": []
          },
          "execution_count": 126
        }
      ]
    },
    {
      "cell_type": "code",
      "metadata": {
        "colab": {
          "base_uri": "https://localhost:8080/"
        },
        "id": "cb_Qfp2MZCgP",
        "outputId": "c9e997d8-0d9c-43cb-97ad-70056b208d3d"
      },
      "source": [
        "df['text'].str.len()"
      ],
      "execution_count": null,
      "outputs": [
        {
          "output_type": "execute_result",
          "data": {
            "text/plain": [
              "0    46\n",
              "1    50\n",
              "2    49\n",
              "3    49\n",
              "4    54\n",
              "Name: text, dtype: int64"
            ]
          },
          "metadata": {
            "tags": []
          },
          "execution_count": 144
        }
      ]
    },
    {
      "cell_type": "code",
      "metadata": {
        "colab": {
          "base_uri": "https://localhost:8080/"
        },
        "id": "oxcBB2LDXWV5",
        "outputId": "fec6947d-520b-4273-be54-81d6d19c1c23"
      },
      "source": [
        "# find the number of characters for each string in df['text']\n",
        "[len(str(df[\"text\"][i])) for i in range(len(df))]"
      ],
      "execution_count": null,
      "outputs": [
        {
          "output_type": "execute_result",
          "data": {
            "text/plain": [
              "[46, 50, 49, 49, 54]"
            ]
          },
          "metadata": {
            "tags": []
          },
          "execution_count": 132
        }
      ]
    },
    {
      "cell_type": "code",
      "metadata": {
        "colab": {
          "base_uri": "https://localhost:8080/"
        },
        "id": "CJhLY7cUeXMN",
        "outputId": "1c700190-3964-4541-ce4f-446b935ca523"
      },
      "source": [
        "# find the number of tokens for each string in df['text']\n",
        "df['text'].str.split().str.len()"
      ],
      "execution_count": null,
      "outputs": [
        {
          "output_type": "execute_result",
          "data": {
            "text/plain": [
              "0     7\n",
              "1     8\n",
              "2     8\n",
              "3    10\n",
              "4    10\n",
              "Name: text, dtype: int64"
            ]
          },
          "metadata": {
            "tags": []
          },
          "execution_count": 153
        }
      ]
    },
    {
      "cell_type": "code",
      "metadata": {
        "id": "fzgJIZ-x4q8h"
      },
      "source": [
        "# find which entries contain the word 'appointment'\n",
        "#df['text'].str.contains('appointment')\n",
        "[df[\"text\"][i].split(\" \").startswith(\"Monday\") for i in range(len(df))]"
      ],
      "execution_count": null,
      "outputs": []
    },
    {
      "cell_type": "code",
      "metadata": {
        "colab": {
          "base_uri": "https://localhost:8080/"
        },
        "id": "djJvlViDG3pF",
        "outputId": "2f6cf109-1a62-4196-85e3-4f0a3e367005"
      },
      "source": [
        "# find how many times a digit occurs in each string\n",
        "df['text'].str.count(r'\\d')"
      ],
      "execution_count": null,
      "outputs": [
        {
          "output_type": "execute_result",
          "data": {
            "text/plain": [
              "0    3\n",
              "1    4\n",
              "2    3\n",
              "3    4\n",
              "4    8\n",
              "Name: text, dtype: int64"
            ]
          },
          "metadata": {
            "tags": []
          },
          "execution_count": 154
        }
      ]
    },
    {
      "cell_type": "code",
      "metadata": {
        "colab": {
          "base_uri": "https://localhost:8080/"
        },
        "id": "DsEDZSeGHXzS",
        "outputId": "e594ed86-34f7-459b-a721-4b38530721a4"
      },
      "source": [
        "# find all occurances of the digits\n",
        "df['text'].str.findall(r'\\d') "
      ],
      "execution_count": null,
      "outputs": [
        {
          "output_type": "execute_result",
          "data": {
            "text/plain": [
              "0                   [2, 4, 5]\n",
              "1                [1, 1, 3, 0]\n",
              "2                   [7, 0, 0]\n",
              "3                [1, 1, 1, 5]\n",
              "4    [0, 8, 1, 0, 0, 9, 0, 0]\n",
              "Name: text, dtype: object"
            ]
          },
          "metadata": {
            "tags": []
          },
          "execution_count": 156
        }
      ]
    },
    {
      "cell_type": "code",
      "metadata": {
        "colab": {
          "base_uri": "https://localhost:8080/",
          "height": 132
        },
        "id": "lxBMhcYeWH4v",
        "outputId": "afb6152c-4c6d-47a1-d34e-58775d2b0527"
      },
      "source": [
        "\n",
        "\n",
        "\n",
        "\n",
        "# group and find the hours and minutes\n",
        "\n",
        "# replace weekdays with '???'\n",
        "\n",
        "\n",
        "# replace weekdays with 3 letter abbrevations\n",
        "\n",
        "\n",
        "# create new columns from first match of extracted groups\n",
        "\n",
        "# extract the entire time, the hours, the minutes, and the period\n",
        "\n",
        "\n",
        "# extract the entire time, the hours, the minutes, and the period with group names"
      ],
      "execution_count": null,
      "outputs": [
        {
          "output_type": "error",
          "ename": "SyntaxError",
          "evalue": "ignored",
          "traceback": [
            "\u001b[0;36m  File \u001b[0;32m\"<ipython-input-104-a082ce5c484f>\"\u001b[0;36m, line \u001b[0;32m2\u001b[0m\n\u001b[0;31m    [len(df[i]) for len(df) in df ]\u001b[0m\n\u001b[0m                   ^\u001b[0m\n\u001b[0;31mSyntaxError\u001b[0m\u001b[0;31m:\u001b[0m can't assign to function call\n"
          ]
        }
      ]
    },
    {
      "cell_type": "code",
      "metadata": {
        "id": "4HXOF5sfWH9q"
      },
      "source": [
        ""
      ],
      "execution_count": null,
      "outputs": []
    }
  ]
}