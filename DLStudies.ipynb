{
  "nbformat": 4,
  "nbformat_minor": 0,
  "metadata": {
    "colab": {
      "name": "DLStudies.ipynb",
      "provenance": [],
      "collapsed_sections": [],
      "authorship_tag": "ABX9TyOJ0aUrfvVJXb890E1BUYiS",
      "include_colab_link": true
    },
    "kernelspec": {
      "name": "python3",
      "display_name": "Python 3"
    },
    "language_info": {
      "name": "python"
    },
    "widgets": {
      "application/vnd.jupyter.widget-state+json": {
        "b1499a3a50b345289c4841a8275e2e6e": {
          "model_module": "@jupyter-widgets/controls",
          "model_name": "HBoxModel",
          "model_module_version": "1.5.0",
          "state": {
            "_view_name": "HBoxView",
            "_dom_classes": [],
            "_model_name": "HBoxModel",
            "_view_module": "@jupyter-widgets/controls",
            "_model_module_version": "1.5.0",
            "_view_count": null,
            "_view_module_version": "1.5.0",
            "box_style": "",
            "layout": "IPY_MODEL_50ab7dbff97247f7bd8e68a27ab7df10",
            "_model_module": "@jupyter-widgets/controls",
            "children": [
              "IPY_MODEL_ffc84a80b2f7449b9929aca9d45d43b5",
              "IPY_MODEL_4903873642074850af53f09690bb534e",
              "IPY_MODEL_b7fde1cf6b67465ba7efa7361f15b887"
            ]
          }
        },
        "50ab7dbff97247f7bd8e68a27ab7df10": {
          "model_module": "@jupyter-widgets/base",
          "model_name": "LayoutModel",
          "model_module_version": "1.2.0",
          "state": {
            "_view_name": "LayoutView",
            "grid_template_rows": null,
            "right": null,
            "justify_content": null,
            "_view_module": "@jupyter-widgets/base",
            "overflow": null,
            "_model_module_version": "1.2.0",
            "_view_count": null,
            "flex_flow": null,
            "width": null,
            "min_width": null,
            "border": null,
            "align_items": null,
            "bottom": null,
            "_model_module": "@jupyter-widgets/base",
            "top": null,
            "grid_column": null,
            "overflow_y": null,
            "overflow_x": null,
            "grid_auto_flow": null,
            "grid_area": null,
            "grid_template_columns": null,
            "flex": null,
            "_model_name": "LayoutModel",
            "justify_items": null,
            "grid_row": null,
            "max_height": null,
            "align_content": null,
            "visibility": null,
            "align_self": null,
            "height": null,
            "min_height": null,
            "padding": null,
            "grid_auto_rows": null,
            "grid_gap": null,
            "max_width": null,
            "order": null,
            "_view_module_version": "1.2.0",
            "grid_template_areas": null,
            "object_position": null,
            "object_fit": null,
            "grid_auto_columns": null,
            "margin": null,
            "display": null,
            "left": null
          }
        },
        "ffc84a80b2f7449b9929aca9d45d43b5": {
          "model_module": "@jupyter-widgets/controls",
          "model_name": "HTMLModel",
          "model_module_version": "1.5.0",
          "state": {
            "_view_name": "HTMLView",
            "style": "IPY_MODEL_4a759fa257f84ce681de7b955b18ffe7",
            "_dom_classes": [],
            "description": "",
            "_model_name": "HTMLModel",
            "placeholder": "​",
            "_view_module": "@jupyter-widgets/controls",
            "_model_module_version": "1.5.0",
            "value": "",
            "_view_count": null,
            "_view_module_version": "1.5.0",
            "description_tooltip": null,
            "_model_module": "@jupyter-widgets/controls",
            "layout": "IPY_MODEL_99277812761f4fde88790f8221c8305e"
          }
        },
        "4903873642074850af53f09690bb534e": {
          "model_module": "@jupyter-widgets/controls",
          "model_name": "FloatProgressModel",
          "model_module_version": "1.5.0",
          "state": {
            "_view_name": "ProgressView",
            "style": "IPY_MODEL_f1d3d65ce90e4e768ffb115646ec05f1",
            "_dom_classes": [],
            "description": "",
            "_model_name": "FloatProgressModel",
            "bar_style": "success",
            "max": 9912422,
            "_view_module": "@jupyter-widgets/controls",
            "_model_module_version": "1.5.0",
            "value": 9912422,
            "_view_count": null,
            "_view_module_version": "1.5.0",
            "orientation": "horizontal",
            "min": 0,
            "description_tooltip": null,
            "_model_module": "@jupyter-widgets/controls",
            "layout": "IPY_MODEL_e7336ed918db44afae5002ab95a2f6e4"
          }
        },
        "b7fde1cf6b67465ba7efa7361f15b887": {
          "model_module": "@jupyter-widgets/controls",
          "model_name": "HTMLModel",
          "model_module_version": "1.5.0",
          "state": {
            "_view_name": "HTMLView",
            "style": "IPY_MODEL_386d3e56751249469bd014d7330d63c2",
            "_dom_classes": [],
            "description": "",
            "_model_name": "HTMLModel",
            "placeholder": "​",
            "_view_module": "@jupyter-widgets/controls",
            "_model_module_version": "1.5.0",
            "value": " 9913344/? [00:00&lt;00:00, 21522909.77it/s]",
            "_view_count": null,
            "_view_module_version": "1.5.0",
            "description_tooltip": null,
            "_model_module": "@jupyter-widgets/controls",
            "layout": "IPY_MODEL_778f285e45c547bcaa74de6ca29614dd"
          }
        },
        "4a759fa257f84ce681de7b955b18ffe7": {
          "model_module": "@jupyter-widgets/controls",
          "model_name": "DescriptionStyleModel",
          "model_module_version": "1.5.0",
          "state": {
            "_view_name": "StyleView",
            "_model_name": "DescriptionStyleModel",
            "description_width": "",
            "_view_module": "@jupyter-widgets/base",
            "_model_module_version": "1.5.0",
            "_view_count": null,
            "_view_module_version": "1.2.0",
            "_model_module": "@jupyter-widgets/controls"
          }
        },
        "99277812761f4fde88790f8221c8305e": {
          "model_module": "@jupyter-widgets/base",
          "model_name": "LayoutModel",
          "model_module_version": "1.2.0",
          "state": {
            "_view_name": "LayoutView",
            "grid_template_rows": null,
            "right": null,
            "justify_content": null,
            "_view_module": "@jupyter-widgets/base",
            "overflow": null,
            "_model_module_version": "1.2.0",
            "_view_count": null,
            "flex_flow": null,
            "width": null,
            "min_width": null,
            "border": null,
            "align_items": null,
            "bottom": null,
            "_model_module": "@jupyter-widgets/base",
            "top": null,
            "grid_column": null,
            "overflow_y": null,
            "overflow_x": null,
            "grid_auto_flow": null,
            "grid_area": null,
            "grid_template_columns": null,
            "flex": null,
            "_model_name": "LayoutModel",
            "justify_items": null,
            "grid_row": null,
            "max_height": null,
            "align_content": null,
            "visibility": null,
            "align_self": null,
            "height": null,
            "min_height": null,
            "padding": null,
            "grid_auto_rows": null,
            "grid_gap": null,
            "max_width": null,
            "order": null,
            "_view_module_version": "1.2.0",
            "grid_template_areas": null,
            "object_position": null,
            "object_fit": null,
            "grid_auto_columns": null,
            "margin": null,
            "display": null,
            "left": null
          }
        },
        "f1d3d65ce90e4e768ffb115646ec05f1": {
          "model_module": "@jupyter-widgets/controls",
          "model_name": "ProgressStyleModel",
          "model_module_version": "1.5.0",
          "state": {
            "_view_name": "StyleView",
            "_model_name": "ProgressStyleModel",
            "description_width": "",
            "_view_module": "@jupyter-widgets/base",
            "_model_module_version": "1.5.0",
            "_view_count": null,
            "_view_module_version": "1.2.0",
            "bar_color": null,
            "_model_module": "@jupyter-widgets/controls"
          }
        },
        "e7336ed918db44afae5002ab95a2f6e4": {
          "model_module": "@jupyter-widgets/base",
          "model_name": "LayoutModel",
          "model_module_version": "1.2.0",
          "state": {
            "_view_name": "LayoutView",
            "grid_template_rows": null,
            "right": null,
            "justify_content": null,
            "_view_module": "@jupyter-widgets/base",
            "overflow": null,
            "_model_module_version": "1.2.0",
            "_view_count": null,
            "flex_flow": null,
            "width": null,
            "min_width": null,
            "border": null,
            "align_items": null,
            "bottom": null,
            "_model_module": "@jupyter-widgets/base",
            "top": null,
            "grid_column": null,
            "overflow_y": null,
            "overflow_x": null,
            "grid_auto_flow": null,
            "grid_area": null,
            "grid_template_columns": null,
            "flex": null,
            "_model_name": "LayoutModel",
            "justify_items": null,
            "grid_row": null,
            "max_height": null,
            "align_content": null,
            "visibility": null,
            "align_self": null,
            "height": null,
            "min_height": null,
            "padding": null,
            "grid_auto_rows": null,
            "grid_gap": null,
            "max_width": null,
            "order": null,
            "_view_module_version": "1.2.0",
            "grid_template_areas": null,
            "object_position": null,
            "object_fit": null,
            "grid_auto_columns": null,
            "margin": null,
            "display": null,
            "left": null
          }
        },
        "386d3e56751249469bd014d7330d63c2": {
          "model_module": "@jupyter-widgets/controls",
          "model_name": "DescriptionStyleModel",
          "model_module_version": "1.5.0",
          "state": {
            "_view_name": "StyleView",
            "_model_name": "DescriptionStyleModel",
            "description_width": "",
            "_view_module": "@jupyter-widgets/base",
            "_model_module_version": "1.5.0",
            "_view_count": null,
            "_view_module_version": "1.2.0",
            "_model_module": "@jupyter-widgets/controls"
          }
        },
        "778f285e45c547bcaa74de6ca29614dd": {
          "model_module": "@jupyter-widgets/base",
          "model_name": "LayoutModel",
          "model_module_version": "1.2.0",
          "state": {
            "_view_name": "LayoutView",
            "grid_template_rows": null,
            "right": null,
            "justify_content": null,
            "_view_module": "@jupyter-widgets/base",
            "overflow": null,
            "_model_module_version": "1.2.0",
            "_view_count": null,
            "flex_flow": null,
            "width": null,
            "min_width": null,
            "border": null,
            "align_items": null,
            "bottom": null,
            "_model_module": "@jupyter-widgets/base",
            "top": null,
            "grid_column": null,
            "overflow_y": null,
            "overflow_x": null,
            "grid_auto_flow": null,
            "grid_area": null,
            "grid_template_columns": null,
            "flex": null,
            "_model_name": "LayoutModel",
            "justify_items": null,
            "grid_row": null,
            "max_height": null,
            "align_content": null,
            "visibility": null,
            "align_self": null,
            "height": null,
            "min_height": null,
            "padding": null,
            "grid_auto_rows": null,
            "grid_gap": null,
            "max_width": null,
            "order": null,
            "_view_module_version": "1.2.0",
            "grid_template_areas": null,
            "object_position": null,
            "object_fit": null,
            "grid_auto_columns": null,
            "margin": null,
            "display": null,
            "left": null
          }
        },
        "3a0ce61795bd4d81a0d9f57406ccf1bc": {
          "model_module": "@jupyter-widgets/controls",
          "model_name": "HBoxModel",
          "model_module_version": "1.5.0",
          "state": {
            "_view_name": "HBoxView",
            "_dom_classes": [],
            "_model_name": "HBoxModel",
            "_view_module": "@jupyter-widgets/controls",
            "_model_module_version": "1.5.0",
            "_view_count": null,
            "_view_module_version": "1.5.0",
            "box_style": "",
            "layout": "IPY_MODEL_fa5f1619c4b345f5af191f43bf78b6e5",
            "_model_module": "@jupyter-widgets/controls",
            "children": [
              "IPY_MODEL_a67bd9d5800a4174acc22703c56ace2f",
              "IPY_MODEL_e11bf9bf75234f47a26caaca19e57789",
              "IPY_MODEL_f4e9c019fd864da1b396a64e0d802b4d"
            ]
          }
        },
        "fa5f1619c4b345f5af191f43bf78b6e5": {
          "model_module": "@jupyter-widgets/base",
          "model_name": "LayoutModel",
          "model_module_version": "1.2.0",
          "state": {
            "_view_name": "LayoutView",
            "grid_template_rows": null,
            "right": null,
            "justify_content": null,
            "_view_module": "@jupyter-widgets/base",
            "overflow": null,
            "_model_module_version": "1.2.0",
            "_view_count": null,
            "flex_flow": null,
            "width": null,
            "min_width": null,
            "border": null,
            "align_items": null,
            "bottom": null,
            "_model_module": "@jupyter-widgets/base",
            "top": null,
            "grid_column": null,
            "overflow_y": null,
            "overflow_x": null,
            "grid_auto_flow": null,
            "grid_area": null,
            "grid_template_columns": null,
            "flex": null,
            "_model_name": "LayoutModel",
            "justify_items": null,
            "grid_row": null,
            "max_height": null,
            "align_content": null,
            "visibility": null,
            "align_self": null,
            "height": null,
            "min_height": null,
            "padding": null,
            "grid_auto_rows": null,
            "grid_gap": null,
            "max_width": null,
            "order": null,
            "_view_module_version": "1.2.0",
            "grid_template_areas": null,
            "object_position": null,
            "object_fit": null,
            "grid_auto_columns": null,
            "margin": null,
            "display": null,
            "left": null
          }
        },
        "a67bd9d5800a4174acc22703c56ace2f": {
          "model_module": "@jupyter-widgets/controls",
          "model_name": "HTMLModel",
          "model_module_version": "1.5.0",
          "state": {
            "_view_name": "HTMLView",
            "style": "IPY_MODEL_12a23fc98a854fefa95fc3da76837844",
            "_dom_classes": [],
            "description": "",
            "_model_name": "HTMLModel",
            "placeholder": "​",
            "_view_module": "@jupyter-widgets/controls",
            "_model_module_version": "1.5.0",
            "value": "",
            "_view_count": null,
            "_view_module_version": "1.5.0",
            "description_tooltip": null,
            "_model_module": "@jupyter-widgets/controls",
            "layout": "IPY_MODEL_e4a8b2c17cdc451d8f25ce3bf080b0ec"
          }
        },
        "e11bf9bf75234f47a26caaca19e57789": {
          "model_module": "@jupyter-widgets/controls",
          "model_name": "FloatProgressModel",
          "model_module_version": "1.5.0",
          "state": {
            "_view_name": "ProgressView",
            "style": "IPY_MODEL_54b90f8b2ff84d40bf4d8dda7d6c3212",
            "_dom_classes": [],
            "description": "",
            "_model_name": "FloatProgressModel",
            "bar_style": "success",
            "max": 28881,
            "_view_module": "@jupyter-widgets/controls",
            "_model_module_version": "1.5.0",
            "value": 28881,
            "_view_count": null,
            "_view_module_version": "1.5.0",
            "orientation": "horizontal",
            "min": 0,
            "description_tooltip": null,
            "_model_module": "@jupyter-widgets/controls",
            "layout": "IPY_MODEL_fe253cc22ed143cb8b8fb143ae16aac5"
          }
        },
        "f4e9c019fd864da1b396a64e0d802b4d": {
          "model_module": "@jupyter-widgets/controls",
          "model_name": "HTMLModel",
          "model_module_version": "1.5.0",
          "state": {
            "_view_name": "HTMLView",
            "style": "IPY_MODEL_bcc50ba192fa4a1ba0de4272d763e835",
            "_dom_classes": [],
            "description": "",
            "_model_name": "HTMLModel",
            "placeholder": "​",
            "_view_module": "@jupyter-widgets/controls",
            "_model_module_version": "1.5.0",
            "value": " 29696/? [00:00&lt;00:00, 617941.05it/s]",
            "_view_count": null,
            "_view_module_version": "1.5.0",
            "description_tooltip": null,
            "_model_module": "@jupyter-widgets/controls",
            "layout": "IPY_MODEL_d836f2952e614cf198dd71a8653ac5a6"
          }
        },
        "12a23fc98a854fefa95fc3da76837844": {
          "model_module": "@jupyter-widgets/controls",
          "model_name": "DescriptionStyleModel",
          "model_module_version": "1.5.0",
          "state": {
            "_view_name": "StyleView",
            "_model_name": "DescriptionStyleModel",
            "description_width": "",
            "_view_module": "@jupyter-widgets/base",
            "_model_module_version": "1.5.0",
            "_view_count": null,
            "_view_module_version": "1.2.0",
            "_model_module": "@jupyter-widgets/controls"
          }
        },
        "e4a8b2c17cdc451d8f25ce3bf080b0ec": {
          "model_module": "@jupyter-widgets/base",
          "model_name": "LayoutModel",
          "model_module_version": "1.2.0",
          "state": {
            "_view_name": "LayoutView",
            "grid_template_rows": null,
            "right": null,
            "justify_content": null,
            "_view_module": "@jupyter-widgets/base",
            "overflow": null,
            "_model_module_version": "1.2.0",
            "_view_count": null,
            "flex_flow": null,
            "width": null,
            "min_width": null,
            "border": null,
            "align_items": null,
            "bottom": null,
            "_model_module": "@jupyter-widgets/base",
            "top": null,
            "grid_column": null,
            "overflow_y": null,
            "overflow_x": null,
            "grid_auto_flow": null,
            "grid_area": null,
            "grid_template_columns": null,
            "flex": null,
            "_model_name": "LayoutModel",
            "justify_items": null,
            "grid_row": null,
            "max_height": null,
            "align_content": null,
            "visibility": null,
            "align_self": null,
            "height": null,
            "min_height": null,
            "padding": null,
            "grid_auto_rows": null,
            "grid_gap": null,
            "max_width": null,
            "order": null,
            "_view_module_version": "1.2.0",
            "grid_template_areas": null,
            "object_position": null,
            "object_fit": null,
            "grid_auto_columns": null,
            "margin": null,
            "display": null,
            "left": null
          }
        },
        "54b90f8b2ff84d40bf4d8dda7d6c3212": {
          "model_module": "@jupyter-widgets/controls",
          "model_name": "ProgressStyleModel",
          "model_module_version": "1.5.0",
          "state": {
            "_view_name": "StyleView",
            "_model_name": "ProgressStyleModel",
            "description_width": "",
            "_view_module": "@jupyter-widgets/base",
            "_model_module_version": "1.5.0",
            "_view_count": null,
            "_view_module_version": "1.2.0",
            "bar_color": null,
            "_model_module": "@jupyter-widgets/controls"
          }
        },
        "fe253cc22ed143cb8b8fb143ae16aac5": {
          "model_module": "@jupyter-widgets/base",
          "model_name": "LayoutModel",
          "model_module_version": "1.2.0",
          "state": {
            "_view_name": "LayoutView",
            "grid_template_rows": null,
            "right": null,
            "justify_content": null,
            "_view_module": "@jupyter-widgets/base",
            "overflow": null,
            "_model_module_version": "1.2.0",
            "_view_count": null,
            "flex_flow": null,
            "width": null,
            "min_width": null,
            "border": null,
            "align_items": null,
            "bottom": null,
            "_model_module": "@jupyter-widgets/base",
            "top": null,
            "grid_column": null,
            "overflow_y": null,
            "overflow_x": null,
            "grid_auto_flow": null,
            "grid_area": null,
            "grid_template_columns": null,
            "flex": null,
            "_model_name": "LayoutModel",
            "justify_items": null,
            "grid_row": null,
            "max_height": null,
            "align_content": null,
            "visibility": null,
            "align_self": null,
            "height": null,
            "min_height": null,
            "padding": null,
            "grid_auto_rows": null,
            "grid_gap": null,
            "max_width": null,
            "order": null,
            "_view_module_version": "1.2.0",
            "grid_template_areas": null,
            "object_position": null,
            "object_fit": null,
            "grid_auto_columns": null,
            "margin": null,
            "display": null,
            "left": null
          }
        },
        "bcc50ba192fa4a1ba0de4272d763e835": {
          "model_module": "@jupyter-widgets/controls",
          "model_name": "DescriptionStyleModel",
          "model_module_version": "1.5.0",
          "state": {
            "_view_name": "StyleView",
            "_model_name": "DescriptionStyleModel",
            "description_width": "",
            "_view_module": "@jupyter-widgets/base",
            "_model_module_version": "1.5.0",
            "_view_count": null,
            "_view_module_version": "1.2.0",
            "_model_module": "@jupyter-widgets/controls"
          }
        },
        "d836f2952e614cf198dd71a8653ac5a6": {
          "model_module": "@jupyter-widgets/base",
          "model_name": "LayoutModel",
          "model_module_version": "1.2.0",
          "state": {
            "_view_name": "LayoutView",
            "grid_template_rows": null,
            "right": null,
            "justify_content": null,
            "_view_module": "@jupyter-widgets/base",
            "overflow": null,
            "_model_module_version": "1.2.0",
            "_view_count": null,
            "flex_flow": null,
            "width": null,
            "min_width": null,
            "border": null,
            "align_items": null,
            "bottom": null,
            "_model_module": "@jupyter-widgets/base",
            "top": null,
            "grid_column": null,
            "overflow_y": null,
            "overflow_x": null,
            "grid_auto_flow": null,
            "grid_area": null,
            "grid_template_columns": null,
            "flex": null,
            "_model_name": "LayoutModel",
            "justify_items": null,
            "grid_row": null,
            "max_height": null,
            "align_content": null,
            "visibility": null,
            "align_self": null,
            "height": null,
            "min_height": null,
            "padding": null,
            "grid_auto_rows": null,
            "grid_gap": null,
            "max_width": null,
            "order": null,
            "_view_module_version": "1.2.0",
            "grid_template_areas": null,
            "object_position": null,
            "object_fit": null,
            "grid_auto_columns": null,
            "margin": null,
            "display": null,
            "left": null
          }
        },
        "bc779f6c3e994619a10d50dd101d518b": {
          "model_module": "@jupyter-widgets/controls",
          "model_name": "HBoxModel",
          "model_module_version": "1.5.0",
          "state": {
            "_view_name": "HBoxView",
            "_dom_classes": [],
            "_model_name": "HBoxModel",
            "_view_module": "@jupyter-widgets/controls",
            "_model_module_version": "1.5.0",
            "_view_count": null,
            "_view_module_version": "1.5.0",
            "box_style": "",
            "layout": "IPY_MODEL_a74ac6c882484ab6b7e17c85179bb494",
            "_model_module": "@jupyter-widgets/controls",
            "children": [
              "IPY_MODEL_14e0d26fa50545359dde0d81bb8621de",
              "IPY_MODEL_eb64d182d5534ae4889d13f411e0d54c",
              "IPY_MODEL_9e3ebcfe19504f94a886027bd75666ec"
            ]
          }
        },
        "a74ac6c882484ab6b7e17c85179bb494": {
          "model_module": "@jupyter-widgets/base",
          "model_name": "LayoutModel",
          "model_module_version": "1.2.0",
          "state": {
            "_view_name": "LayoutView",
            "grid_template_rows": null,
            "right": null,
            "justify_content": null,
            "_view_module": "@jupyter-widgets/base",
            "overflow": null,
            "_model_module_version": "1.2.0",
            "_view_count": null,
            "flex_flow": null,
            "width": null,
            "min_width": null,
            "border": null,
            "align_items": null,
            "bottom": null,
            "_model_module": "@jupyter-widgets/base",
            "top": null,
            "grid_column": null,
            "overflow_y": null,
            "overflow_x": null,
            "grid_auto_flow": null,
            "grid_area": null,
            "grid_template_columns": null,
            "flex": null,
            "_model_name": "LayoutModel",
            "justify_items": null,
            "grid_row": null,
            "max_height": null,
            "align_content": null,
            "visibility": null,
            "align_self": null,
            "height": null,
            "min_height": null,
            "padding": null,
            "grid_auto_rows": null,
            "grid_gap": null,
            "max_width": null,
            "order": null,
            "_view_module_version": "1.2.0",
            "grid_template_areas": null,
            "object_position": null,
            "object_fit": null,
            "grid_auto_columns": null,
            "margin": null,
            "display": null,
            "left": null
          }
        },
        "14e0d26fa50545359dde0d81bb8621de": {
          "model_module": "@jupyter-widgets/controls",
          "model_name": "HTMLModel",
          "model_module_version": "1.5.0",
          "state": {
            "_view_name": "HTMLView",
            "style": "IPY_MODEL_2cc80b03aeee402390242cc8b8b711c3",
            "_dom_classes": [],
            "description": "",
            "_model_name": "HTMLModel",
            "placeholder": "​",
            "_view_module": "@jupyter-widgets/controls",
            "_model_module_version": "1.5.0",
            "value": "",
            "_view_count": null,
            "_view_module_version": "1.5.0",
            "description_tooltip": null,
            "_model_module": "@jupyter-widgets/controls",
            "layout": "IPY_MODEL_0000b5ad6d7c4429a17971e1ca35254f"
          }
        },
        "eb64d182d5534ae4889d13f411e0d54c": {
          "model_module": "@jupyter-widgets/controls",
          "model_name": "FloatProgressModel",
          "model_module_version": "1.5.0",
          "state": {
            "_view_name": "ProgressView",
            "style": "IPY_MODEL_f61522520a024e0ab142fc2d3bf9e894",
            "_dom_classes": [],
            "description": "",
            "_model_name": "FloatProgressModel",
            "bar_style": "success",
            "max": 1648877,
            "_view_module": "@jupyter-widgets/controls",
            "_model_module_version": "1.5.0",
            "value": 1648877,
            "_view_count": null,
            "_view_module_version": "1.5.0",
            "orientation": "horizontal",
            "min": 0,
            "description_tooltip": null,
            "_model_module": "@jupyter-widgets/controls",
            "layout": "IPY_MODEL_5b3a7e754315449ab70ce540c69cd3f6"
          }
        },
        "9e3ebcfe19504f94a886027bd75666ec": {
          "model_module": "@jupyter-widgets/controls",
          "model_name": "HTMLModel",
          "model_module_version": "1.5.0",
          "state": {
            "_view_name": "HTMLView",
            "style": "IPY_MODEL_798069fbb63c4da883dc6bd2248a6097",
            "_dom_classes": [],
            "description": "",
            "_model_name": "HTMLModel",
            "placeholder": "​",
            "_view_module": "@jupyter-widgets/controls",
            "_model_module_version": "1.5.0",
            "value": " 1649664/? [00:00&lt;00:00, 19660538.55it/s]",
            "_view_count": null,
            "_view_module_version": "1.5.0",
            "description_tooltip": null,
            "_model_module": "@jupyter-widgets/controls",
            "layout": "IPY_MODEL_862400059d134e76937f13a0184a30bc"
          }
        },
        "2cc80b03aeee402390242cc8b8b711c3": {
          "model_module": "@jupyter-widgets/controls",
          "model_name": "DescriptionStyleModel",
          "model_module_version": "1.5.0",
          "state": {
            "_view_name": "StyleView",
            "_model_name": "DescriptionStyleModel",
            "description_width": "",
            "_view_module": "@jupyter-widgets/base",
            "_model_module_version": "1.5.0",
            "_view_count": null,
            "_view_module_version": "1.2.0",
            "_model_module": "@jupyter-widgets/controls"
          }
        },
        "0000b5ad6d7c4429a17971e1ca35254f": {
          "model_module": "@jupyter-widgets/base",
          "model_name": "LayoutModel",
          "model_module_version": "1.2.0",
          "state": {
            "_view_name": "LayoutView",
            "grid_template_rows": null,
            "right": null,
            "justify_content": null,
            "_view_module": "@jupyter-widgets/base",
            "overflow": null,
            "_model_module_version": "1.2.0",
            "_view_count": null,
            "flex_flow": null,
            "width": null,
            "min_width": null,
            "border": null,
            "align_items": null,
            "bottom": null,
            "_model_module": "@jupyter-widgets/base",
            "top": null,
            "grid_column": null,
            "overflow_y": null,
            "overflow_x": null,
            "grid_auto_flow": null,
            "grid_area": null,
            "grid_template_columns": null,
            "flex": null,
            "_model_name": "LayoutModel",
            "justify_items": null,
            "grid_row": null,
            "max_height": null,
            "align_content": null,
            "visibility": null,
            "align_self": null,
            "height": null,
            "min_height": null,
            "padding": null,
            "grid_auto_rows": null,
            "grid_gap": null,
            "max_width": null,
            "order": null,
            "_view_module_version": "1.2.0",
            "grid_template_areas": null,
            "object_position": null,
            "object_fit": null,
            "grid_auto_columns": null,
            "margin": null,
            "display": null,
            "left": null
          }
        },
        "f61522520a024e0ab142fc2d3bf9e894": {
          "model_module": "@jupyter-widgets/controls",
          "model_name": "ProgressStyleModel",
          "model_module_version": "1.5.0",
          "state": {
            "_view_name": "StyleView",
            "_model_name": "ProgressStyleModel",
            "description_width": "",
            "_view_module": "@jupyter-widgets/base",
            "_model_module_version": "1.5.0",
            "_view_count": null,
            "_view_module_version": "1.2.0",
            "bar_color": null,
            "_model_module": "@jupyter-widgets/controls"
          }
        },
        "5b3a7e754315449ab70ce540c69cd3f6": {
          "model_module": "@jupyter-widgets/base",
          "model_name": "LayoutModel",
          "model_module_version": "1.2.0",
          "state": {
            "_view_name": "LayoutView",
            "grid_template_rows": null,
            "right": null,
            "justify_content": null,
            "_view_module": "@jupyter-widgets/base",
            "overflow": null,
            "_model_module_version": "1.2.0",
            "_view_count": null,
            "flex_flow": null,
            "width": null,
            "min_width": null,
            "border": null,
            "align_items": null,
            "bottom": null,
            "_model_module": "@jupyter-widgets/base",
            "top": null,
            "grid_column": null,
            "overflow_y": null,
            "overflow_x": null,
            "grid_auto_flow": null,
            "grid_area": null,
            "grid_template_columns": null,
            "flex": null,
            "_model_name": "LayoutModel",
            "justify_items": null,
            "grid_row": null,
            "max_height": null,
            "align_content": null,
            "visibility": null,
            "align_self": null,
            "height": null,
            "min_height": null,
            "padding": null,
            "grid_auto_rows": null,
            "grid_gap": null,
            "max_width": null,
            "order": null,
            "_view_module_version": "1.2.0",
            "grid_template_areas": null,
            "object_position": null,
            "object_fit": null,
            "grid_auto_columns": null,
            "margin": null,
            "display": null,
            "left": null
          }
        },
        "798069fbb63c4da883dc6bd2248a6097": {
          "model_module": "@jupyter-widgets/controls",
          "model_name": "DescriptionStyleModel",
          "model_module_version": "1.5.0",
          "state": {
            "_view_name": "StyleView",
            "_model_name": "DescriptionStyleModel",
            "description_width": "",
            "_view_module": "@jupyter-widgets/base",
            "_model_module_version": "1.5.0",
            "_view_count": null,
            "_view_module_version": "1.2.0",
            "_model_module": "@jupyter-widgets/controls"
          }
        },
        "862400059d134e76937f13a0184a30bc": {
          "model_module": "@jupyter-widgets/base",
          "model_name": "LayoutModel",
          "model_module_version": "1.2.0",
          "state": {
            "_view_name": "LayoutView",
            "grid_template_rows": null,
            "right": null,
            "justify_content": null,
            "_view_module": "@jupyter-widgets/base",
            "overflow": null,
            "_model_module_version": "1.2.0",
            "_view_count": null,
            "flex_flow": null,
            "width": null,
            "min_width": null,
            "border": null,
            "align_items": null,
            "bottom": null,
            "_model_module": "@jupyter-widgets/base",
            "top": null,
            "grid_column": null,
            "overflow_y": null,
            "overflow_x": null,
            "grid_auto_flow": null,
            "grid_area": null,
            "grid_template_columns": null,
            "flex": null,
            "_model_name": "LayoutModel",
            "justify_items": null,
            "grid_row": null,
            "max_height": null,
            "align_content": null,
            "visibility": null,
            "align_self": null,
            "height": null,
            "min_height": null,
            "padding": null,
            "grid_auto_rows": null,
            "grid_gap": null,
            "max_width": null,
            "order": null,
            "_view_module_version": "1.2.0",
            "grid_template_areas": null,
            "object_position": null,
            "object_fit": null,
            "grid_auto_columns": null,
            "margin": null,
            "display": null,
            "left": null
          }
        },
        "767f1604c0b04ed3a2df3f7720515e87": {
          "model_module": "@jupyter-widgets/controls",
          "model_name": "HBoxModel",
          "model_module_version": "1.5.0",
          "state": {
            "_view_name": "HBoxView",
            "_dom_classes": [],
            "_model_name": "HBoxModel",
            "_view_module": "@jupyter-widgets/controls",
            "_model_module_version": "1.5.0",
            "_view_count": null,
            "_view_module_version": "1.5.0",
            "box_style": "",
            "layout": "IPY_MODEL_7ae9563b6d224ff682ea717bd30c5b7c",
            "_model_module": "@jupyter-widgets/controls",
            "children": [
              "IPY_MODEL_d2ed7fe7157447a4b855d45c15b3a775",
              "IPY_MODEL_40f73951673348cebda0e9a9e00726db",
              "IPY_MODEL_7ddb3e1b2ad34da59c09ed432c525aef"
            ]
          }
        },
        "7ae9563b6d224ff682ea717bd30c5b7c": {
          "model_module": "@jupyter-widgets/base",
          "model_name": "LayoutModel",
          "model_module_version": "1.2.0",
          "state": {
            "_view_name": "LayoutView",
            "grid_template_rows": null,
            "right": null,
            "justify_content": null,
            "_view_module": "@jupyter-widgets/base",
            "overflow": null,
            "_model_module_version": "1.2.0",
            "_view_count": null,
            "flex_flow": null,
            "width": null,
            "min_width": null,
            "border": null,
            "align_items": null,
            "bottom": null,
            "_model_module": "@jupyter-widgets/base",
            "top": null,
            "grid_column": null,
            "overflow_y": null,
            "overflow_x": null,
            "grid_auto_flow": null,
            "grid_area": null,
            "grid_template_columns": null,
            "flex": null,
            "_model_name": "LayoutModel",
            "justify_items": null,
            "grid_row": null,
            "max_height": null,
            "align_content": null,
            "visibility": null,
            "align_self": null,
            "height": null,
            "min_height": null,
            "padding": null,
            "grid_auto_rows": null,
            "grid_gap": null,
            "max_width": null,
            "order": null,
            "_view_module_version": "1.2.0",
            "grid_template_areas": null,
            "object_position": null,
            "object_fit": null,
            "grid_auto_columns": null,
            "margin": null,
            "display": null,
            "left": null
          }
        },
        "d2ed7fe7157447a4b855d45c15b3a775": {
          "model_module": "@jupyter-widgets/controls",
          "model_name": "HTMLModel",
          "model_module_version": "1.5.0",
          "state": {
            "_view_name": "HTMLView",
            "style": "IPY_MODEL_2f2845f8b3c54a8794613c0a444b32f8",
            "_dom_classes": [],
            "description": "",
            "_model_name": "HTMLModel",
            "placeholder": "​",
            "_view_module": "@jupyter-widgets/controls",
            "_model_module_version": "1.5.0",
            "value": "",
            "_view_count": null,
            "_view_module_version": "1.5.0",
            "description_tooltip": null,
            "_model_module": "@jupyter-widgets/controls",
            "layout": "IPY_MODEL_0665b9b4334f489f8d3083c743c16bff"
          }
        },
        "40f73951673348cebda0e9a9e00726db": {
          "model_module": "@jupyter-widgets/controls",
          "model_name": "FloatProgressModel",
          "model_module_version": "1.5.0",
          "state": {
            "_view_name": "ProgressView",
            "style": "IPY_MODEL_21efb17c36b848efbb67abcee81b910f",
            "_dom_classes": [],
            "description": "",
            "_model_name": "FloatProgressModel",
            "bar_style": "success",
            "max": 4542,
            "_view_module": "@jupyter-widgets/controls",
            "_model_module_version": "1.5.0",
            "value": 4542,
            "_view_count": null,
            "_view_module_version": "1.5.0",
            "orientation": "horizontal",
            "min": 0,
            "description_tooltip": null,
            "_model_module": "@jupyter-widgets/controls",
            "layout": "IPY_MODEL_1b888b870bb546d8a114fba41209675e"
          }
        },
        "7ddb3e1b2ad34da59c09ed432c525aef": {
          "model_module": "@jupyter-widgets/controls",
          "model_name": "HTMLModel",
          "model_module_version": "1.5.0",
          "state": {
            "_view_name": "HTMLView",
            "style": "IPY_MODEL_cc5577fc059e46e184e9630e9c46078a",
            "_dom_classes": [],
            "description": "",
            "_model_name": "HTMLModel",
            "placeholder": "​",
            "_view_module": "@jupyter-widgets/controls",
            "_model_module_version": "1.5.0",
            "value": " 5120/? [00:00&lt;00:00, 163945.07it/s]",
            "_view_count": null,
            "_view_module_version": "1.5.0",
            "description_tooltip": null,
            "_model_module": "@jupyter-widgets/controls",
            "layout": "IPY_MODEL_6d9e2565688b45c18bf73590b1cfba59"
          }
        },
        "2f2845f8b3c54a8794613c0a444b32f8": {
          "model_module": "@jupyter-widgets/controls",
          "model_name": "DescriptionStyleModel",
          "model_module_version": "1.5.0",
          "state": {
            "_view_name": "StyleView",
            "_model_name": "DescriptionStyleModel",
            "description_width": "",
            "_view_module": "@jupyter-widgets/base",
            "_model_module_version": "1.5.0",
            "_view_count": null,
            "_view_module_version": "1.2.0",
            "_model_module": "@jupyter-widgets/controls"
          }
        },
        "0665b9b4334f489f8d3083c743c16bff": {
          "model_module": "@jupyter-widgets/base",
          "model_name": "LayoutModel",
          "model_module_version": "1.2.0",
          "state": {
            "_view_name": "LayoutView",
            "grid_template_rows": null,
            "right": null,
            "justify_content": null,
            "_view_module": "@jupyter-widgets/base",
            "overflow": null,
            "_model_module_version": "1.2.0",
            "_view_count": null,
            "flex_flow": null,
            "width": null,
            "min_width": null,
            "border": null,
            "align_items": null,
            "bottom": null,
            "_model_module": "@jupyter-widgets/base",
            "top": null,
            "grid_column": null,
            "overflow_y": null,
            "overflow_x": null,
            "grid_auto_flow": null,
            "grid_area": null,
            "grid_template_columns": null,
            "flex": null,
            "_model_name": "LayoutModel",
            "justify_items": null,
            "grid_row": null,
            "max_height": null,
            "align_content": null,
            "visibility": null,
            "align_self": null,
            "height": null,
            "min_height": null,
            "padding": null,
            "grid_auto_rows": null,
            "grid_gap": null,
            "max_width": null,
            "order": null,
            "_view_module_version": "1.2.0",
            "grid_template_areas": null,
            "object_position": null,
            "object_fit": null,
            "grid_auto_columns": null,
            "margin": null,
            "display": null,
            "left": null
          }
        },
        "21efb17c36b848efbb67abcee81b910f": {
          "model_module": "@jupyter-widgets/controls",
          "model_name": "ProgressStyleModel",
          "model_module_version": "1.5.0",
          "state": {
            "_view_name": "StyleView",
            "_model_name": "ProgressStyleModel",
            "description_width": "",
            "_view_module": "@jupyter-widgets/base",
            "_model_module_version": "1.5.0",
            "_view_count": null,
            "_view_module_version": "1.2.0",
            "bar_color": null,
            "_model_module": "@jupyter-widgets/controls"
          }
        },
        "1b888b870bb546d8a114fba41209675e": {
          "model_module": "@jupyter-widgets/base",
          "model_name": "LayoutModel",
          "model_module_version": "1.2.0",
          "state": {
            "_view_name": "LayoutView",
            "grid_template_rows": null,
            "right": null,
            "justify_content": null,
            "_view_module": "@jupyter-widgets/base",
            "overflow": null,
            "_model_module_version": "1.2.0",
            "_view_count": null,
            "flex_flow": null,
            "width": null,
            "min_width": null,
            "border": null,
            "align_items": null,
            "bottom": null,
            "_model_module": "@jupyter-widgets/base",
            "top": null,
            "grid_column": null,
            "overflow_y": null,
            "overflow_x": null,
            "grid_auto_flow": null,
            "grid_area": null,
            "grid_template_columns": null,
            "flex": null,
            "_model_name": "LayoutModel",
            "justify_items": null,
            "grid_row": null,
            "max_height": null,
            "align_content": null,
            "visibility": null,
            "align_self": null,
            "height": null,
            "min_height": null,
            "padding": null,
            "grid_auto_rows": null,
            "grid_gap": null,
            "max_width": null,
            "order": null,
            "_view_module_version": "1.2.0",
            "grid_template_areas": null,
            "object_position": null,
            "object_fit": null,
            "grid_auto_columns": null,
            "margin": null,
            "display": null,
            "left": null
          }
        },
        "cc5577fc059e46e184e9630e9c46078a": {
          "model_module": "@jupyter-widgets/controls",
          "model_name": "DescriptionStyleModel",
          "model_module_version": "1.5.0",
          "state": {
            "_view_name": "StyleView",
            "_model_name": "DescriptionStyleModel",
            "description_width": "",
            "_view_module": "@jupyter-widgets/base",
            "_model_module_version": "1.5.0",
            "_view_count": null,
            "_view_module_version": "1.2.0",
            "_model_module": "@jupyter-widgets/controls"
          }
        },
        "6d9e2565688b45c18bf73590b1cfba59": {
          "model_module": "@jupyter-widgets/base",
          "model_name": "LayoutModel",
          "model_module_version": "1.2.0",
          "state": {
            "_view_name": "LayoutView",
            "grid_template_rows": null,
            "right": null,
            "justify_content": null,
            "_view_module": "@jupyter-widgets/base",
            "overflow": null,
            "_model_module_version": "1.2.0",
            "_view_count": null,
            "flex_flow": null,
            "width": null,
            "min_width": null,
            "border": null,
            "align_items": null,
            "bottom": null,
            "_model_module": "@jupyter-widgets/base",
            "top": null,
            "grid_column": null,
            "overflow_y": null,
            "overflow_x": null,
            "grid_auto_flow": null,
            "grid_area": null,
            "grid_template_columns": null,
            "flex": null,
            "_model_name": "LayoutModel",
            "justify_items": null,
            "grid_row": null,
            "max_height": null,
            "align_content": null,
            "visibility": null,
            "align_self": null,
            "height": null,
            "min_height": null,
            "padding": null,
            "grid_auto_rows": null,
            "grid_gap": null,
            "max_width": null,
            "order": null,
            "_view_module_version": "1.2.0",
            "grid_template_areas": null,
            "object_position": null,
            "object_fit": null,
            "grid_auto_columns": null,
            "margin": null,
            "display": null,
            "left": null
          }
        }
      }
    }
  },
  "cells": [
    {
      "cell_type": "markdown",
      "metadata": {
        "id": "view-in-github",
        "colab_type": "text"
      },
      "source": [
        "<a href=\"https://colab.research.google.com/github/remre/striveschool/blob/main/DLStudies.ipynb\" target=\"_parent\"><img src=\"https://colab.research.google.com/assets/colab-badge.svg\" alt=\"Open In Colab\"/></a>"
      ]
    },
    {
      "cell_type": "markdown",
      "metadata": {
        "id": "qsSrymNddHnQ"
      },
      "source": [
        "#**Deep Learning with Examples**"
      ]
    },
    {
      "cell_type": "markdown",
      "metadata": {
        "id": "N7li-suqciIH"
      },
      "source": [
        "##**MNIST Example**"
      ]
    },
    {
      "cell_type": "code",
      "metadata": {
        "id": "1VD7wjHtcYhZ"
      },
      "source": [
        "#to start with we need to import necessary library\n",
        "import numpy as np\n",
        "import matplotlib.pyplot as plt\n",
        "import torch\n",
        "from tqdm.notebook import tqdm\n",
        "from torchvision import datasets, transforms\n",
        "import torch.nn.functional as F"
      ],
      "execution_count": null,
      "outputs": []
    },
    {
      "cell_type": "code",
      "metadata": {
        "id": "S3LwvdUwg9Gy",
        "colab": {
          "base_uri": "https://localhost:8080/",
          "height": 490,
          "referenced_widgets": [
            "b1499a3a50b345289c4841a8275e2e6e",
            "50ab7dbff97247f7bd8e68a27ab7df10",
            "ffc84a80b2f7449b9929aca9d45d43b5",
            "4903873642074850af53f09690bb534e",
            "b7fde1cf6b67465ba7efa7361f15b887",
            "4a759fa257f84ce681de7b955b18ffe7",
            "99277812761f4fde88790f8221c8305e",
            "f1d3d65ce90e4e768ffb115646ec05f1",
            "e7336ed918db44afae5002ab95a2f6e4",
            "386d3e56751249469bd014d7330d63c2",
            "778f285e45c547bcaa74de6ca29614dd",
            "3a0ce61795bd4d81a0d9f57406ccf1bc",
            "fa5f1619c4b345f5af191f43bf78b6e5",
            "a67bd9d5800a4174acc22703c56ace2f",
            "e11bf9bf75234f47a26caaca19e57789",
            "f4e9c019fd864da1b396a64e0d802b4d",
            "12a23fc98a854fefa95fc3da76837844",
            "e4a8b2c17cdc451d8f25ce3bf080b0ec",
            "54b90f8b2ff84d40bf4d8dda7d6c3212",
            "fe253cc22ed143cb8b8fb143ae16aac5",
            "bcc50ba192fa4a1ba0de4272d763e835",
            "d836f2952e614cf198dd71a8653ac5a6",
            "bc779f6c3e994619a10d50dd101d518b",
            "a74ac6c882484ab6b7e17c85179bb494",
            "14e0d26fa50545359dde0d81bb8621de",
            "eb64d182d5534ae4889d13f411e0d54c",
            "9e3ebcfe19504f94a886027bd75666ec",
            "2cc80b03aeee402390242cc8b8b711c3",
            "0000b5ad6d7c4429a17971e1ca35254f",
            "f61522520a024e0ab142fc2d3bf9e894",
            "5b3a7e754315449ab70ce540c69cd3f6",
            "798069fbb63c4da883dc6bd2248a6097",
            "862400059d134e76937f13a0184a30bc",
            "767f1604c0b04ed3a2df3f7720515e87",
            "7ae9563b6d224ff682ea717bd30c5b7c",
            "d2ed7fe7157447a4b855d45c15b3a775",
            "40f73951673348cebda0e9a9e00726db",
            "7ddb3e1b2ad34da59c09ed432c525aef",
            "2f2845f8b3c54a8794613c0a444b32f8",
            "0665b9b4334f489f8d3083c743c16bff",
            "21efb17c36b848efbb67abcee81b910f",
            "1b888b870bb546d8a114fba41209675e",
            "cc5577fc059e46e184e9630e9c46078a",
            "6d9e2565688b45c18bf73590b1cfba59"
          ]
        },
        "outputId": "cbba876a-ec77-4240-c5a4-c85c8a506af5"
      },
      "source": [
        "#we need to give True for the train set and for transform just use ToTensor and to enhance our model we will use RandomHorizantalFlip\n",
        "train_transform = transforms.Compose([transforms.ToTensor(), transforms.RandomHorizontalFlip()])\n",
        "\n",
        "mnist_train = datasets.MNIST(root = './datasets',train = True, transform = train_transform, download = True) # \n",
        "\n",
        "\n",
        "mnist_test = datasets.MNIST(root = './datasets', train = False, transform = transforms.ToTensor(), download = True)"
      ],
      "execution_count": null,
      "outputs": [
        {
          "output_type": "stream",
          "name": "stdout",
          "text": [
            "Downloading http://yann.lecun.com/exdb/mnist/train-images-idx3-ubyte.gz\n",
            "Downloading http://yann.lecun.com/exdb/mnist/train-images-idx3-ubyte.gz to ./datasets/MNIST/raw/train-images-idx3-ubyte.gz\n"
          ]
        },
        {
          "output_type": "display_data",
          "data": {
            "application/vnd.jupyter.widget-view+json": {
              "model_id": "b1499a3a50b345289c4841a8275e2e6e",
              "version_minor": 0,
              "version_major": 2
            },
            "text/plain": [
              "  0%|          | 0/9912422 [00:00<?, ?it/s]"
            ]
          },
          "metadata": {}
        },
        {
          "output_type": "stream",
          "name": "stdout",
          "text": [
            "Extracting ./datasets/MNIST/raw/train-images-idx3-ubyte.gz to ./datasets/MNIST/raw\n",
            "\n",
            "Downloading http://yann.lecun.com/exdb/mnist/train-labels-idx1-ubyte.gz\n",
            "Downloading http://yann.lecun.com/exdb/mnist/train-labels-idx1-ubyte.gz to ./datasets/MNIST/raw/train-labels-idx1-ubyte.gz\n"
          ]
        },
        {
          "output_type": "display_data",
          "data": {
            "application/vnd.jupyter.widget-view+json": {
              "model_id": "3a0ce61795bd4d81a0d9f57406ccf1bc",
              "version_minor": 0,
              "version_major": 2
            },
            "text/plain": [
              "  0%|          | 0/28881 [00:00<?, ?it/s]"
            ]
          },
          "metadata": {}
        },
        {
          "output_type": "stream",
          "name": "stdout",
          "text": [
            "Extracting ./datasets/MNIST/raw/train-labels-idx1-ubyte.gz to ./datasets/MNIST/raw\n",
            "\n",
            "Downloading http://yann.lecun.com/exdb/mnist/t10k-images-idx3-ubyte.gz\n",
            "Downloading http://yann.lecun.com/exdb/mnist/t10k-images-idx3-ubyte.gz to ./datasets/MNIST/raw/t10k-images-idx3-ubyte.gz\n"
          ]
        },
        {
          "output_type": "display_data",
          "data": {
            "application/vnd.jupyter.widget-view+json": {
              "model_id": "bc779f6c3e994619a10d50dd101d518b",
              "version_minor": 0,
              "version_major": 2
            },
            "text/plain": [
              "  0%|          | 0/1648877 [00:00<?, ?it/s]"
            ]
          },
          "metadata": {}
        },
        {
          "output_type": "stream",
          "name": "stdout",
          "text": [
            "Extracting ./datasets/MNIST/raw/t10k-images-idx3-ubyte.gz to ./datasets/MNIST/raw\n",
            "\n",
            "Downloading http://yann.lecun.com/exdb/mnist/t10k-labels-idx1-ubyte.gz\n",
            "Downloading http://yann.lecun.com/exdb/mnist/t10k-labels-idx1-ubyte.gz to ./datasets/MNIST/raw/t10k-labels-idx1-ubyte.gz\n"
          ]
        },
        {
          "output_type": "display_data",
          "data": {
            "application/vnd.jupyter.widget-view+json": {
              "model_id": "767f1604c0b04ed3a2df3f7720515e87",
              "version_minor": 0,
              "version_major": 2
            },
            "text/plain": [
              "  0%|          | 0/4542 [00:00<?, ?it/s]"
            ]
          },
          "metadata": {}
        },
        {
          "output_type": "stream",
          "name": "stdout",
          "text": [
            "Extracting ./datasets/MNIST/raw/t10k-labels-idx1-ubyte.gz to ./datasets/MNIST/raw\n",
            "\n"
          ]
        },
        {
          "output_type": "stream",
          "name": "stderr",
          "text": [
            "/usr/local/lib/python3.7/dist-packages/torchvision/datasets/mnist.py:498: UserWarning: The given NumPy array is not writeable, and PyTorch does not support non-writeable tensors. This means you can write to the underlying (supposedly non-writeable) NumPy array using the tensor. You may want to copy the array to protect its data or make it writeable before converting it to a tensor. This type of warning will be suppressed for the rest of this program. (Triggered internally at  /pytorch/torch/csrc/utils/tensor_numpy.cpp:180.)\n",
            "  return torch.from_numpy(parsed.astype(m[2], copy=False)).view(*s)\n"
          ]
        }
      ]
    },
    {
      "cell_type": "code",
      "metadata": {
        "colab": {
          "base_uri": "https://localhost:8080/"
        },
        "id": "33ME5tTBiZ12",
        "outputId": "4e8d0cb5-49a4-41d8-ba31-989743f52e1d"
      },
      "source": [
        "\n",
        "print(f'mnist_train length is {len(mnist_train)}')\n",
        "print(f'mnist_test lenght is {len(mnist_test)}')"
      ],
      "execution_count": null,
      "outputs": [
        {
          "output_type": "stream",
          "name": "stdout",
          "text": [
            "mnist_train length is 60000\n",
            "mnist_test lenght is 10000\n"
          ]
        }
      ]
    },
    {
      "cell_type": "code",
      "metadata": {
        "id": "Vm0hQjzOigXp"
      },
      "source": [
        "image, label = next(iter(mnist_train))# we will seperate labels and images as u can see"
      ],
      "execution_count": null,
      "outputs": []
    },
    {
      "cell_type": "code",
      "metadata": {
        "id": "6DKx-CyMj4jl"
      },
      "source": [
        "image"
      ],
      "execution_count": null,
      "outputs": []
    },
    {
      "cell_type": "code",
      "metadata": {
        "colab": {
          "base_uri": "https://localhost:8080/"
        },
        "id": "yo86oaztj59Z",
        "outputId": "adf638ed-9374-4d46-f97d-b6cf9dec0724"
      },
      "source": [
        "print(f'images shape: {image.shape}')"
      ],
      "execution_count": null,
      "outputs": [
        {
          "output_type": "stream",
          "name": "stdout",
          "text": [
            "images shape: torch.Size([1, 28, 28])\n"
          ]
        }
      ]
    },
    {
      "cell_type": "code",
      "metadata": {
        "colab": {
          "base_uri": "https://localhost:8080/",
          "height": 301
        },
        "id": "U3OQ_7hakN5C",
        "outputId": "3abf6e06-cf58-4663-8288-4fc7f3a89543"
      },
      "source": [
        "print(\"Reshaped image shape: {}\".format(image.shape))\n",
        "image = image.reshape([28,28])\n",
        "plt.imshow(image, cmap=\"gray\")"
      ],
      "execution_count": null,
      "outputs": [
        {
          "output_type": "stream",
          "name": "stdout",
          "text": [
            "Reshaped image shape: torch.Size([1, 28, 28])\n"
          ]
        },
        {
          "output_type": "execute_result",
          "data": {
            "text/plain": [
              "<matplotlib.image.AxesImage at 0x7ff89735dc90>"
            ]
          },
          "metadata": {},
          "execution_count": 7
        },
        {
          "output_type": "display_data",
          "data": {
            "image/png": "[encoded data removed]",
            "text/plain": [
              "<Figure size 432x288 with 1 Axes>"
            ]
          },
          "metadata": {
            "needs_background": "light"
          }
        }
      ]
    },
    {
      "cell_type": "code",
      "metadata": {
        "id": "xeHRmmLMndGT"
      },
      "source": [
        "trainloader = torch.utils.data.DataLoader(mnist_train,batch_size = 100, shuffle= True) #batch size is blabalba  shuffle is shuffling it \n",
        "testloader = torch.utils.data.DataLoader(mnist_test, batch_size= 100, shuffle = False) #dont need to shuffle testloader"
      ],
      "execution_count": null,
      "outputs": []
    },
    {
      "cell_type": "code",
      "metadata": {
        "id": "YxkQlDmArhKx"
      },
      "source": [
        "images, labels = next(iter(trainloader))"
      ],
      "execution_count": null,
      "outputs": []
    },
    {
      "cell_type": "code",
      "metadata": {
        "colab": {
          "base_uri": "https://localhost:8080/"
        },
        "id": "ApEJH2hZrhNP",
        "outputId": "9b6d3e45-21ab-4715-92bc-83ba6daf71fc"
      },
      "source": [
        "print(f'the shape of images and labels are expressed in order:{images.shape,labels.shape} \\nfirst value of images stands for batch size second is channel\\nthen height and width of image ')"
      ],
      "execution_count": null,
      "outputs": [
        {
          "output_type": "stream",
          "name": "stdout",
          "text": [
            "the shape of images and labels are expressed in order:(torch.Size([100, 1, 28, 28]), torch.Size([100])) \n",
            "first value of images stands for batch size second is channel\n",
            "then height and width of image \n"
          ]
        }
      ]
    },
    {
      "cell_type": "markdown",
      "metadata": {
        "id": "_mBbF1Xp4Kys"
      },
      "source": [
        "Now we can go through the next step which is forward pass\n",
        "\n",
        "Thus, we're going to be treating the input as flat vectors. To convert our inputs into row vectors (a.k.a. flattening), we can use view(), the equivalent of NumPy's reshape()\n",
        "\n",
        "\n",
        " Also like NumPy, we can replace one of the dimensions of the reshaping with a -1, which tells PyTorch to infer this dimension based on the original dimensions and the other specified dimensions."
      ]
    },
    {
      "cell_type": "code",
      "metadata": {
        "colab": {
          "base_uri": "https://localhost:8080/"
        },
        "id": "Tb8BkreB4QRz",
        "outputId": "41908098-1007-4eba-98ce-34787bc08a35"
      },
      "source": [
        "x = images.view(-1,28*28)\n",
        "print(x.shape)"
      ],
      "execution_count": null,
      "outputs": [
        {
          "output_type": "stream",
          "name": "stdout",
          "text": [
            "torch.Size([100, 784])\n"
          ]
        }
      ]
    },
    {
      "cell_type": "code",
      "metadata": {
        "id": "Owo1xEaA4tNg"
      },
      "source": [
        "# Randomly initialize weights W\n",
        "W = torch.randn(784, 10)/np.sqrt(784)\n",
        "W.requires_grad_()\n",
        "\n",
        "\n",
        "# Initialize bias b as 0s\n",
        "b = torch.zeros(10, requires_grad=True)"
      ],
      "execution_count": null,
      "outputs": []
    },
    {
      "cell_type": "markdown",
      "metadata": {
        "id": "FNpPdTjn-Zoc"
      },
      "source": [
        "As both W and b are parameters we wish to learn, we set **requires_grad** to True. This tells PyTorch's autograd to track the gradients for these two variables, and all the variables depending on W and b.\n",
        "\n",
        "With these model parameters, we compute  𝑦 :"
      ]
    },
    {
      "cell_type": "code",
      "metadata": {
        "id": "SNB51y4P-TTl"
      },
      "source": [
        "# Linear transformation with W and b\n",
        "y = torch.matmul(x, W) + b"
      ],
      "execution_count": null,
      "outputs": []
    },
    {
      "cell_type": "markdown",
      "metadata": {
        "id": "lyI6NYe0dFOk"
      },
      "source": [
        "the softmax achieves the desired property of producing values between 0 and 1 that sum to 1."
      ]
    },
    {
      "cell_type": "code",
      "metadata": {
        "colab": {
          "base_uri": "https://localhost:8080/"
        },
        "id": "c61yPaDu-Vfy",
        "outputId": "880154a8-3d5d-4411-d9f6-c02a1d50d55a"
      },
      "source": [
        "# Option 1: Softmax to probabilities from equation\n",
        "py_eq = torch.exp(y) / torch.sum(torch.exp(y), dim=1, keepdim=True)\n",
        "print(\"py[0] from equation: {}\".format(py_eq[0]))\n",
        "\n",
        "# Option 2: Softmax to probabilities with torch.nn.functional\n",
        "\n",
        "py = F.softmax(y, dim=1)\n",
        "print(\"py[0] with torch.nn.functional.softmax: {}\".format(py[0]))"
      ],
      "execution_count": null,
      "outputs": [
        {
          "output_type": "stream",
          "name": "stdout",
          "text": [
            "py[0] from equation: tensor([0.0737, 0.1074, 0.0684, 0.0940, 0.1117, 0.0882, 0.1535, 0.0379, 0.1340,\n",
            "        0.1311], grad_fn=<SelectBackward>)\n",
            "py[0] with torch.nn.functional.softmax: tensor([0.0737, 0.1074, 0.0684, 0.0940, 0.1117, 0.0882, 0.1535, 0.0379, 0.1340,\n",
            "        0.1311], grad_fn=<SelectBackward>)\n"
          ]
        }
      ]
    },
    {
      "cell_type": "markdown",
      "metadata": {
        "id": "qL5DQ9nA_Dmr"
      },
      "source": [
        "###Loss Functions\n",
        "\n",
        "We will execute cross entropy for the mnist model however this section includes some other examples of loss either"
      ]
    },
    {
      "cell_type": "markdown",
      "metadata": {
        "id": "K42TSM2kb9fo"
      },
      "source": [
        "CrossEntropy combines LogSoftmax and NLLLoss in one single class."
      ]
    },
    {
      "cell_type": "code",
      "metadata": {
        "colab": {
          "base_uri": "https://localhost:8080/"
        },
        "id": "riKcSpwL-pN0",
        "outputId": "f98eae30-a16f-4335-c7c4-7062a6eeafe8"
      },
      "source": [
        "# Cross-entropy loss from equation\n",
        "cross_entropy_eq = torch.mean(-torch.log(py_eq)[range(labels.shape[0]),labels])\n",
        "print(\"cross entropy from equation: {}\".format(cross_entropy_eq))\n",
        "\n",
        "# Option 2: cross-entropy loss with torch.nn.functional\n",
        "cross_entropy = F.cross_entropy(y, labels)\n",
        "print(f\"cross entropy with torch.nn.functional.cross_entropy: {cross_entropy}\" )"
      ],
      "execution_count": null,
      "outputs": [
        {
          "output_type": "stream",
          "name": "stdout",
          "text": [
            "cross entropy from equation: 2.340156078338623\n",
            "cross entropy with torch.nn.functional.cross_entropy: 2.340156078338623\n"
          ]
        }
      ]
    },
    {
      "cell_type": "code",
      "metadata": {
        "id": "0iPWr7bI_Q_f",
        "colab": {
          "base_uri": "https://localhost:8080/"
        },
        "outputId": "0ed27ab2-247d-44fa-dee8-bf694df2e3f3"
      },
      "source": [
        "[range(labels.shape[0]),labels]"
      ],
      "execution_count": null,
      "outputs": [
        {
          "output_type": "execute_result",
          "data": {
            "text/plain": [
              "[range(0, 100),\n",
              " tensor([2, 5, 3, 5, 5, 0, 3, 6, 3, 2, 9, 0, 2, 2, 8, 0, 3, 2, 3, 8, 6, 2, 0, 1,\n",
              "         1, 1, 4, 8, 8, 6, 3, 9, 2, 7, 4, 6, 9, 6, 0, 6, 3, 9, 1, 8, 1, 3, 6, 4,\n",
              "         0, 7, 1, 4, 8, 0, 4, 3, 7, 0, 3, 5, 3, 7, 4, 2, 9, 6, 0, 1, 6, 9, 7, 7,\n",
              "         6, 8, 2, 4, 8, 2, 7, 1, 2, 6, 9, 7, 0, 6, 9, 5, 1, 1, 1, 1, 0, 5, 6, 1,\n",
              "         1, 0, 1, 6])]"
            ]
          },
          "metadata": {},
          "execution_count": 16
        }
      ]
    },
    {
      "cell_type": "code",
      "metadata": {
        "colab": {
          "base_uri": "https://localhost:8080/"
        },
        "id": "Lw_UHILLd4Gh",
        "outputId": "faa0d138-a83b-4835-9061-4ca00e6e0464"
      },
      "source": [
        "torch.mean(images)"
      ],
      "execution_count": null,
      "outputs": [
        {
          "output_type": "execute_result",
          "data": {
            "text/plain": [
              "tensor(0.1316)"
            ]
          },
          "metadata": {},
          "execution_count": 17
        }
      ]
    },
    {
      "cell_type": "markdown",
      "metadata": {
        "id": "CfLlev4sXDYg"
      },
      "source": [
        "####Mean Squared Logarithmic Error Loss"
      ]
    },
    {
      "cell_type": "markdown",
      "metadata": {
        "id": "9uG0VJMoXIdU"
      },
      "source": [
        "There may be regression problems in which the target value has a spread of values and when predicting a large value, you may not want to punish a model as heavily as mean squared error.\n",
        "\n",
        "\n",
        "As a loss measure, it may be more appropriate when the model is predicting unscaled quantities directly. Nevertheless, we can demonstrate this loss function using our simple regression problem."
      ]
    },
    {
      "cell_type": "markdown",
      "metadata": {
        "id": "IiYr-SaCckBf"
      },
      "source": [
        "####NLLLOSS"
      ]
    },
    {
      "cell_type": "markdown",
      "metadata": {
        "id": "zewpN7lxckFD"
      },
      "source": [
        "The negative log likelihood loss. It is useful to train a classification problem with C classes.\n",
        "\n",
        "\n",
        "Obtaining log-probabilities in a neural network is easily achieved by adding a LogSoftmax layer in the last layer of your network. You may use CrossEntropyLoss instead, if you prefer not to add an extra layer."
      ]
    },
    {
      "cell_type": "markdown",
      "metadata": {
        "id": "hpUcTSldjKBY"
      },
      "source": [
        "###Binary Cross-Entropy Loss\n"
      ]
    },
    {
      "cell_type": "markdown",
      "metadata": {
        "id": "KA9c4W65jLNn"
      },
      "source": [
        "This is used for measuring the error of a reconstruction in for example an auto-encoder. Note that the targets yy should be numbers between 0 and 1."
      ]
    },
    {
      "cell_type": "markdown",
      "metadata": {
        "id": "t67G85BppqwB"
      },
      "source": [
        "####GAUSSIANNLLLOSS\n",
        "\n",
        "torch.nn.GaussianNLLLoss"
      ]
    },
    {
      "cell_type": "markdown",
      "metadata": {
        "id": "sXn_o89zmmsy"
      },
      "source": [
        "![image.png](data:image/png;base64,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)"
      ]
    },
    {
      "cell_type": "markdown",
      "metadata": {
        "id": "iQIwkkr-dql2"
      },
      "source": [
        "###The Backwards Pass"
      ]
    },
    {
      "cell_type": "markdown",
      "metadata": {
        "id": "YxiyViImduPQ"
      },
      "source": [
        "We can improve our model by changing the parameters in a way that minimizes the loss.\n",
        "\n",
        " For neural networks, the common way of doing this is with backpropagation: we take the gradient of the loss with respect to  𝑊  and  𝑏  and take a step in the direction that reduces our loss.\n",
        "\n",
        " First, we need to create an optimizer. There are many choices, but since logistic regression is fairly simple, we'll use standard stochastic gradient descent (SGD)"
      ]
    },
    {
      "cell_type": "code",
      "metadata": {
        "id": "yiRkE_E9XG9-"
      },
      "source": [
        "optimizer = torch.optim.SGD([W,b], lr=0.1,momentum=5)"
      ],
      "execution_count": null,
      "outputs": []
    },
    {
      "cell_type": "markdown",
      "metadata": {
        "id": "krFLl6DBexn0"
      },
      "source": [
        "When we created our parameters  𝑊  and  𝑏 , we indicated that they \n",
        "\n",
        "\n",
        "\n",
        "require gradients. To compute the gradients for  𝑊  and  𝑏 , we call the backward() function on the cross-entropy loss."
      ]
    },
    {
      "cell_type": "code",
      "metadata": {
        "id": "56yd3XSOegyV"
      },
      "source": [
        "cross_entropy.backward()"
      ],
      "execution_count": null,
      "outputs": []
    },
    {
      "cell_type": "markdown",
      "metadata": {
        "id": "MwPsy-Bce0jB"
      },
      "source": [
        "Each of the variables that required gradients have now accumulated gradients. We can see these for example on b:"
      ]
    },
    {
      "cell_type": "code",
      "metadata": {
        "colab": {
          "base_uri": "https://localhost:8080/"
        },
        "id": "w6XVPxgse5Zf",
        "outputId": "17357da2-3724-4436-a4ac-3aa1f142b439"
      },
      "source": [
        "b.grad"
      ],
      "execution_count": null,
      "outputs": [
        {
          "output_type": "execute_result",
          "data": {
            "text/plain": [
              "tensor([-0.0105, -0.0324, -0.0115, -0.0233,  0.0395,  0.0491, -0.0290, -0.0149,\n",
              "         0.0297,  0.0034])"
            ]
          },
          "metadata": {},
          "execution_count": 20
        }
      ]
    },
    {
      "cell_type": "markdown",
      "metadata": {
        "id": "8uqvzPLce2ZJ"
      },
      "source": [
        "To apply the gradients, we have an optimizer, we can tell it to perform \n",
        "\n",
        "\n",
        "the update step for us:"
      ]
    },
    {
      "cell_type": "code",
      "metadata": {
        "id": "XAvPbWM8fDqP"
      },
      "source": [
        "optimizer.step()"
      ],
      "execution_count": null,
      "outputs": []
    },
    {
      "cell_type": "code",
      "metadata": {
        "colab": {
          "base_uri": "https://localhost:8080/"
        },
        "id": "BnpOMzrYfRea",
        "outputId": "a1a3cba2-879c-4e6e-fd4d-5474c325fa61"
      },
      "source": [
        "b"
      ],
      "execution_count": null,
      "outputs": [
        {
          "output_type": "execute_result",
          "data": {
            "text/plain": [
              "tensor([ 0.0011,  0.0032,  0.0012,  0.0023, -0.0040, -0.0049,  0.0029,  0.0015,\n",
              "        -0.0030, -0.0003], requires_grad=True)"
            ]
          },
          "metadata": {},
          "execution_count": 22
        }
      ]
    },
    {
      "cell_type": "code",
      "metadata": {
        "colab": {
          "base_uri": "https://localhost:8080/"
        },
        "id": "6y7dhGH7fXNQ",
        "outputId": "291781a8-5469-474e-bbee-0950fe1401b6"
      },
      "source": [
        "print(\"b.grad before zero_grad(): {}\".format(b.grad))\n",
        "optimizer.zero_grad()\n",
        "print(\"b.grad after zero_grad(): {}\".format(b.grad))"
      ],
      "execution_count": null,
      "outputs": [
        {
          "output_type": "stream",
          "name": "stdout",
          "text": [
            "b.grad before zero_grad(): tensor([-0.0105, -0.0324, -0.0115, -0.0233,  0.0395,  0.0491, -0.0290, -0.0149,\n",
            "         0.0297,  0.0034])\n",
            "b.grad after zero_grad(): tensor([0., 0., 0., 0., 0., 0., 0., 0., 0., 0.])\n"
          ]
        }
      ]
    },
    {
      "cell_type": "code",
      "metadata": {
        "id": "-syfsZzsflrI"
      },
      "source": [
        "for images, labels in (iter(trainloader)):\n",
        "    # Zero out the gradients\n",
        "    optimizer.zero_grad()\n",
        "    \n",
        "    # Forward pass\n",
        "    x = images.view(-1, 28*28)\n",
        "    y = torch.matmul(x, W) + b\n",
        "    cross_entropy = F.cross_entropy(y, labels)\n",
        "    # Backward pass\n",
        "    cross_entropy.backward()\n",
        "    optimizer.step()"
      ],
      "execution_count": null,
      "outputs": []
    },
    {
      "cell_type": "code",
      "metadata": {
        "id": "_InNw5BGflt2"
      },
      "source": [
        ""
      ],
      "execution_count": null,
      "outputs": []
    },
    {
      "cell_type": "code",
      "metadata": {
        "id": "EH8VYBQ9flxJ"
      },
      "source": [
        ""
      ],
      "execution_count": null,
      "outputs": []
    },
    {
      "cell_type": "markdown",
      "metadata": {
        "id": "0OR_V5hAhzlZ"
      },
      "source": [
        "You'll commonly finding yourself needing to reshape tensors while building CNNs. The PyTorch function for doing so is view(). Anyone familiar with NumPy will find it very similar to np.reshape(). Importantly, the new dimensions must be chosen so that it is possible to rearrange the input into the shape of the output (i.e. the total number of elements must be the same). As with NumPy, you can optionally replace one of the dimensions with a -1, which tells torch to infer the missing dimension"
      ]
    },
    {
      "cell_type": "markdown",
      "metadata": {
        "id": "NOCuGVRfo77b"
      },
      "source": [
        "![image.png](data:image/png;base64,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)"
      ]
    },
    {
      "cell_type": "code",
      "metadata": {
        "id": "Vr5jGmMNek4x"
      },
      "source": [
        ""
      ],
      "execution_count": null,
      "outputs": []
    }
  ]
}