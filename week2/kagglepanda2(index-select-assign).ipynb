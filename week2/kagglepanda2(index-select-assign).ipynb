{
  "nbformat": 4,
  "nbformat_minor": 0,
  "metadata": {
    "kernelspec": {
      "language": "python",
      "display_name": "Python 3",
      "name": "python3"
    },
    "language_info": {
      "pygments_lexer": "ipython3",
      "nbconvert_exporter": "python",
      "version": "3.6.4",
      "file_extension": ".py",
      "codemirror_mode": {
        "name": "ipython",
        "version": 3
      },
      "name": "python",
      "mimetype": "text/x-python"
    },
    "colab": {
      "name": "kagglepanda2(indexselcetaassign).ipynb",
      "provenance": [],
      "include_colab_link": true
    }
  },
  "cells": [
    {
      "cell_type": "markdown",
      "metadata": {
        "id": "view-in-github",
        "colab_type": "text"
      },
      "source": [
        "<a href=\"https://colab.research.google.com/github/remre/striveschool/blob/main/week2/kagglepanda2(index-select-assign).ipynb\" target=\"_parent\"><img src=\"https://colab.research.google.com/assets/colab-badge.svg\" alt=\"Open In Colab\"/></a>"
      ]
    },
    {
      "cell_type": "markdown",
      "metadata": {
        "id": "12bPk2oDOaB6"
      },
      "source": [
        "**This notebook is an exercise in the [Pandas](https://www.kaggle.com/learn/pandas) course.  You can reference the tutorial at [this link](https://www.kaggle.com/residentmario/indexing-selecting-assigning).**\n",
        "\n",
        "---\n"
      ]
    },
    {
      "cell_type": "markdown",
      "metadata": {
        "id": "4R9dNDskOaB8"
      },
      "source": [
        "# Introduction\n",
        "\n",
        "In this set of exercises we will work with the [Wine Reviews dataset](https://www.kaggle.com/zynicide/wine-reviews). "
      ]
    },
    {
      "cell_type": "markdown",
      "metadata": {
        "id": "U6NJCocCOaCA"
      },
      "source": [
        "Run the following cell to load your data and some utility functions (including code to check your answers)."
      ]
    },
    {
      "cell_type": "code",
      "metadata": {
        "execution": {
          "iopub.status.busy": "2021-07-03T11:08:45.052763Z",
          "iopub.execute_input": "2021-07-03T11:08:45.053465Z",
          "iopub.status.idle": "2021-07-03T11:08:47.801184Z",
          "shell.execute_reply.started": "2021-07-03T11:08:45.053347Z",
          "shell.execute_reply": "2021-07-03T11:08:47.79979Z"
        },
        "trusted": true,
        "id": "XaysMLibOaCB"
      },
      "source": [
        "import pandas as pd\n",
        "\n",
        "reviews = pd.read_csv(\"../input/wine-reviews/winemag-data-130k-v2.csv\", index_col=0)\n",
        "pd.set_option(\"display.max_rows\", 5)\n",
        "\n",
        "from learntools.core import binder; binder.bind(globals())\n",
        "from learntools.pandas.indexing_selecting_and_assigning import *\n",
        "print(\"Setup complete.\")"
      ],
      "execution_count": null,
      "outputs": []
    },
    {
      "cell_type": "markdown",
      "metadata": {
        "id": "pfQAQOdDOaCC"
      },
      "source": [
        "Look at an overview of your data by running the following line."
      ]
    },
    {
      "cell_type": "code",
      "metadata": {
        "execution": {
          "iopub.status.busy": "2021-07-03T11:08:47.803186Z",
          "iopub.execute_input": "2021-07-03T11:08:47.803517Z",
          "iopub.status.idle": "2021-07-03T11:08:47.830042Z",
          "shell.execute_reply.started": "2021-07-03T11:08:47.803483Z",
          "shell.execute_reply": "2021-07-03T11:08:47.828991Z"
        },
        "trusted": true,
        "id": "62jNnCfyOaCD"
      },
      "source": [
        "reviews.head()"
      ],
      "execution_count": null,
      "outputs": []
    },
    {
      "cell_type": "markdown",
      "metadata": {
        "id": "ei851g5SOaCE"
      },
      "source": [
        "# Exercises"
      ]
    },
    {
      "cell_type": "markdown",
      "metadata": {
        "id": "fdk1pizQOaCE"
      },
      "source": [
        "## 1.\n",
        "\n",
        "Select the `description` column from `reviews` and assign the result to the variable `desc`."
      ]
    },
    {
      "cell_type": "code",
      "metadata": {
        "execution": {
          "iopub.status.busy": "2021-07-03T11:08:47.831738Z",
          "iopub.execute_input": "2021-07-03T11:08:47.832052Z",
          "iopub.status.idle": "2021-07-03T11:08:47.843696Z",
          "shell.execute_reply.started": "2021-07-03T11:08:47.832022Z",
          "shell.execute_reply": "2021-07-03T11:08:47.842596Z"
        },
        "trusted": true,
        "id": "x1IwxPbaOaCF"
      },
      "source": [
        "# Your code here\n",
        "desc = reviews[\"description\"]\n",
        "\n",
        "# Check your answer\n",
        "q1.check()"
      ],
      "execution_count": null,
      "outputs": []
    },
    {
      "cell_type": "markdown",
      "metadata": {
        "id": "rXQ4BIznOaCG"
      },
      "source": [
        "Follow-up question: what type of object is `desc`? If you're not sure, you can check by calling Python's `type` function: `type(desc)`."
      ]
    },
    {
      "cell_type": "code",
      "metadata": {
        "execution": {
          "iopub.status.busy": "2021-07-03T11:08:47.845212Z",
          "iopub.execute_input": "2021-07-03T11:08:47.8455Z",
          "iopub.status.idle": "2021-07-03T11:08:47.852859Z",
          "shell.execute_reply.started": "2021-07-03T11:08:47.845473Z",
          "shell.execute_reply": "2021-07-03T11:08:47.851358Z"
        },
        "trusted": true,
        "id": "LQndPwEWOaCG"
      },
      "source": [
        "#q1.hint()\n",
        "#q1.solution()"
      ],
      "execution_count": null,
      "outputs": []
    },
    {
      "cell_type": "markdown",
      "metadata": {
        "id": "IMXhM2lTOaCG"
      },
      "source": [
        "## 2.\n",
        "\n",
        "Select the first value from the description column of `reviews`, assigning it to variable `first_description`."
      ]
    },
    {
      "cell_type": "code",
      "metadata": {
        "execution": {
          "iopub.status.busy": "2021-07-03T11:08:47.856699Z",
          "iopub.execute_input": "2021-07-03T11:08:47.857109Z",
          "iopub.status.idle": "2021-07-03T11:08:47.882037Z",
          "shell.execute_reply.started": "2021-07-03T11:08:47.857075Z",
          "shell.execute_reply": "2021-07-03T11:08:47.881148Z"
        },
        "trusted": true,
        "id": "F8GXf-iDOaCH"
      },
      "source": [
        "first_description  = desc[0]\n",
        "first_desc = reviews.description.iloc[0]\n",
        "first_desc\n",
        "\n",
        "# Check your answer\n",
        "q2.check()\n",
        "first_description"
      ],
      "execution_count": null,
      "outputs": []
    },
    {
      "cell_type": "code",
      "metadata": {
        "execution": {
          "iopub.status.busy": "2021-07-03T11:08:47.885206Z",
          "iopub.execute_input": "2021-07-03T11:08:47.885549Z",
          "iopub.status.idle": "2021-07-03T11:08:47.89624Z",
          "shell.execute_reply.started": "2021-07-03T11:08:47.885515Z",
          "shell.execute_reply": "2021-07-03T11:08:47.895028Z"
        },
        "trusted": true,
        "id": "BtUaiFD4OaCH"
      },
      "source": [
        "reviews.iloc[0,:]"
      ],
      "execution_count": null,
      "outputs": []
    },
    {
      "cell_type": "code",
      "metadata": {
        "execution": {
          "iopub.status.busy": "2021-07-03T11:08:47.898118Z",
          "iopub.execute_input": "2021-07-03T11:08:47.898595Z",
          "iopub.status.idle": "2021-07-03T11:08:47.909007Z",
          "shell.execute_reply.started": "2021-07-03T11:08:47.898558Z",
          "shell.execute_reply": "2021-07-03T11:08:47.90714Z"
        },
        "trusted": true,
        "id": "-7BKhtxGOaCI"
      },
      "source": [
        "#q2.hint()\n",
        "#q2.solution()"
      ],
      "execution_count": null,
      "outputs": []
    },
    {
      "cell_type": "markdown",
      "metadata": {
        "id": "6ErXdXekOaCI"
      },
      "source": [
        "## 3. \n",
        "\n",
        "Select the first row of data (the first record) from `reviews`, assigning it to the variable `first_row`."
      ]
    },
    {
      "cell_type": "code",
      "metadata": {
        "execution": {
          "iopub.status.busy": "2021-07-03T11:08:47.911288Z",
          "iopub.execute_input": "2021-07-03T11:08:47.911785Z",
          "iopub.status.idle": "2021-07-03T11:08:47.934328Z",
          "shell.execute_reply.started": "2021-07-03T11:08:47.911744Z",
          "shell.execute_reply": "2021-07-03T11:08:47.932402Z"
        },
        "trusted": true,
        "id": "DtigIJfjOaCI"
      },
      "source": [
        "first_row = reviews.iloc[0,:]\n",
        "\n",
        "# Check your answer\n",
        "q3.check()\n",
        "first_row"
      ],
      "execution_count": null,
      "outputs": []
    },
    {
      "cell_type": "code",
      "metadata": {
        "execution": {
          "iopub.status.busy": "2021-07-03T11:08:47.936311Z",
          "iopub.execute_input": "2021-07-03T11:08:47.937069Z",
          "iopub.status.idle": "2021-07-03T11:08:47.942666Z",
          "shell.execute_reply.started": "2021-07-03T11:08:47.937001Z",
          "shell.execute_reply": "2021-07-03T11:08:47.941021Z"
        },
        "trusted": true,
        "id": "V9rD7Vv0OaCJ"
      },
      "source": [
        "#q3.hint()\n",
        "#q3.solution()"
      ],
      "execution_count": null,
      "outputs": []
    },
    {
      "cell_type": "markdown",
      "metadata": {
        "id": "xZgZ0XC_OaCJ"
      },
      "source": [
        "## 4.\n",
        "\n",
        "Select the first 10 values from the `description` column in `reviews`, assigning the result to variable `first_descriptions`.\n",
        "\n",
        "Hint: format your output as a pandas Series."
      ]
    },
    {
      "cell_type": "code",
      "metadata": {
        "execution": {
          "iopub.status.busy": "2021-07-03T11:08:47.944428Z",
          "iopub.execute_input": "2021-07-03T11:08:47.944903Z",
          "iopub.status.idle": "2021-07-03T11:08:47.966737Z",
          "shell.execute_reply.started": "2021-07-03T11:08:47.944837Z",
          "shell.execute_reply": "2021-07-03T11:08:47.965881Z"
        },
        "trusted": true,
        "id": "wZfG36PKOaCJ"
      },
      "source": [
        "first_descriptions = reviews.loc[:9][\"description\"]\n",
        "\n",
        "# Check your answer\n",
        "q4.check()\n",
        "first_descriptions"
      ],
      "execution_count": null,
      "outputs": []
    },
    {
      "cell_type": "code",
      "metadata": {
        "execution": {
          "iopub.status.busy": "2021-07-03T11:08:47.9685Z",
          "iopub.execute_input": "2021-07-03T11:08:47.968827Z",
          "iopub.status.idle": "2021-07-03T11:08:47.972951Z",
          "shell.execute_reply.started": "2021-07-03T11:08:47.968795Z",
          "shell.execute_reply": "2021-07-03T11:08:47.971749Z"
        },
        "trusted": true,
        "id": "mNQs62wFOaCJ"
      },
      "source": [
        "#q4.hint()\n",
        "#q4.solution()"
      ],
      "execution_count": null,
      "outputs": []
    },
    {
      "cell_type": "markdown",
      "metadata": {
        "id": "xB0YvjdjOaCK"
      },
      "source": [
        "## 5.\n",
        "\n",
        "Select the records with index labels `1`, `2`, `3`, `5`, and `8`, assigning the result to the variable `sample_reviews`.\n",
        "\n",
        "In other words, generate the following DataFrame:\n",
        "\n",
        "![](https://i.imgur.com/sHZvI1O.png)"
      ]
    },
    {
      "cell_type": "code",
      "metadata": {
        "execution": {
          "iopub.status.busy": "2021-07-03T11:08:47.974761Z",
          "iopub.execute_input": "2021-07-03T11:08:47.975113Z",
          "iopub.status.idle": "2021-07-03T11:08:48.01013Z",
          "shell.execute_reply.started": "2021-07-03T11:08:47.97508Z",
          "shell.execute_reply": "2021-07-03T11:08:48.008795Z"
        },
        "trusted": true,
        "id": "AfFeGy3MOaCK"
      },
      "source": [
        "\n",
        "sample_reviews = reviews.loc[[1, 2, 3, 5, 8]]\n",
        "\n",
        "# Check your answer\n",
        "q5.check()\n",
        "sample_reviews"
      ],
      "execution_count": null,
      "outputs": []
    },
    {
      "cell_type": "code",
      "metadata": {
        "execution": {
          "iopub.status.busy": "2021-07-03T11:08:48.011744Z",
          "iopub.execute_input": "2021-07-03T11:08:48.012178Z",
          "iopub.status.idle": "2021-07-03T11:08:48.023116Z",
          "shell.execute_reply.started": "2021-07-03T11:08:48.012133Z",
          "shell.execute_reply": "2021-07-03T11:08:48.021495Z"
        },
        "trusted": true,
        "id": "oqZSRIodOaCK"
      },
      "source": [
        "reviews.country"
      ],
      "execution_count": null,
      "outputs": []
    },
    {
      "cell_type": "code",
      "metadata": {
        "execution": {
          "iopub.status.busy": "2021-07-03T11:08:48.024589Z",
          "iopub.execute_input": "2021-07-03T11:08:48.025101Z",
          "iopub.status.idle": "2021-07-03T11:08:48.038542Z",
          "shell.execute_reply.started": "2021-07-03T11:08:48.025065Z",
          "shell.execute_reply": "2021-07-03T11:08:48.036883Z"
        },
        "trusted": true,
        "id": "kYZRih5AOaCL"
      },
      "source": [
        "#q5.hint()\n",
        "q5.solution()"
      ],
      "execution_count": null,
      "outputs": []
    },
    {
      "cell_type": "markdown",
      "metadata": {
        "id": "vbIzgRNoOaCL"
      },
      "source": [
        "## 6.\n",
        "\n",
        "Create a variable `df` containing the `country`, `province`, `region_1`, and `region_2` columns of the records with the index labels `0`, `1`, `10`, and `100`. In other words, generate the following DataFrame:\n",
        "\n",
        "![](https://i.imgur.com/FUCGiKP.png)"
      ]
    },
    {
      "cell_type": "code",
      "metadata": {
        "execution": {
          "iopub.status.busy": "2021-07-03T11:08:48.040054Z",
          "iopub.execute_input": "2021-07-03T11:08:48.040506Z",
          "iopub.status.idle": "2021-07-03T11:08:48.071859Z",
          "shell.execute_reply.started": "2021-07-03T11:08:48.040472Z",
          "shell.execute_reply": "2021-07-03T11:08:48.07066Z"
        },
        "trusted": true,
        "id": "EdgTGhDXOaCL"
      },
      "source": [
        "df = reviews.loc[ [0,1,10,100],[\"country\",\"province\",\"region_1\",\"region_2\"]]\n",
        "\n",
        "# Check your answer\n",
        "q6.check()\n",
        "df"
      ],
      "execution_count": null,
      "outputs": []
    },
    {
      "cell_type": "code",
      "metadata": {
        "execution": {
          "iopub.status.busy": "2021-07-03T11:08:48.073111Z",
          "iopub.execute_input": "2021-07-03T11:08:48.073403Z",
          "iopub.status.idle": "2021-07-03T11:08:48.083463Z",
          "shell.execute_reply.started": "2021-07-03T11:08:48.073372Z",
          "shell.execute_reply": "2021-07-03T11:08:48.082133Z"
        },
        "trusted": true,
        "id": "C9eHrEzYOaCM"
      },
      "source": [
        "#q6.hint()\n",
        "q6.solution()"
      ],
      "execution_count": null,
      "outputs": []
    },
    {
      "cell_type": "markdown",
      "metadata": {
        "id": "539vmVQoOaCM"
      },
      "source": [
        "## 7.\n",
        "\n",
        "Create a variable `df` containing the `country` and `variety` columns of the first 100 records. \n",
        "\n",
        "Hint: you may use `loc` or `iloc`. When working on the answer this question and the several of the ones that follow, keep the following \"gotcha\" described in the tutorial:\n",
        "\n",
        "> `iloc` uses the Python stdlib indexing scheme, where the first element of the range is included and the last one excluded. \n",
        "`loc`, meanwhile, indexes inclusively. \n",
        "\n",
        "> This is particularly confusing when the DataFrame index is a simple numerical list, e.g. `0,...,1000`. In this case `df.iloc[0:1000]` will return 1000 entries, while `df.loc[0:1000]` return 1001 of them! To get 1000 elements using `loc`, you will need to go one lower and ask for `df.iloc[0:999]`. "
      ]
    },
    {
      "cell_type": "code",
      "metadata": {
        "execution": {
          "iopub.status.busy": "2021-07-03T11:08:48.085142Z",
          "iopub.execute_input": "2021-07-03T11:08:48.085754Z",
          "iopub.status.idle": "2021-07-03T11:08:48.106636Z",
          "shell.execute_reply.started": "2021-07-03T11:08:48.085708Z",
          "shell.execute_reply": "2021-07-03T11:08:48.105229Z"
        },
        "trusted": true,
        "id": "_ycynhviOaCN"
      },
      "source": [
        "df = reviews.loc[:99,[\"country\", \"variety\"]]\n",
        "\n",
        "# Check your answer\n",
        "q7.check()\n",
        "df"
      ],
      "execution_count": null,
      "outputs": []
    },
    {
      "cell_type": "code",
      "metadata": {
        "execution": {
          "iopub.status.busy": "2021-07-03T11:08:48.108212Z",
          "iopub.execute_input": "2021-07-03T11:08:48.10864Z",
          "iopub.status.idle": "2021-07-03T11:08:48.114198Z",
          "shell.execute_reply.started": "2021-07-03T11:08:48.108594Z",
          "shell.execute_reply": "2021-07-03T11:08:48.11238Z"
        },
        "trusted": true,
        "id": "XBpdnMNYOaCN"
      },
      "source": [
        "#q7.hint()\n",
        "#q7.solution()"
      ],
      "execution_count": null,
      "outputs": []
    },
    {
      "cell_type": "markdown",
      "metadata": {
        "id": "iZxxDtv3OaCO"
      },
      "source": [
        "## 8.\n",
        "\n",
        "Create a DataFrame `italian_wines` containing reviews of wines made in `Italy`. Hint: `reviews.country` equals what?"
      ]
    },
    {
      "cell_type": "code",
      "metadata": {
        "execution": {
          "iopub.status.busy": "2021-07-03T11:08:48.116629Z",
          "iopub.execute_input": "2021-07-03T11:08:48.117138Z",
          "iopub.status.idle": "2021-07-03T11:08:48.154009Z",
          "shell.execute_reply.started": "2021-07-03T11:08:48.117102Z",
          "shell.execute_reply": "2021-07-03T11:08:48.152358Z"
        },
        "trusted": true,
        "id": "NpN3Fq8FOaCQ"
      },
      "source": [
        "italian_wines = reviews[reviews.country == 'Italy']\n",
        "\n",
        "italian_wines\n",
        "# Check your answer\n",
        "q8.check()"
      ],
      "execution_count": null,
      "outputs": []
    },
    {
      "cell_type": "code",
      "metadata": {
        "execution": {
          "iopub.status.busy": "2021-07-03T11:08:48.155928Z",
          "iopub.execute_input": "2021-07-03T11:08:48.156411Z",
          "iopub.status.idle": "2021-07-03T11:08:48.187671Z",
          "shell.execute_reply.started": "2021-07-03T11:08:48.156368Z",
          "shell.execute_reply": "2021-07-03T11:08:48.185994Z"
        },
        "trusted": true,
        "id": "vEwMkFVYOaCQ"
      },
      "source": [
        "italian_wines"
      ],
      "execution_count": null,
      "outputs": []
    },
    {
      "cell_type": "code",
      "metadata": {
        "execution": {
          "iopub.status.busy": "2021-07-03T11:08:48.189386Z",
          "iopub.execute_input": "2021-07-03T11:08:48.189705Z",
          "iopub.status.idle": "2021-07-03T11:08:48.198021Z",
          "shell.execute_reply.started": "2021-07-03T11:08:48.189678Z",
          "shell.execute_reply": "2021-07-03T11:08:48.197137Z"
        },
        "trusted": true,
        "id": "NJMUlvwrOaCR"
      },
      "source": [
        "#q8.hint()\n",
        "q8.solution()"
      ],
      "execution_count": null,
      "outputs": []
    },
    {
      "cell_type": "markdown",
      "metadata": {
        "id": "SAxEaRQJOaCR"
      },
      "source": [
        "## 9.\n",
        "\n",
        "Create a DataFrame `top_oceania_wines` containing all reviews with at least 95 points (out of 100) for wines from Australia or New Zealand."
      ]
    },
    {
      "cell_type": "code",
      "metadata": {
        "execution": {
          "iopub.status.busy": "2021-07-03T11:09:54.099548Z",
          "iopub.execute_input": "2021-07-03T11:09:54.100141Z",
          "iopub.status.idle": "2021-07-03T11:09:54.135706Z",
          "shell.execute_reply.started": "2021-07-03T11:09:54.100107Z",
          "shell.execute_reply": "2021-07-03T11:09:54.134888Z"
        },
        "trusted": true,
        "id": "orUZcGJNOaCR"
      },
      "source": [
        "top_oceania_wines = (reviews.loc[reviews.country.isin([\"New Zealand\",\"Australia\"])]).loc[reviews.points>=95]\n",
        "\n",
        "# Check your answer\n",
        "q9.check()\n",
        "top_oceania_wines"
      ],
      "execution_count": null,
      "outputs": []
    },
    {
      "cell_type": "code",
      "metadata": {
        "execution": {
          "iopub.status.busy": "2021-07-03T11:09:57.098857Z",
          "iopub.execute_input": "2021-07-03T11:09:57.099333Z",
          "iopub.status.idle": "2021-07-03T11:09:57.104855Z",
          "shell.execute_reply.started": "2021-07-03T11:09:57.099301Z",
          "shell.execute_reply": "2021-07-03T11:09:57.104196Z"
        },
        "trusted": true,
        "id": "f45Wym7EOaCS"
      },
      "source": [
        "#q9.hint()\n",
        "q9.solution()"
      ],
      "execution_count": null,
      "outputs": []
    },
    {
      "cell_type": "markdown",
      "metadata": {
        "id": "zEQohTh-OaCS"
      },
      "source": [
        "# Keep going\n",
        "\n",
        "Move on to learn about **[summary functions and maps](https://www.kaggle.com/residentmario/summary-functions-and-maps)**."
      ]
    },
    {
      "cell_type": "markdown",
      "metadata": {
        "id": "HUjh5JWNOaCS"
      },
      "source": [
        "---\n",
        "\n",
        "\n",
        "\n",
        "\n",
        "*Have questions or comments? Visit the [Learn Discussion forum](https://www.kaggle.com/learn-forum/161299) to chat with other Learners.*"
      ]
    }
  ]
}