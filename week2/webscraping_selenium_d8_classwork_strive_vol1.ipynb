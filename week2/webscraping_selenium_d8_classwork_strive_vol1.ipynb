{
  "nbformat": 4,
  "nbformat_minor": 0,
  "metadata": {
    "colab": {
      "name": "webscraping_selenium_d8_classwork_strive_vol1.ipynb",
      "provenance": [],
      "collapsed_sections": [],
      "history_visible": true,
      "authorship_tag": "ABX9TyPvdtSXJs7e3oEGMo/wHHix",
      "include_colab_link": true
    },
    "kernelspec": {
      "name": "python3",
      "display_name": "Python 3"
    },
    "language_info": {
      "name": "python"
    }
  },
  "cells": [
    {
      "cell_type": "markdown",
      "metadata": {
        "id": "view-in-github",
        "colab_type": "text"
      },
      "source": [
        "<a href=\"https://colab.research.google.com/github/remre/striveschool/blob/main/week2/webscraping_selenium_d8_classwork_strive_vol1.ipynb\" target=\"_parent\"><img src=\"https://colab.research.google.com/assets/colab-badge.svg\" alt=\"Open In Colab\"/></a>"
      ]
    },
    {
      "cell_type": "code",
      "metadata": {
        "id": "AM6EN482PEcN"
      },
      "source": [
        "from selenium import webdriver\n",
        "from time import sleep"
      ],
      "execution_count": null,
      "outputs": []
    },
    {
      "cell_type": "code",
      "metadata": {
        "id": "VoV_8X7pWMbk"
      },
      "source": [
        "sleep(3)#add it bcz first open the page then execute codes"
      ],
      "execution_count": null,
      "outputs": []
    },
    {
      "cell_type": "code",
      "metadata": {
        "id": "fXbegeA7SY6_"
      },
      "source": [
        "mydriver = \"chromedriver.exe\"\n",
        "driver = webdriver.Chrome(mydriver)\n",
        "#find_element_by_xpath most comfortable one "
      ],
      "execution_count": null,
      "outputs": []
    },
    {
      "cell_type": "code",
      "metadata": {
        "id": "c9dls32iacep"
      },
      "source": [
        "rom selenium import webdriver\n",
        "options = webdriver.ChromeOptions()\n",
        "options.add_argument('-headless')\n",
        "options.add_argument('--no-sandbox')\n",
        "options.add_argument('--disable-dev-shm-usage')\n",
        "wd = webdriver.Chrome(options=options)\n",
        "url = \"https://forecast.weather.gov/MapClick.php?lat=37.777120000000025&lon=-122.41963999999996#.YOWANZgzbX4\"\n",
        "wd.get(url)"
      ],
      "execution_count": null,
      "outputs": []
    },
    {
      "cell_type": "code",
      "metadata": {
        "id": "jCqk7PnZSxDy"
      },
      "source": [
        " = driver.find_element_by_xpath('//a[@class=\"a-link-normal a-text-normal\"]')"
      ],
      "execution_count": null,
      "outputs": []
    }
  ]
}