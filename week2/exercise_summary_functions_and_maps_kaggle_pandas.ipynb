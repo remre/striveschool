{
  "nbformat": 4,
  "nbformat_minor": 0,
  "metadata": {
    "kernelspec": {
      "language": "python",
      "display_name": "Python 3",
      "name": "python3"
    },
    "language_info": {
      "pygments_lexer": "ipython3",
      "nbconvert_exporter": "python",
      "version": "3.6.4",
      "file_extension": ".py",
      "codemirror_mode": {
        "name": "ipython",
        "version": 3
      },
      "name": "python",
      "mimetype": "text/x-python"
    },
    "colab": {
      "name": "exercise-summary-functions-and-maps_kaggle_pandas.ipynb",
      "provenance": [],
      "include_colab_link": true
    }
  },
  "cells": [
    {
      "cell_type": "markdown",
      "metadata": {
        "id": "view-in-github",
        "colab_type": "text"
      },
      "source": [
        "<a href=\"https://colab.research.google.com/github/remre/striveschool/blob/main/week2/exercise_summary_functions_and_maps_kaggle_pandas.ipynb\" target=\"_parent\"><img src=\"https://colab.research.google.com/assets/colab-badge.svg\" alt=\"Open In Colab\"/></a>"
      ]
    },
    {
      "cell_type": "markdown",
      "metadata": {
        "id": "XgsWeMUyvQdM"
      },
      "source": [
        "**This notebook is an exercise in the [Pandas](https://www.kaggle.com/learn/pandas) course.  You can reference the tutorial at [this link](https://www.kaggle.com/residentmario/summary-functions-and-maps).**\n",
        "\n",
        "---\n"
      ]
    },
    {
      "cell_type": "markdown",
      "metadata": {
        "id": "tZfBrThqvQde"
      },
      "source": [
        "# Introduction\n",
        "\n",
        "Now you are ready to get a deeper understanding of your data.\n",
        "\n",
        "Run the following cell to load your data and some utility functions (including code to check your answers)."
      ]
    },
    {
      "cell_type": "code",
      "metadata": {
        "execution": {
          "iopub.status.busy": "2021-07-06T19:38:15.006625Z",
          "iopub.execute_input": "2021-07-06T19:38:15.006997Z",
          "iopub.status.idle": "2021-07-06T19:38:21.814968Z",
          "shell.execute_reply.started": "2021-07-06T19:38:15.006961Z",
          "shell.execute_reply": "2021-07-06T19:38:21.813432Z"
        },
        "trusted": true,
        "id": "7a335FbOvQdg"
      },
      "source": [
        "import pandas as pd\n",
        "pd.set_option(\"display.max_rows\", 5)\n",
        "reviews = pd.read_csv(\"../input/wine-reviews/winemag-data-130k-v2.csv\", index_col=0)\n",
        "\n",
        "from learntools.core import binder; binder.bind(globals())\n",
        "from learntools.pandas.summary_functions_and_maps import *\n",
        "print(\"Setup complete.\")\n",
        "\n",
        "reviews.head()"
      ],
      "execution_count": null,
      "outputs": []
    },
    {
      "cell_type": "markdown",
      "metadata": {
        "id": "pvw_KFyRvQdi"
      },
      "source": [
        "# Exercises"
      ]
    },
    {
      "cell_type": "markdown",
      "metadata": {
        "id": "fQev2f7tvQdi"
      },
      "source": [
        "## 1.\n",
        "\n",
        "What is the median of the `points` column in the `reviews` DataFrame?"
      ]
    },
    {
      "cell_type": "code",
      "metadata": {
        "execution": {
          "iopub.status.busy": "2021-07-06T19:38:21.818362Z",
          "iopub.execute_input": "2021-07-06T19:38:21.819072Z",
          "iopub.status.idle": "2021-07-06T19:38:21.833584Z",
          "shell.execute_reply.started": "2021-07-06T19:38:21.819007Z",
          "shell.execute_reply": "2021-07-06T19:38:21.831701Z"
        },
        "trusted": true,
        "id": "pjiNmvLdvQdj"
      },
      "source": [
        "median_points = reviews.points.median()\n",
        "\n",
        "# Check your answer\n",
        "q1.check()"
      ],
      "execution_count": null,
      "outputs": []
    },
    {
      "cell_type": "code",
      "metadata": {
        "execution": {
          "iopub.status.busy": "2021-07-04T11:57:08.963838Z",
          "iopub.execute_input": "2021-07-04T11:57:08.964126Z",
          "iopub.status.idle": "2021-07-04T11:57:08.97194Z",
          "shell.execute_reply.started": "2021-07-04T11:57:08.964097Z",
          "shell.execute_reply": "2021-07-04T11:57:08.970885Z"
        },
        "trusted": true,
        "id": "R9HPOUbQvQdk"
      },
      "source": [
        "#q1.hint()\n",
        "#q1.solution()"
      ],
      "execution_count": null,
      "outputs": []
    },
    {
      "cell_type": "markdown",
      "metadata": {
        "id": "QQu9r-YXvQdl"
      },
      "source": [
        "## 2. \n",
        "What countries are represented in the dataset? (Your answer should not include any duplicates.)"
      ]
    },
    {
      "cell_type": "code",
      "metadata": {
        "execution": {
          "iopub.status.busy": "2021-07-06T19:38:21.835227Z",
          "iopub.execute_input": "2021-07-06T19:38:21.835681Z",
          "iopub.status.idle": "2021-07-06T19:38:21.856711Z",
          "shell.execute_reply.started": "2021-07-06T19:38:21.835632Z",
          "shell.execute_reply": "2021-07-06T19:38:21.855515Z"
        },
        "trusted": true,
        "id": "J9kf1IntvQdm"
      },
      "source": [
        "countries = reviews.country.unique()\n",
        "\n",
        "# Check your answer\n",
        "q2.check()"
      ],
      "execution_count": null,
      "outputs": []
    },
    {
      "cell_type": "code",
      "metadata": {
        "execution": {
          "iopub.status.busy": "2021-07-04T11:57:08.999375Z",
          "iopub.execute_input": "2021-07-04T11:57:09.000354Z",
          "iopub.status.idle": "2021-07-04T11:57:09.01068Z",
          "shell.execute_reply.started": "2021-07-04T11:57:09.00016Z",
          "shell.execute_reply": "2021-07-04T11:57:09.009455Z"
        },
        "trusted": true,
        "id": "7fumg3nhvQdp"
      },
      "source": [
        "#q2.hint()\n",
        "#q2.solution()"
      ],
      "execution_count": null,
      "outputs": []
    },
    {
      "cell_type": "markdown",
      "metadata": {
        "id": "6HjVB_iBvQdq"
      },
      "source": [
        "## 3.\n",
        "How often does each country appear in the dataset? Create a Series `reviews_per_country` mapping countries to the count of reviews of wines from that country."
      ]
    },
    {
      "cell_type": "code",
      "metadata": {
        "execution": {
          "iopub.status.busy": "2021-07-06T19:38:21.859108Z",
          "iopub.execute_input": "2021-07-06T19:38:21.859453Z",
          "iopub.status.idle": "2021-07-06T19:38:21.894334Z",
          "shell.execute_reply.started": "2021-07-06T19:38:21.859421Z",
          "shell.execute_reply": "2021-07-06T19:38:21.892917Z"
        },
        "trusted": true,
        "id": "pLaBjoF2vQdr"
      },
      "source": [
        "x= reviews.country.value_counts()\n",
        "type(x)\n",
        "reviews.head()"
      ],
      "execution_count": null,
      "outputs": []
    },
    {
      "cell_type": "code",
      "metadata": {
        "execution": {
          "iopub.status.busy": "2021-07-06T19:38:21.897537Z",
          "iopub.execute_input": "2021-07-06T19:38:21.897872Z",
          "iopub.status.idle": "2021-07-06T19:38:21.920673Z",
          "shell.execute_reply.started": "2021-07-06T19:38:21.897841Z",
          "shell.execute_reply": "2021-07-06T19:38:21.919314Z"
        },
        "trusted": true,
        "id": "XNKAFMdavQdr"
      },
      "source": [
        "reviews_per_country = reviews.country.value_counts()\n",
        "\n",
        "# Check your answer\n",
        "q3.check()"
      ],
      "execution_count": null,
      "outputs": []
    },
    {
      "cell_type": "code",
      "metadata": {
        "execution": {
          "iopub.status.busy": "2021-07-04T11:57:09.087782Z",
          "iopub.execute_input": "2021-07-04T11:57:09.088265Z",
          "iopub.status.idle": "2021-07-04T11:57:09.098852Z",
          "shell.execute_reply.started": "2021-07-04T11:57:09.088213Z",
          "shell.execute_reply": "2021-07-04T11:57:09.097909Z"
        },
        "trusted": true,
        "id": "oGmFLvhcvQds"
      },
      "source": [
        "q3.hint()\n",
        "#q3.solution()"
      ],
      "execution_count": null,
      "outputs": []
    },
    {
      "cell_type": "markdown",
      "metadata": {
        "id": "_KeozwUOvQdt"
      },
      "source": [
        "## 4.\n",
        "Create variable `centered_price` containing a version of the `price` column with the mean price subtracted.\n",
        "\n",
        "(Note: this 'centering' transformation is a common preprocessing step before applying various machine learning algorithms.) "
      ]
    },
    {
      "cell_type": "code",
      "metadata": {
        "execution": {
          "iopub.status.busy": "2021-07-06T19:38:30.291144Z",
          "iopub.execute_input": "2021-07-06T19:38:30.291584Z",
          "iopub.status.idle": "2021-07-06T19:38:30.343711Z",
          "shell.execute_reply.started": "2021-07-06T19:38:30.291552Z",
          "shell.execute_reply": "2021-07-06T19:38:30.342672Z"
        },
        "trusted": true,
        "id": "OUwYZGE0vQdu"
      },
      "source": [
        "review_points_mean = reviews.price.mean()\n",
        "centered_price = reviews.price.map(lambda p:p-review_points_mean)\n",
        "\n",
        "# Check your answer\n",
        "q4.check()"
      ],
      "execution_count": null,
      "outputs": []
    },
    {
      "cell_type": "code",
      "metadata": {
        "execution": {
          "iopub.status.busy": "2021-07-04T11:57:09.156612Z",
          "iopub.execute_input": "2021-07-04T11:57:09.157016Z",
          "iopub.status.idle": "2021-07-04T11:57:09.163147Z",
          "shell.execute_reply.started": "2021-07-04T11:57:09.156971Z",
          "shell.execute_reply": "2021-07-04T11:57:09.161999Z"
        },
        "trusted": true,
        "id": "hzrHAwL8vQdu"
      },
      "source": [
        "#q4.hint()\n",
        "#q4.solution()"
      ],
      "execution_count": null,
      "outputs": []
    },
    {
      "cell_type": "markdown",
      "metadata": {
        "id": "lzbhR1pMvQdv"
      },
      "source": [
        "## 5.\n",
        "I'm an economical wine buyer. Which wine is the \"best bargain\"? Create a variable `bargain_wine` with the title of the wine with the highest points-to-price ratio in the dataset."
      ]
    },
    {
      "cell_type": "code",
      "metadata": {
        "execution": {
          "iopub.status.busy": "2021-07-04T11:57:09.164764Z",
          "iopub.execute_input": "2021-07-04T11:57:09.165037Z",
          "iopub.status.idle": "2021-07-04T11:57:09.177822Z",
          "shell.execute_reply.started": "2021-07-04T11:57:09.16501Z",
          "shell.execute_reply": "2021-07-04T11:57:09.176868Z"
        },
        "trusted": true,
        "id": "deFyYa4jvQdw"
      },
      "source": [
        "reviews.points.idxmax"
      ],
      "execution_count": null,
      "outputs": []
    },
    {
      "cell_type": "code",
      "metadata": {
        "execution": {
          "iopub.status.busy": "2021-07-06T19:38:39.639019Z",
          "iopub.execute_input": "2021-07-06T19:38:39.639433Z",
          "iopub.status.idle": "2021-07-06T19:38:39.656099Z",
          "shell.execute_reply.started": "2021-07-06T19:38:39.639395Z",
          "shell.execute_reply": "2021-07-06T19:38:39.654939Z"
        },
        "trusted": true,
        "id": "oPY-9Vn4vQdw"
      },
      "source": [
        "bargain_idx = (reviews.points / reviews.price).idxmax\n",
        "bargain_wine = reviews.loc[bargain_idx, 'title']\n",
        "# Check your answer\n",
        "q5.check()"
      ],
      "execution_count": null,
      "outputs": []
    },
    {
      "cell_type": "code",
      "metadata": {
        "execution": {
          "iopub.status.busy": "2021-07-04T11:57:09.202145Z",
          "iopub.execute_input": "2021-07-04T11:57:09.202613Z",
          "iopub.status.idle": "2021-07-04T11:57:09.210606Z",
          "shell.execute_reply.started": "2021-07-04T11:57:09.202577Z",
          "shell.execute_reply": "2021-07-04T11:57:09.209591Z"
        },
        "trusted": true,
        "id": "WoxLaRQwvQdx"
      },
      "source": [
        "bargain_idx"
      ],
      "execution_count": null,
      "outputs": []
    },
    {
      "cell_type": "code",
      "metadata": {
        "execution": {
          "iopub.status.busy": "2021-07-04T11:57:09.212378Z",
          "iopub.execute_input": "2021-07-04T11:57:09.212829Z",
          "iopub.status.idle": "2021-07-04T11:57:09.227352Z",
          "shell.execute_reply.started": "2021-07-04T11:57:09.212784Z",
          "shell.execute_reply": "2021-07-04T11:57:09.226112Z"
        },
        "trusted": true,
        "id": "DtNkTXrKvQdy"
      },
      "source": [
        "q5.hint()\n",
        "q5.solution()"
      ],
      "execution_count": null,
      "outputs": []
    },
    {
      "cell_type": "markdown",
      "metadata": {
        "id": "80sKTEEZvQdy"
      },
      "source": [
        "## 6.\n",
        "There are only so many words you can use when describing a bottle of wine. Is a wine more likely to be \"tropical\" or \"fruity\"? Create a Series `descriptor_counts` counting how many times each of these two words appears in the `description` column in the dataset."
      ]
    },
    {
      "cell_type": "code",
      "metadata": {
        "execution": {
          "iopub.status.busy": "2021-07-06T19:51:18.103171Z",
          "iopub.execute_input": "2021-07-06T19:51:18.103529Z",
          "iopub.status.idle": "2021-07-06T19:51:18.126235Z",
          "shell.execute_reply.started": "2021-07-06T19:51:18.1035Z",
          "shell.execute_reply": "2021-07-06T19:51:18.125245Z"
        },
        "trusted": true,
        "id": "2ppAA0dRvQdz"
      },
      "source": [
        "type(x)\n",
        "x = reviews.loc[reviews.description.isin([\"fruity\",\"tropical\"])]\n",
        "x"
      ],
      "execution_count": null,
      "outputs": []
    },
    {
      "cell_type": "code",
      "metadata": {
        "execution": {
          "iopub.status.busy": "2021-07-06T19:58:51.913133Z",
          "iopub.execute_input": "2021-07-06T19:58:51.913721Z",
          "iopub.status.idle": "2021-07-06T19:58:52.054692Z",
          "shell.execute_reply.started": "2021-07-06T19:58:51.913672Z",
          "shell.execute_reply": "2021-07-06T19:58:52.053853Z"
        },
        "trusted": true,
        "id": "FjOACER5vQdz"
      },
      "source": [
        "n_trop = reviews.description.apply(lambda desc: \"tropical\" in desc).sum()\n",
        "n_fruity = reviews.description.apply(lambda desc: \"fruity\" in desc).sum()\n",
        "descriptor_counts = pd.Series([n_trop, n_fruity], index=['tropical', 'fruity'])\n",
        "\n",
        "# Check your answer\n",
        "q6.check()"
      ],
      "execution_count": null,
      "outputs": []
    },
    {
      "cell_type": "code",
      "metadata": {
        "execution": {
          "iopub.status.busy": "2021-07-06T19:57:41.753937Z",
          "iopub.execute_input": "2021-07-06T19:57:41.754338Z",
          "iopub.status.idle": "2021-07-06T19:57:41.764739Z",
          "shell.execute_reply.started": "2021-07-06T19:57:41.754291Z",
          "shell.execute_reply": "2021-07-06T19:57:41.763411Z"
        },
        "trusted": true,
        "id": "5NBtbXbhvQd0"
      },
      "source": [
        "#q6.hint()\n",
        "q6.solution()"
      ],
      "execution_count": null,
      "outputs": []
    },
    {
      "cell_type": "markdown",
      "metadata": {
        "id": "TwRqY_t3vQd1"
      },
      "source": [
        "## 7.\n",
        "We'd like to host these wine reviews on our website, but a rating system ranging from 80 to 100 points is too hard to understand - we'd like to translate them into simple star ratings. A score of 95 or higher counts as 3 stars, a score of at least 85 but less than 95 is 2 stars. Any other score is 1 star.\n",
        "\n",
        "Also, the Canadian Vintners Association bought a lot of ads on the site, so any wines from Canada should automatically get 3 stars, regardless of points.\n",
        "\n",
        "Create a series `star_ratings` with the number of stars corresponding to each review in the dataset."
      ]
    },
    {
      "cell_type": "code",
      "metadata": {
        "execution": {
          "iopub.status.busy": "2021-07-04T11:57:09.314213Z",
          "iopub.status.idle": "2021-07-04T11:57:09.314713Z"
        },
        "trusted": true,
        "id": "HDDgVuDjvQd1"
      },
      "source": [
        "xx = reviews.loc[(reviews.points >= 95) | (reviews.country ==\"Canada\")]\n",
        "xxx = reviews.loc[((reviews.points)<95) & (reviews.points>=85)]\n",
        "xyyx = reviews.loc[(reviews.points)<85]\n",
        "starz = pd.DataFrame[[xx,xxx,xyyx],index = stars]\n",
        "stars = {\"3stars\":xx,\"2stars\":xxx,\"1star\":xyyx}\n",
        "type(stars)\n",
        "#star_rating = pd.DataFrame[]"
      ],
      "execution_count": null,
      "outputs": []
    },
    {
      "cell_type": "code",
      "metadata": {
        "execution": {
          "iopub.status.busy": "2021-07-04T11:57:47.54864Z",
          "iopub.execute_input": "2021-07-04T11:57:47.548959Z",
          "iopub.status.idle": "2021-07-04T11:57:50.742614Z",
          "shell.execute_reply.started": "2021-07-04T11:57:47.548931Z",
          "shell.execute_reply": "2021-07-04T11:57:50.741847Z"
        },
        "trusted": true,
        "id": "Mfht84nTvQd2"
      },
      "source": [
        "x = reviews.points\n",
        "x\n",
        "\n",
        "def stars(row):\n",
        "    if row.country == 'Canada':\n",
        "        return 3\n",
        "    elif row.points >= 95:\n",
        "        return 3\n",
        "    elif row.points >= 85:\n",
        "        return 2\n",
        "    else:\n",
        "        return 1\n",
        "\n",
        "star_ratings = reviews.apply(stars, axis='columns')\n",
        "\n",
        "\n",
        "# Check your answer\n",
        "q7.check()"
      ],
      "execution_count": null,
      "outputs": []
    },
    {
      "cell_type": "code",
      "metadata": {
        "execution": {
          "iopub.status.busy": "2021-07-04T11:57:18.402503Z",
          "iopub.execute_input": "2021-07-04T11:57:18.40286Z",
          "iopub.status.idle": "2021-07-04T11:57:18.412237Z",
          "shell.execute_reply.started": "2021-07-04T11:57:18.40283Z",
          "shell.execute_reply": "2021-07-04T11:57:18.410949Z"
        },
        "trusted": true,
        "id": "spWFfoolvQd3"
      },
      "source": [
        "#q7.hint()\n",
        "q7.solution()"
      ],
      "execution_count": null,
      "outputs": []
    },
    {
      "cell_type": "markdown",
      "metadata": {
        "id": "F3Bt3zh8vQd3"
      },
      "source": [
        "# Keep going\n",
        "Continue to **[grouping and sorting](https://www.kaggle.com/residentmario/grouping-and-sorting)**."
      ]
    },
    {
      "cell_type": "markdown",
      "metadata": {
        "id": "3UgrpC3xvQd4"
      },
      "source": [
        "---\n",
        "\n",
        "\n",
        "\n",
        "\n",
        "*Have questions or comments? Visit the [Learn Discussion forum](https://www.kaggle.com/learn-forum/161299) to chat with other Learners.*"
      ]
    }
  ]
}