{
  "nbformat": 4,
  "nbformat_minor": 0,
  "metadata": {
    "colab": {
      "name": "ChineseMnistCNN.ipynb",
      "provenance": [],
      "collapsed_sections": [],
      "authorship_tag": "ABX9TyMP3zs+rJ6vejTRyQzTq/hT",
      "include_colab_link": true
    },
    "kernelspec": {
      "name": "python3",
      "display_name": "Python 3"
    },
    "language_info": {
      "name": "python"
    }
  },
  "cells": [
    {
      "cell_type": "markdown",
      "metadata": {
        "id": "view-in-github",
        "colab_type": "text"
      },
      "source": [
        "<a href=\"https://colab.research.google.com/github/remre/striveschool/blob/main/ChineseMnistCNN.ipynb\" target=\"_parent\"><img src=\"https://colab.research.google.com/assets/colab-badge.svg\" alt=\"Open In Colab\"/></a>"
      ]
    },
    {
      "cell_type": "code",
      "metadata": {
        "id": "od064xDbMYwh"
      },
      "source": [
        "#importing necessary libraries\n",
        "import numpy as np\n",
        "import pandas as pd \n",
        "import torch\n",
        "from torch import optim\n",
        "import torch.nn as nn\n",
        "\n",
        "import cv2\n",
        "from torchvision import datasets, transforms\n",
        "from torch.utils.data import Dataset, DataLoader\n",
        "import torch.nn.functional as F\n",
        "from PIL import Image\n",
        "import matplotlib.pyplot as plt\n",
        "from sklearn.metrics import confusion_matrix\n",
        "from sklearn.metrics import accuracy_score as a_s\n",
        "import os \n",
        "from torchsummary import summary\n",
        "import zipfile"
      ],
      "execution_count": null,
      "outputs": []
    },
    {
      "cell_type": "code",
      "metadata": {
        "id": "WX4RXKfuNm4X"
      },
      "source": [
        "#get kaggle.json \n",
        "\n",
        "os.environ[\"KAGGLE_CONFIG_DIR\"] = (\"/content\")"
      ],
      "execution_count": null,
      "outputs": []
    },
    {
      "cell_type": "code",
      "metadata": {
        "id": "imiVlPimNaKx",
        "colab": {
          "base_uri": "https://localhost:8080/"
        },
        "outputId": "ba862712-9ce1-4854-995a-4a60704615c1"
      },
      "source": [
        "#than download the dataset\n",
        "!kaggle datasets download -d gpreda/chinese-mnist"
      ],
      "execution_count": null,
      "outputs": [
        {
          "output_type": "stream",
          "name": "stdout",
          "text": [
            "Warning: Your Kaggle API key is readable by other users on this system! To fix this, you can run 'chmod 600 /content/kaggle.json'\n",
            "Downloading chinese-mnist.zip to /content\n",
            " 30% 5.00M/16.5M [00:00<00:00, 48.0MB/s]\n",
            "100% 16.5M/16.5M [00:00<00:00, 87.6MB/s]\n"
          ]
        }
      ]
    },
    {
      "cell_type": "code",
      "metadata": {
        "id": "aJTyH6e1PQQR"
      },
      "source": [
        "#unzip the dataset\n",
        "\n",
        "with zipfile.ZipFile('/content/chinese-mnist.zip', 'r') as zip_ref:\n",
        "    zip_ref.extractall('/content/')"
      ],
      "execution_count": null,
      "outputs": []
    },
    {
      "cell_type": "code",
      "metadata": {
        "id": "p47-dhCbPopS"
      },
      "source": [
        "#crate the dataframe\n",
        "df = pd.read_csv('chinese_mnist.csv',sep=',')"
      ],
      "execution_count": null,
      "outputs": []
    },
    {
      "cell_type": "code",
      "metadata": {
        "id": "Wm1kkBB7LkMG"
      },
      "source": [
        "#y = df['character']"
      ],
      "execution_count": null,
      "outputs": []
    },
    {
      "cell_type": "code",
      "source": [
        "df.sample(n=7)\n",
        "# df\n",
        "df.info()\n",
        "df.shape"
      ],
      "metadata": {
        "colab": {
          "base_uri": "https://localhost:8080/"
        },
        "id": "tpEEfV3Jh2mA",
        "outputId": "ec34c4f1-fd33-4bc2-dfff-7d3935433048"
      },
      "execution_count": null,
      "outputs": [
        {
          "output_type": "stream",
          "name": "stdout",
          "text": [
            "<class 'pandas.core.frame.DataFrame'>\n",
            "RangeIndex: 15000 entries, 0 to 14999\n",
            "Data columns (total 5 columns):\n",
            " #   Column     Non-Null Count  Dtype \n",
            "---  ------     --------------  ----- \n",
            " 0   suite_id   15000 non-null  int64 \n",
            " 1   sample_id  15000 non-null  int64 \n",
            " 2   code       15000 non-null  int64 \n",
            " 3   value      15000 non-null  int64 \n",
            " 4   character  15000 non-null  object\n",
            "dtypes: int64(4), object(1)\n",
            "memory usage: 586.1+ KB\n"
          ]
        },
        {
          "output_type": "execute_result",
          "data": {
            "text/plain": [
              "(15000, 5)"
            ]
          },
          "metadata": {},
          "execution_count": 5
        }
      ]
    },
    {
      "cell_type": "code",
      "metadata": {
        "id": "A50KRdLyrJ61",
        "colab": {
          "base_uri": "https://localhost:8080/",
          "height": 423
        },
        "outputId": "aa192f1f-0a3b-40cc-f34a-dd008d0f2356"
      },
      "source": [
        "df.drop('character', axis=1)"
      ],
      "execution_count": null,
      "outputs": [
        {
          "output_type": "execute_result",
          "data": {
            "text/plain": [
              "       suite_id  sample_id  code  value  class_id\n",
              "0             1          1    10      9         9\n",
              "1             1         10    10      9         9\n",
              "2             1          2    10      9         9\n",
              "3             1          3    10      9         9\n",
              "4             1          4    10      9         9\n",
              "...         ...        ...   ...    ...       ...\n",
              "14995        99          5     9      8         8\n",
              "14996        99          6     9      8         8\n",
              "14997        99          7     9      8         8\n",
              "14998        99          8     9      8         8\n",
              "14999        99          9     9      8         8\n",
              "\n",
              "[15000 rows x 5 columns]"
            ],
            "text/html": [
              "\n",
              "  <div id=\"df-cfaf6596-446b-4611-9378-3a264a87c9cb\">\n",
              "    <div class=\"colab-df-container\">\n",
              "      <div>\n",
              "<style scoped>\n",
              "    .dataframe tbody tr th:only-of-type {\n",
              "        vertical-align: middle;\n",
              "    }\n",
              "\n",
              "    .dataframe tbody tr th {\n",
              "        vertical-align: top;\n",
              "    }\n",
              "\n",
              "    .dataframe thead th {\n",
              "        text-align: right;\n",
              "    }\n",
              "</style>\n",
              "<table border=\"1\" class=\"dataframe\">\n",
              "  <thead>\n",
              "    <tr style=\"text-align: right;\">\n",
              "      <th></th>\n",
              "      <th>suite_id</th>\n",
              "      <th>sample_id</th>\n",
              "      <th>code</th>\n",
              "      <th>value</th>\n",
              "      <th>class_id</th>\n",
              "    </tr>\n",
              "  </thead>\n",
              "  <tbody>\n",
              "    <tr>\n",
              "      <th>0</th>\n",
              "      <td>1</td>\n",
              "      <td>1</td>\n",
              "      <td>10</td>\n",
              "      <td>9</td>\n",
              "      <td>9</td>\n",
              "    </tr>\n",
              "    <tr>\n",
              "      <th>1</th>\n",
              "      <td>1</td>\n",
              "      <td>10</td>\n",
              "      <td>10</td>\n",
              "      <td>9</td>\n",
              "      <td>9</td>\n",
              "    </tr>\n",
              "    <tr>\n",
              "      <th>2</th>\n",
              "      <td>1</td>\n",
              "      <td>2</td>\n",
              "      <td>10</td>\n",
              "      <td>9</td>\n",
              "      <td>9</td>\n",
              "    </tr>\n",
              "    <tr>\n",
              "      <th>3</th>\n",
              "      <td>1</td>\n",
              "      <td>3</td>\n",
              "      <td>10</td>\n",
              "      <td>9</td>\n",
              "      <td>9</td>\n",
              "    </tr>\n",
              "    <tr>\n",
              "      <th>4</th>\n",
              "      <td>1</td>\n",
              "      <td>4</td>\n",
              "      <td>10</td>\n",
              "      <td>9</td>\n",
              "      <td>9</td>\n",
              "    </tr>\n",
              "    <tr>\n",
              "      <th>...</th>\n",
              "      <td>...</td>\n",
              "      <td>...</td>\n",
              "      <td>...</td>\n",
              "      <td>...</td>\n",
              "      <td>...</td>\n",
              "    </tr>\n",
              "    <tr>\n",
              "      <th>14995</th>\n",
              "      <td>99</td>\n",
              "      <td>5</td>\n",
              "      <td>9</td>\n",
              "      <td>8</td>\n",
              "      <td>8</td>\n",
              "    </tr>\n",
              "    <tr>\n",
              "      <th>14996</th>\n",
              "      <td>99</td>\n",
              "      <td>6</td>\n",
              "      <td>9</td>\n",
              "      <td>8</td>\n",
              "      <td>8</td>\n",
              "    </tr>\n",
              "    <tr>\n",
              "      <th>14997</th>\n",
              "      <td>99</td>\n",
              "      <td>7</td>\n",
              "      <td>9</td>\n",
              "      <td>8</td>\n",
              "      <td>8</td>\n",
              "    </tr>\n",
              "    <tr>\n",
              "      <th>14998</th>\n",
              "      <td>99</td>\n",
              "      <td>8</td>\n",
              "      <td>9</td>\n",
              "      <td>8</td>\n",
              "      <td>8</td>\n",
              "    </tr>\n",
              "    <tr>\n",
              "      <th>14999</th>\n",
              "      <td>99</td>\n",
              "      <td>9</td>\n",
              "      <td>9</td>\n",
              "      <td>8</td>\n",
              "      <td>8</td>\n",
              "    </tr>\n",
              "  </tbody>\n",
              "</table>\n",
              "<p>15000 rows × 5 columns</p>\n",
              "</div>\n",
              "      <button class=\"colab-df-convert\" onclick=\"convertToInteractive('df-cfaf6596-446b-4611-9378-3a264a87c9cb')\"\n",
              "              title=\"Convert this dataframe to an interactive table.\"\n",
              "              style=\"display:none;\">\n",
              "        \n",
              "  <svg xmlns=\"http://www.w3.org/2000/svg\" height=\"24px\"viewBox=\"0 0 24 24\"\n",
              "       width=\"24px\">\n",
              "    <path d=\"M0 0h24v24H0V0z\" fill=\"none\"/>\n",
              "    <path d=\"M18.56 5.44l.94 2.06.94-2.06 2.06-.94-2.06-.94-.94-2.06-.94 2.06-2.06.94zm-11 1L8.5 8.5l.94-2.06 2.06-.94-2.06-.94L8.5 2.5l-.94 2.06-2.06.94zm10 10l.94 2.06.94-2.06 2.06-.94-2.06-.94-.94-2.06-.94 2.06-2.06.94z\"/><path d=\"M17.41 7.96l-1.37-1.37c-.4-.4-.92-.59-1.43-.59-.52 0-1.04.2-1.43.59L10.3 9.45l-7.72 7.72c-.78.78-.78 2.05 0 2.83L4 21.41c.39.39.9.59 1.41.59.51 0 1.02-.2 1.41-.59l7.78-7.78 2.81-2.81c.8-.78.8-2.07 0-2.86zM5.41 20L4 18.59l7.72-7.72 1.47 1.35L5.41 20z\"/>\n",
              "  </svg>\n",
              "      </button>\n",
              "      \n",
              "  <style>\n",
              "    .colab-df-container {\n",
              "      display:flex;\n",
              "      flex-wrap:wrap;\n",
              "      gap: 12px;\n",
              "    }\n",
              "\n",
              "    .colab-df-convert {\n",
              "      background-color: #E8F0FE;\n",
              "      border: none;\n",
              "      border-radius: 50%;\n",
              "      cursor: pointer;\n",
              "      display: none;\n",
              "      fill: #1967D2;\n",
              "      height: 32px;\n",
              "      padding: 0 0 0 0;\n",
              "      width: 32px;\n",
              "    }\n",
              "\n",
              "    .colab-df-convert:hover {\n",
              "      background-color: #E2EBFA;\n",
              "      box-shadow: 0px 1px 2px rgba(60, 64, 67, 0.3), 0px 1px 3px 1px rgba(60, 64, 67, 0.15);\n",
              "      fill: #174EA6;\n",
              "    }\n",
              "\n",
              "    [theme=dark] .colab-df-convert {\n",
              "      background-color: #3B4455;\n",
              "      fill: #D2E3FC;\n",
              "    }\n",
              "\n",
              "    [theme=dark] .colab-df-convert:hover {\n",
              "      background-color: #434B5C;\n",
              "      box-shadow: 0px 1px 3px 1px rgba(0, 0, 0, 0.15);\n",
              "      filter: drop-shadow(0px 1px 2px rgba(0, 0, 0, 0.3));\n",
              "      fill: #FFFFFF;\n",
              "    }\n",
              "  </style>\n",
              "\n",
              "      <script>\n",
              "        const buttonEl =\n",
              "          document.querySelector('#df-cfaf6596-446b-4611-9378-3a264a87c9cb button.colab-df-convert');\n",
              "        buttonEl.style.display =\n",
              "          google.colab.kernel.accessAllowed ? 'block' : 'none';\n",
              "\n",
              "        async function convertToInteractive(key) {\n",
              "          const element = document.querySelector('#df-cfaf6596-446b-4611-9378-3a264a87c9cb');\n",
              "          const dataTable =\n",
              "            await google.colab.kernel.invokeFunction('convertToInteractive',\n",
              "                                                     [key], {});\n",
              "          if (!dataTable) return;\n",
              "\n",
              "          const docLinkHtml = 'Like what you see? Visit the ' +\n",
              "            '<a target=\"_blank\" href=https://colab.research.google.com/notebooks/data_table.ipynb>data table notebook</a>'\n",
              "            + ' to learn more about interactive tables.';\n",
              "          element.innerHTML = '';\n",
              "          dataTable['output_type'] = 'display_data';\n",
              "          await google.colab.output.renderOutput(dataTable, element);\n",
              "          const docLink = document.createElement('div');\n",
              "          docLink.innerHTML = docLinkHtml;\n",
              "          element.appendChild(docLink);\n",
              "        }\n",
              "      </script>\n",
              "    </div>\n",
              "  </div>\n",
              "  "
            ]
          },
          "metadata": {},
          "execution_count": 78
        }
      ]
    },
    {
      "cell_type": "code",
      "source": [
        "df"
      ],
      "metadata": {
        "colab": {
          "base_uri": "https://localhost:8080/",
          "height": 423
        },
        "id": "124WFUSP1Wqg",
        "outputId": "ede01ae1-e450-4598-bbcd-7058617b3748"
      },
      "execution_count": null,
      "outputs": [
        {
          "output_type": "execute_result",
          "data": {
            "text/plain": [
              "       suite_id  sample_id  code  value character  class_id\n",
              "0             1          1    10      9         九         9\n",
              "1             1         10    10      9         九         9\n",
              "2             1          2    10      9         九         9\n",
              "3             1          3    10      9         九         9\n",
              "4             1          4    10      9         九         9\n",
              "...         ...        ...   ...    ...       ...       ...\n",
              "14995        99          5     9      8         八         8\n",
              "14996        99          6     9      8         八         8\n",
              "14997        99          7     9      8         八         8\n",
              "14998        99          8     9      8         八         8\n",
              "14999        99          9     9      8         八         8\n",
              "\n",
              "[15000 rows x 6 columns]"
            ],
            "text/html": [
              "\n",
              "  <div id=\"df-739fc1f8-376d-4a28-8410-89a7df1ea16d\">\n",
              "    <div class=\"colab-df-container\">\n",
              "      <div>\n",
              "<style scoped>\n",
              "    .dataframe tbody tr th:only-of-type {\n",
              "        vertical-align: middle;\n",
              "    }\n",
              "\n",
              "    .dataframe tbody tr th {\n",
              "        vertical-align: top;\n",
              "    }\n",
              "\n",
              "    .dataframe thead th {\n",
              "        text-align: right;\n",
              "    }\n",
              "</style>\n",
              "<table border=\"1\" class=\"dataframe\">\n",
              "  <thead>\n",
              "    <tr style=\"text-align: right;\">\n",
              "      <th></th>\n",
              "      <th>suite_id</th>\n",
              "      <th>sample_id</th>\n",
              "      <th>code</th>\n",
              "      <th>value</th>\n",
              "      <th>character</th>\n",
              "      <th>class_id</th>\n",
              "    </tr>\n",
              "  </thead>\n",
              "  <tbody>\n",
              "    <tr>\n",
              "      <th>0</th>\n",
              "      <td>1</td>\n",
              "      <td>1</td>\n",
              "      <td>10</td>\n",
              "      <td>9</td>\n",
              "      <td>九</td>\n",
              "      <td>9</td>\n",
              "    </tr>\n",
              "    <tr>\n",
              "      <th>1</th>\n",
              "      <td>1</td>\n",
              "      <td>10</td>\n",
              "      <td>10</td>\n",
              "      <td>9</td>\n",
              "      <td>九</td>\n",
              "      <td>9</td>\n",
              "    </tr>\n",
              "    <tr>\n",
              "      <th>2</th>\n",
              "      <td>1</td>\n",
              "      <td>2</td>\n",
              "      <td>10</td>\n",
              "      <td>9</td>\n",
              "      <td>九</td>\n",
              "      <td>9</td>\n",
              "    </tr>\n",
              "    <tr>\n",
              "      <th>3</th>\n",
              "      <td>1</td>\n",
              "      <td>3</td>\n",
              "      <td>10</td>\n",
              "      <td>9</td>\n",
              "      <td>九</td>\n",
              "      <td>9</td>\n",
              "    </tr>\n",
              "    <tr>\n",
              "      <th>4</th>\n",
              "      <td>1</td>\n",
              "      <td>4</td>\n",
              "      <td>10</td>\n",
              "      <td>9</td>\n",
              "      <td>九</td>\n",
              "      <td>9</td>\n",
              "    </tr>\n",
              "    <tr>\n",
              "      <th>...</th>\n",
              "      <td>...</td>\n",
              "      <td>...</td>\n",
              "      <td>...</td>\n",
              "      <td>...</td>\n",
              "      <td>...</td>\n",
              "      <td>...</td>\n",
              "    </tr>\n",
              "    <tr>\n",
              "      <th>14995</th>\n",
              "      <td>99</td>\n",
              "      <td>5</td>\n",
              "      <td>9</td>\n",
              "      <td>8</td>\n",
              "      <td>八</td>\n",
              "      <td>8</td>\n",
              "    </tr>\n",
              "    <tr>\n",
              "      <th>14996</th>\n",
              "      <td>99</td>\n",
              "      <td>6</td>\n",
              "      <td>9</td>\n",
              "      <td>8</td>\n",
              "      <td>八</td>\n",
              "      <td>8</td>\n",
              "    </tr>\n",
              "    <tr>\n",
              "      <th>14997</th>\n",
              "      <td>99</td>\n",
              "      <td>7</td>\n",
              "      <td>9</td>\n",
              "      <td>8</td>\n",
              "      <td>八</td>\n",
              "      <td>8</td>\n",
              "    </tr>\n",
              "    <tr>\n",
              "      <th>14998</th>\n",
              "      <td>99</td>\n",
              "      <td>8</td>\n",
              "      <td>9</td>\n",
              "      <td>8</td>\n",
              "      <td>八</td>\n",
              "      <td>8</td>\n",
              "    </tr>\n",
              "    <tr>\n",
              "      <th>14999</th>\n",
              "      <td>99</td>\n",
              "      <td>9</td>\n",
              "      <td>9</td>\n",
              "      <td>8</td>\n",
              "      <td>八</td>\n",
              "      <td>8</td>\n",
              "    </tr>\n",
              "  </tbody>\n",
              "</table>\n",
              "<p>15000 rows × 6 columns</p>\n",
              "</div>\n",
              "      <button class=\"colab-df-convert\" onclick=\"convertToInteractive('df-739fc1f8-376d-4a28-8410-89a7df1ea16d')\"\n",
              "              title=\"Convert this dataframe to an interactive table.\"\n",
              "              style=\"display:none;\">\n",
              "        \n",
              "  <svg xmlns=\"http://www.w3.org/2000/svg\" height=\"24px\"viewBox=\"0 0 24 24\"\n",
              "       width=\"24px\">\n",
              "    <path d=\"M0 0h24v24H0V0z\" fill=\"none\"/>\n",
              "    <path d=\"M18.56 5.44l.94 2.06.94-2.06 2.06-.94-2.06-.94-.94-2.06-.94 2.06-2.06.94zm-11 1L8.5 8.5l.94-2.06 2.06-.94-2.06-.94L8.5 2.5l-.94 2.06-2.06.94zm10 10l.94 2.06.94-2.06 2.06-.94-2.06-.94-.94-2.06-.94 2.06-2.06.94z\"/><path d=\"M17.41 7.96l-1.37-1.37c-.4-.4-.92-.59-1.43-.59-.52 0-1.04.2-1.43.59L10.3 9.45l-7.72 7.72c-.78.78-.78 2.05 0 2.83L4 21.41c.39.39.9.59 1.41.59.51 0 1.02-.2 1.41-.59l7.78-7.78 2.81-2.81c.8-.78.8-2.07 0-2.86zM5.41 20L4 18.59l7.72-7.72 1.47 1.35L5.41 20z\"/>\n",
              "  </svg>\n",
              "      </button>\n",
              "      \n",
              "  <style>\n",
              "    .colab-df-container {\n",
              "      display:flex;\n",
              "      flex-wrap:wrap;\n",
              "      gap: 12px;\n",
              "    }\n",
              "\n",
              "    .colab-df-convert {\n",
              "      background-color: #E8F0FE;\n",
              "      border: none;\n",
              "      border-radius: 50%;\n",
              "      cursor: pointer;\n",
              "      display: none;\n",
              "      fill: #1967D2;\n",
              "      height: 32px;\n",
              "      padding: 0 0 0 0;\n",
              "      width: 32px;\n",
              "    }\n",
              "\n",
              "    .colab-df-convert:hover {\n",
              "      background-color: #E2EBFA;\n",
              "      box-shadow: 0px 1px 2px rgba(60, 64, 67, 0.3), 0px 1px 3px 1px rgba(60, 64, 67, 0.15);\n",
              "      fill: #174EA6;\n",
              "    }\n",
              "\n",
              "    [theme=dark] .colab-df-convert {\n",
              "      background-color: #3B4455;\n",
              "      fill: #D2E3FC;\n",
              "    }\n",
              "\n",
              "    [theme=dark] .colab-df-convert:hover {\n",
              "      background-color: #434B5C;\n",
              "      box-shadow: 0px 1px 3px 1px rgba(0, 0, 0, 0.15);\n",
              "      filter: drop-shadow(0px 1px 2px rgba(0, 0, 0, 0.3));\n",
              "      fill: #FFFFFF;\n",
              "    }\n",
              "  </style>\n",
              "\n",
              "      <script>\n",
              "        const buttonEl =\n",
              "          document.querySelector('#df-739fc1f8-376d-4a28-8410-89a7df1ea16d button.colab-df-convert');\n",
              "        buttonEl.style.display =\n",
              "          google.colab.kernel.accessAllowed ? 'block' : 'none';\n",
              "\n",
              "        async function convertToInteractive(key) {\n",
              "          const element = document.querySelector('#df-739fc1f8-376d-4a28-8410-89a7df1ea16d');\n",
              "          const dataTable =\n",
              "            await google.colab.kernel.invokeFunction('convertToInteractive',\n",
              "                                                     [key], {});\n",
              "          if (!dataTable) return;\n",
              "\n",
              "          const docLinkHtml = 'Like what you see? Visit the ' +\n",
              "            '<a target=\"_blank\" href=https://colab.research.google.com/notebooks/data_table.ipynb>data table notebook</a>'\n",
              "            + ' to learn more about interactive tables.';\n",
              "          element.innerHTML = '';\n",
              "          dataTable['output_type'] = 'display_data';\n",
              "          await google.colab.output.renderOutput(dataTable, element);\n",
              "          const docLink = document.createElement('div');\n",
              "          docLink.innerHTML = docLinkHtml;\n",
              "          element.appendChild(docLink);\n",
              "        }\n",
              "      </script>\n",
              "    </div>\n",
              "  </div>\n",
              "  "
            ]
          },
          "metadata": {},
          "execution_count": 79
        }
      ]
    },
    {
      "cell_type": "code",
      "metadata": {
        "colab": {
          "base_uri": "https://localhost:8080/",
          "height": 414
        },
        "id": "FBHkDGNu1ZLM",
        "outputId": "f013b2a1-79fa-45a1-f937-90d74316056e"
      },
      "source": [
        "#take a look at it\n",
        "df# image file names include some info about the image like suite_id sample id and code.\n",
        "#if we can add value as a label for our custom dataset that will be good."
      ],
      "execution_count": null,
      "outputs": [
        {
          "output_type": "execute_result",
          "data": {
            "text/html": [
              "<div>\n",
              "<style scoped>\n",
              "    .dataframe tbody tr th:only-of-type {\n",
              "        vertical-align: middle;\n",
              "    }\n",
              "\n",
              "    .dataframe tbody tr th {\n",
              "        vertical-align: top;\n",
              "    }\n",
              "\n",
              "    .dataframe thead th {\n",
              "        text-align: right;\n",
              "    }\n",
              "</style>\n",
              "<table border=\"1\" class=\"dataframe\">\n",
              "  <thead>\n",
              "    <tr style=\"text-align: right;\">\n",
              "      <th></th>\n",
              "      <th>suite_id</th>\n",
              "      <th>sample_id</th>\n",
              "      <th>code</th>\n",
              "      <th>value</th>\n",
              "      <th>character</th>\n",
              "    </tr>\n",
              "  </thead>\n",
              "  <tbody>\n",
              "    <tr>\n",
              "      <th>0</th>\n",
              "      <td>1</td>\n",
              "      <td>1</td>\n",
              "      <td>10</td>\n",
              "      <td>9</td>\n",
              "      <td>九</td>\n",
              "    </tr>\n",
              "    <tr>\n",
              "      <th>1</th>\n",
              "      <td>1</td>\n",
              "      <td>10</td>\n",
              "      <td>10</td>\n",
              "      <td>9</td>\n",
              "      <td>九</td>\n",
              "    </tr>\n",
              "    <tr>\n",
              "      <th>2</th>\n",
              "      <td>1</td>\n",
              "      <td>2</td>\n",
              "      <td>10</td>\n",
              "      <td>9</td>\n",
              "      <td>九</td>\n",
              "    </tr>\n",
              "    <tr>\n",
              "      <th>3</th>\n",
              "      <td>1</td>\n",
              "      <td>3</td>\n",
              "      <td>10</td>\n",
              "      <td>9</td>\n",
              "      <td>九</td>\n",
              "    </tr>\n",
              "    <tr>\n",
              "      <th>4</th>\n",
              "      <td>1</td>\n",
              "      <td>4</td>\n",
              "      <td>10</td>\n",
              "      <td>9</td>\n",
              "      <td>九</td>\n",
              "    </tr>\n",
              "    <tr>\n",
              "      <th>...</th>\n",
              "      <td>...</td>\n",
              "      <td>...</td>\n",
              "      <td>...</td>\n",
              "      <td>...</td>\n",
              "      <td>...</td>\n",
              "    </tr>\n",
              "    <tr>\n",
              "      <th>14995</th>\n",
              "      <td>99</td>\n",
              "      <td>5</td>\n",
              "      <td>9</td>\n",
              "      <td>8</td>\n",
              "      <td>八</td>\n",
              "    </tr>\n",
              "    <tr>\n",
              "      <th>14996</th>\n",
              "      <td>99</td>\n",
              "      <td>6</td>\n",
              "      <td>9</td>\n",
              "      <td>8</td>\n",
              "      <td>八</td>\n",
              "    </tr>\n",
              "    <tr>\n",
              "      <th>14997</th>\n",
              "      <td>99</td>\n",
              "      <td>7</td>\n",
              "      <td>9</td>\n",
              "      <td>8</td>\n",
              "      <td>八</td>\n",
              "    </tr>\n",
              "    <tr>\n",
              "      <th>14998</th>\n",
              "      <td>99</td>\n",
              "      <td>8</td>\n",
              "      <td>9</td>\n",
              "      <td>8</td>\n",
              "      <td>八</td>\n",
              "    </tr>\n",
              "    <tr>\n",
              "      <th>14999</th>\n",
              "      <td>99</td>\n",
              "      <td>9</td>\n",
              "      <td>9</td>\n",
              "      <td>8</td>\n",
              "      <td>八</td>\n",
              "    </tr>\n",
              "  </tbody>\n",
              "</table>\n",
              "<p>15000 rows × 5 columns</p>\n",
              "</div>"
            ],
            "text/plain": [
              "       suite_id  sample_id  code  value character\n",
              "0             1          1    10      9         九\n",
              "1             1         10    10      9         九\n",
              "2             1          2    10      9         九\n",
              "3             1          3    10      9         九\n",
              "4             1          4    10      9         九\n",
              "...         ...        ...   ...    ...       ...\n",
              "14995        99          5     9      8         八\n",
              "14996        99          6     9      8         八\n",
              "14997        99          7     9      8         八\n",
              "14998        99          8     9      8         八\n",
              "14999        99          9     9      8         八\n",
              "\n",
              "[15000 rows x 5 columns]"
            ]
          },
          "metadata": {},
          "execution_count": 57
        }
      ]
    },
    {
      "cell_type": "code",
      "metadata": {
        "colab": {
          "base_uri": "https://localhost:8080/"
        },
        "id": "2AqlA2aRmpaV",
        "outputId": "c7f7d2a1-9840-4d0c-903b-5ae817c26254"
      },
      "source": [
        "df.isnull().sum(),df.shape #there is no missing vals and number of data and number of images are match up"
      ],
      "execution_count": null,
      "outputs": [
        {
          "output_type": "execute_result",
          "data": {
            "text/plain": [
              "(suite_id     0\n",
              " sample_id    0\n",
              " code         0\n",
              " value        0\n",
              " character    0\n",
              " dtype: int64, (15000, 5))"
            ]
          },
          "metadata": {},
          "execution_count": 9
        }
      ]
    },
    {
      "cell_type": "code",
      "metadata": {
        "colab": {
          "base_uri": "https://localhost:8080/"
        },
        "id": "sawJg827h4Tt",
        "outputId": "c7b41d6f-d8cc-4853-9eb9-e091117aa1c6"
      },
      "source": [
        "df.info()#we need to encode df character. we can use get dummies "
      ],
      "execution_count": null,
      "outputs": [
        {
          "output_type": "stream",
          "name": "stdout",
          "text": [
            "<class 'pandas.core.frame.DataFrame'>\n",
            "RangeIndex: 15000 entries, 0 to 14999\n",
            "Data columns (total 6 columns):\n",
            " #   Column     Non-Null Count  Dtype \n",
            "---  ------     --------------  ----- \n",
            " 0   suite_id   15000 non-null  int64 \n",
            " 1   sample_id  15000 non-null  int64 \n",
            " 2   code       15000 non-null  int64 \n",
            " 3   value      15000 non-null  int64 \n",
            " 4   character  15000 non-null  object\n",
            " 5   class_id   15000 non-null  int64 \n",
            "dtypes: int64(5), object(1)\n",
            "memory usage: 703.2+ KB\n"
          ]
        }
      ]
    },
    {
      "cell_type": "code",
      "metadata": {
        "id": "wR-qhMdy09xD"
      },
      "source": [
        "X = df.drop('character', axis=1)"
      ],
      "execution_count": null,
      "outputs": []
    },
    {
      "cell_type": "code",
      "source": [
        "# character_dictionary = {'零':int(0),'一':int(1),'二':int(2),'三':int(3),'四':int(4),'五':int(5),'六':int(6),'七':int(7),'八':int(8),'九':int(9),'十':int(10),'百':int(11),'千':int(12),'万':int(13),'亿':int(14)}\n",
        "# inv_character_dictionary = {v: k for k, v in character_dictionary.items()}\n",
        "\n",
        "# class_ids = []\n",
        "# for index, row in df.iterrows():\n",
        "#     class_ids.append(character_dictionary[row['character']])\n",
        "# df[\"class_id\"] = class_ids"
      ],
      "metadata": {
        "id": "mDXGrHwOQW8y"
      },
      "execution_count": null,
      "outputs": []
    },
    {
      "cell_type": "code",
      "source": [
        "# df = df.drop('class_id', axis=1)"
      ],
      "metadata": {
        "id": "uop3LyTQTUa5"
      },
      "execution_count": null,
      "outputs": []
    },
    {
      "cell_type": "code",
      "source": [
        "df"
      ],
      "metadata": {
        "colab": {
          "base_uri": "https://localhost:8080/",
          "height": 423
        },
        "id": "lzh2yX74IlPe",
        "outputId": "08e3f147-447c-43c4-cf3c-d503ae073acc"
      },
      "execution_count": null,
      "outputs": [
        {
          "output_type": "execute_result",
          "data": {
            "text/plain": [
              "       suite_id  sample_id  code      value character\n",
              "2449         49          9    12        100         百\n",
              "5962         96          2    15  100000000         亿\n",
              "12793        80          3     7          6         六\n",
              "2684         70          4    12        100         百\n",
              "12257        31          7     7          6         六\n",
              "...         ...        ...   ...        ...       ...\n",
              "8460         50          1     3          2         二\n",
              "244          30          4    10          9         九\n",
              "14315        37          5     9          8         八\n",
              "10014        10          4     5          4         四\n",
              "8533         57          3     3          2         二\n",
              "\n",
              "[15000 rows x 5 columns]"
            ],
            "text/html": [
              "\n",
              "  <div id=\"df-a0787d4b-15aa-45e9-8495-b406fda7a2ee\">\n",
              "    <div class=\"colab-df-container\">\n",
              "      <div>\n",
              "<style scoped>\n",
              "    .dataframe tbody tr th:only-of-type {\n",
              "        vertical-align: middle;\n",
              "    }\n",
              "\n",
              "    .dataframe tbody tr th {\n",
              "        vertical-align: top;\n",
              "    }\n",
              "\n",
              "    .dataframe thead th {\n",
              "        text-align: right;\n",
              "    }\n",
              "</style>\n",
              "<table border=\"1\" class=\"dataframe\">\n",
              "  <thead>\n",
              "    <tr style=\"text-align: right;\">\n",
              "      <th></th>\n",
              "      <th>suite_id</th>\n",
              "      <th>sample_id</th>\n",
              "      <th>code</th>\n",
              "      <th>value</th>\n",
              "      <th>character</th>\n",
              "    </tr>\n",
              "  </thead>\n",
              "  <tbody>\n",
              "    <tr>\n",
              "      <th>2449</th>\n",
              "      <td>49</td>\n",
              "      <td>9</td>\n",
              "      <td>12</td>\n",
              "      <td>100</td>\n",
              "      <td>百</td>\n",
              "    </tr>\n",
              "    <tr>\n",
              "      <th>5962</th>\n",
              "      <td>96</td>\n",
              "      <td>2</td>\n",
              "      <td>15</td>\n",
              "      <td>100000000</td>\n",
              "      <td>亿</td>\n",
              "    </tr>\n",
              "    <tr>\n",
              "      <th>12793</th>\n",
              "      <td>80</td>\n",
              "      <td>3</td>\n",
              "      <td>7</td>\n",
              "      <td>6</td>\n",
              "      <td>六</td>\n",
              "    </tr>\n",
              "    <tr>\n",
              "      <th>2684</th>\n",
              "      <td>70</td>\n",
              "      <td>4</td>\n",
              "      <td>12</td>\n",
              "      <td>100</td>\n",
              "      <td>百</td>\n",
              "    </tr>\n",
              "    <tr>\n",
              "      <th>12257</th>\n",
              "      <td>31</td>\n",
              "      <td>7</td>\n",
              "      <td>7</td>\n",
              "      <td>6</td>\n",
              "      <td>六</td>\n",
              "    </tr>\n",
              "    <tr>\n",
              "      <th>...</th>\n",
              "      <td>...</td>\n",
              "      <td>...</td>\n",
              "      <td>...</td>\n",
              "      <td>...</td>\n",
              "      <td>...</td>\n",
              "    </tr>\n",
              "    <tr>\n",
              "      <th>8460</th>\n",
              "      <td>50</td>\n",
              "      <td>1</td>\n",
              "      <td>3</td>\n",
              "      <td>2</td>\n",
              "      <td>二</td>\n",
              "    </tr>\n",
              "    <tr>\n",
              "      <th>244</th>\n",
              "      <td>30</td>\n",
              "      <td>4</td>\n",
              "      <td>10</td>\n",
              "      <td>9</td>\n",
              "      <td>九</td>\n",
              "    </tr>\n",
              "    <tr>\n",
              "      <th>14315</th>\n",
              "      <td>37</td>\n",
              "      <td>5</td>\n",
              "      <td>9</td>\n",
              "      <td>8</td>\n",
              "      <td>八</td>\n",
              "    </tr>\n",
              "    <tr>\n",
              "      <th>10014</th>\n",
              "      <td>10</td>\n",
              "      <td>4</td>\n",
              "      <td>5</td>\n",
              "      <td>4</td>\n",
              "      <td>四</td>\n",
              "    </tr>\n",
              "    <tr>\n",
              "      <th>8533</th>\n",
              "      <td>57</td>\n",
              "      <td>3</td>\n",
              "      <td>3</td>\n",
              "      <td>2</td>\n",
              "      <td>二</td>\n",
              "    </tr>\n",
              "  </tbody>\n",
              "</table>\n",
              "<p>15000 rows × 5 columns</p>\n",
              "</div>\n",
              "      <button class=\"colab-df-convert\" onclick=\"convertToInteractive('df-a0787d4b-15aa-45e9-8495-b406fda7a2ee')\"\n",
              "              title=\"Convert this dataframe to an interactive table.\"\n",
              "              style=\"display:none;\">\n",
              "        \n",
              "  <svg xmlns=\"http://www.w3.org/2000/svg\" height=\"24px\"viewBox=\"0 0 24 24\"\n",
              "       width=\"24px\">\n",
              "    <path d=\"M0 0h24v24H0V0z\" fill=\"none\"/>\n",
              "    <path d=\"M18.56 5.44l.94 2.06.94-2.06 2.06-.94-2.06-.94-.94-2.06-.94 2.06-2.06.94zm-11 1L8.5 8.5l.94-2.06 2.06-.94-2.06-.94L8.5 2.5l-.94 2.06-2.06.94zm10 10l.94 2.06.94-2.06 2.06-.94-2.06-.94-.94-2.06-.94 2.06-2.06.94z\"/><path d=\"M17.41 7.96l-1.37-1.37c-.4-.4-.92-.59-1.43-.59-.52 0-1.04.2-1.43.59L10.3 9.45l-7.72 7.72c-.78.78-.78 2.05 0 2.83L4 21.41c.39.39.9.59 1.41.59.51 0 1.02-.2 1.41-.59l7.78-7.78 2.81-2.81c.8-.78.8-2.07 0-2.86zM5.41 20L4 18.59l7.72-7.72 1.47 1.35L5.41 20z\"/>\n",
              "  </svg>\n",
              "      </button>\n",
              "      \n",
              "  <style>\n",
              "    .colab-df-container {\n",
              "      display:flex;\n",
              "      flex-wrap:wrap;\n",
              "      gap: 12px;\n",
              "    }\n",
              "\n",
              "    .colab-df-convert {\n",
              "      background-color: #E8F0FE;\n",
              "      border: none;\n",
              "      border-radius: 50%;\n",
              "      cursor: pointer;\n",
              "      display: none;\n",
              "      fill: #1967D2;\n",
              "      height: 32px;\n",
              "      padding: 0 0 0 0;\n",
              "      width: 32px;\n",
              "    }\n",
              "\n",
              "    .colab-df-convert:hover {\n",
              "      background-color: #E2EBFA;\n",
              "      box-shadow: 0px 1px 2px rgba(60, 64, 67, 0.3), 0px 1px 3px 1px rgba(60, 64, 67, 0.15);\n",
              "      fill: #174EA6;\n",
              "    }\n",
              "\n",
              "    [theme=dark] .colab-df-convert {\n",
              "      background-color: #3B4455;\n",
              "      fill: #D2E3FC;\n",
              "    }\n",
              "\n",
              "    [theme=dark] .colab-df-convert:hover {\n",
              "      background-color: #434B5C;\n",
              "      box-shadow: 0px 1px 3px 1px rgba(0, 0, 0, 0.15);\n",
              "      filter: drop-shadow(0px 1px 2px rgba(0, 0, 0, 0.3));\n",
              "      fill: #FFFFFF;\n",
              "    }\n",
              "  </style>\n",
              "\n",
              "      <script>\n",
              "        const buttonEl =\n",
              "          document.querySelector('#df-a0787d4b-15aa-45e9-8495-b406fda7a2ee button.colab-df-convert');\n",
              "        buttonEl.style.display =\n",
              "          google.colab.kernel.accessAllowed ? 'block' : 'none';\n",
              "\n",
              "        async function convertToInteractive(key) {\n",
              "          const element = document.querySelector('#df-a0787d4b-15aa-45e9-8495-b406fda7a2ee');\n",
              "          const dataTable =\n",
              "            await google.colab.kernel.invokeFunction('convertToInteractive',\n",
              "                                                     [key], {});\n",
              "          if (!dataTable) return;\n",
              "\n",
              "          const docLinkHtml = 'Like what you see? Visit the ' +\n",
              "            '<a target=\"_blank\" href=https://colab.research.google.com/notebooks/data_table.ipynb>data table notebook</a>'\n",
              "            + ' to learn more about interactive tables.';\n",
              "          element.innerHTML = '';\n",
              "          dataTable['output_type'] = 'display_data';\n",
              "          await google.colab.output.renderOutput(dataTable, element);\n",
              "          const docLink = document.createElement('div');\n",
              "          docLink.innerHTML = docLinkHtml;\n",
              "          element.appendChild(docLink);\n",
              "        }\n",
              "      </script>\n",
              "    </div>\n",
              "  </div>\n",
              "  "
            ]
          },
          "metadata": {},
          "execution_count": 183
        }
      ]
    },
    {
      "cell_type": "code",
      "source": [
        "k = np.asarray(df.iloc[:, 4])\n",
        "target = 'character'\n",
        "y = df[target]"
      ],
      "metadata": {
        "id": "QpPOLh6scsLM"
      },
      "execution_count": null,
      "outputs": []
    },
    {
      "cell_type": "code",
      "source": [
        "y.shape"
      ],
      "metadata": {
        "colab": {
          "base_uri": "https://localhost:8080/"
        },
        "id": "sdRh8nHKIuNH",
        "outputId": "5413b151-c153-4a6c-e997-8b5d0568f31c"
      },
      "execution_count": null,
      "outputs": [
        {
          "output_type": "execute_result",
          "data": {
            "text/plain": [
              "(15000,)"
            ]
          },
          "metadata": {},
          "execution_count": 155
        }
      ]
    },
    {
      "cell_type": "code",
      "source": [
        "k.shape"
      ],
      "metadata": {
        "colab": {
          "base_uri": "https://localhost:8080/"
        },
        "id": "C8sSq6hzIvAn",
        "outputId": "32e16d03-df69-41d5-937a-d356d6a89374"
      },
      "execution_count": null,
      "outputs": [
        {
          "output_type": "execute_result",
          "data": {
            "text/plain": [
              "(15000,)"
            ]
          },
          "metadata": {},
          "execution_count": 152
        }
      ]
    },
    {
      "cell_type": "code",
      "metadata": {
        "id": "HFqzPCD7QSFD"
      },
      "source": [
        "class CustomDataset(Dataset):\n",
        "  def __init__(self, k,l, csv_file ='../content/chinese_mnist.csv'):\n",
        "\n",
        "\n",
        "    self.df = pd.read_csv(csv_file)\n",
        "    \n",
        "\n",
        "    self.chr= {'九':int(9),'十':int(10),'百':int(11),'千':int(12),'万':int(13),'亿':int(14),'零':int(0),'一':int(1),'二':int(2),'三':int(3),'四':int(4),'五':int(5),'六':int(6),'七':int(7),'八':int(8)}\n",
        "\n",
        "    \n",
        "\n",
        "\n",
        "    self.target = 'character'\n",
        "\n",
        "    # self.features = ['suite_id','sample_id','code',]\n",
        "    #self.categorical = 'value'\n",
        "\n",
        "    #self.cat = pd.get_dummies(df, prefix=self.categorical)\n",
        "\n",
        "    # self.labels   = np.asarray(self.df.iloc[:, 4])\n",
        "    \n",
        "    self.y = df[self.target]\n",
        "    self.X = df.drop(self.target, axis =1 )\n",
        "\n",
        "  def __getitem__(self,idx):\n",
        "\n",
        "    single_image_label = self.y[idx]\n",
        "\n",
        "    class_id = self.chr[single_image_label]\n",
        "    \n",
        "    img = Image.open(f\"../content/data/data/input_{self.X.iloc[idx, 0]}_{self.X.iloc[idx, 1]}_{self.X.iloc[idx, 2]}.jpg\")\n",
        "    img = np.array(img) # convert to np.array\n",
        "       \n",
        "\n",
        "    return img, class_id\n",
        "\n",
        "  def __len__(self):\n",
        "\n",
        "    return len(self.X)\n"
      ],
      "execution_count": null,
      "outputs": []
    },
    {
      "cell_type": "code",
      "metadata": {
        "id": "0tusiIH8we9T"
      },
      "source": [
        "# split data 70% of train 30% as test data\n",
        "train_df = df.groupby('value').apply(lambda x: x.sample(700, random_state=42)).reset_index(drop=True)\n",
        "x_train, y_train  = train_df.iloc[:, :-2], train_df.iloc[:, -2]\n",
        "\n",
        "test_df  = df.groupby('value').apply(lambda x: x.sample(300, random_state=42)).reset_index(drop=True)\n",
        "x_test, y_test    = test_df.iloc[:, :-2], test_df.iloc[:, -2]"
      ],
      "execution_count": null,
      "outputs": []
    },
    {
      "cell_type": "code",
      "source": [
        "y_test"
      ],
      "metadata": {
        "colab": {
          "base_uri": "https://localhost:8080/"
        },
        "id": "m1zlt6NmCROu",
        "outputId": "e2077d39-97a7-4edc-d4ee-3c8dd41c6574"
      },
      "execution_count": null,
      "outputs": [
        {
          "output_type": "execute_result",
          "data": {
            "text/plain": [
              "0               0\n",
              "1               0\n",
              "2               0\n",
              "3               0\n",
              "4               0\n",
              "          ...    \n",
              "4495    100000000\n",
              "4496    100000000\n",
              "4497    100000000\n",
              "4498    100000000\n",
              "4499    100000000\n",
              "Name: value, Length: 4500, dtype: int64"
            ]
          },
          "metadata": {},
          "execution_count": 31
        }
      ]
    },
    {
      "cell_type": "code",
      "metadata": {
        "id": "RfS7GFZiSlFO"
      },
      "source": [
        "#create train dataset and test dataset \n",
        "train_ds = CustomDataset(x_train, y_train)\n",
        "trainloader = DataLoader(dataset=train_ds,batch_size=32, shuffle=True)"
      ],
      "execution_count": null,
      "outputs": []
    },
    {
      "cell_type": "code",
      "metadata": {
        "id": "ceh3H2LXS-A8"
      },
      "source": [
        "test_ds = CustomDataset(x_test, y_test)\n",
        "testloader = DataLoader(test_ds, batch_size=32, shuffle=True)"
      ],
      "execution_count": null,
      "outputs": []
    },
    {
      "cell_type": "code",
      "source": [
        "train_ds"
      ],
      "metadata": {
        "colab": {
          "base_uri": "https://localhost:8080/"
        },
        "id": "V-cgBQkgHvZC",
        "outputId": "4b39e886-d5fe-4367-edf8-a38149f770cc"
      },
      "execution_count": null,
      "outputs": [
        {
          "output_type": "execute_result",
          "data": {
            "text/plain": [
              "<__main__.CustomDataset at 0x7f58cb3df310>"
            ]
          },
          "metadata": {},
          "execution_count": 141
        }
      ]
    },
    {
      "cell_type": "code",
      "metadata": {
        "id": "qXYp63jJ_Cci"
      },
      "source": [
        "dictt = {int(9):'九',int(10):'十',int(11):'百',\n",
        "  int(12):'千',int(13):'万',int(14):'亿',\n",
        "  int(0):'零',int(1):'一',int(2):'二',\n",
        "  int(3):'三',int(4):'四',int(5):'五',\n",
        "  int(6):'六',int(7):'七',int(8):'八'}"
      ],
      "execution_count": null,
      "outputs": []
    },
    {
      "cell_type": "code",
      "metadata": {
        "colab": {
          "base_uri": "https://localhost:8080/",
          "height": 286
        },
        "id": "hIR9N_D-87g6",
        "outputId": "430f519c-c90e-4d57-fb48-c5d8a801bc0d"
      },
      "source": [
        "dataiter = iter(testloader)\n",
        "images,labels = dataiter.next()\n",
        "plt.imshow(images[0], cmap='gray')#\n",
        "\n",
        "\n",
        "print(labels[0],dictt[int(labels[0])])\n",
        "# dictt['零']"
      ],
      "execution_count": null,
      "outputs": [
        {
          "output_type": "stream",
          "name": "stdout",
          "text": [
            "tensor(7) 七\n"
          ]
        },
        {
          "output_type": "display_data",
          "data": {
            "text/plain": [
              "<Figure size 432x288 with 1 Axes>"
            ],
            "image/png": "[encoded data removed]"
          },
          "metadata": {
            "needs_background": "light"
          }
        }
      ]
    },
    {
      "cell_type": "code",
      "metadata": {
        "id": "3pvUxeI_Qz2s"
      },
      "source": [
        "#images[0].shape"
      ],
      "execution_count": null,
      "outputs": []
    },
    {
      "cell_type": "code",
      "metadata": {
        "id": "5SsiXbLem3BH"
      },
      "source": [
        "class Net(nn.Module):\n",
        "    def __init__(self):\n",
        "        super(Net, self).__init__()\n",
        "        self.conv1 = nn.Conv2d(1, 32, kernel_size=5)\n",
        "        self.conv2 = nn.Conv2d(32, 64, kernel_size=5)\n",
        "        \n",
        "        self.fc1 = nn.Linear(64*13*13, 500)\n",
        "        self.fc2 = nn.Linear(500, 15)\n",
        "\n",
        "        self.log_softmax = nn.LogSoftmax(dim=0)\n",
        "        self.conv2_drop = nn.Dropout2d()\n",
        "\n",
        "    def forward(self, x):\n",
        "        x = x.unsqueeze(1)\n",
        "        x = F.relu(F.max_pool2d(self.conv1(x), 2))\n",
        "        x = F.relu(F.max_pool2d(self.conv2_drop(self.conv2(x)), 2))\n",
        "        x = torch.flatten(x, start_dim=1)\n",
        "        x = F.relu(self.fc1(x))\n",
        "        #x = F.dropout(x, training=self.training)\n",
        "        x = self.fc2(x)\n",
        "        \n",
        "        output = self.log_softmax(x)\n",
        "        return output\n",
        "\n",
        "model = Net()\n",
        "            "
      ],
      "execution_count": null,
      "outputs": []
    },
    {
      "cell_type": "code",
      "metadata": {
        "id": "Iv73cCuGrViK"
      },
      "source": [
        "#summary(model,(64,64))"
      ],
      "execution_count": null,
      "outputs": []
    },
    {
      "cell_type": "code",
      "metadata": {
        "id": "by-2Mm0iV8Rz"
      },
      "source": [
        "los = nn.CrossEntropyLoss()"
      ],
      "execution_count": null,
      "outputs": []
    },
    {
      "cell_type": "code",
      "metadata": {
        "id": "DShesmNgV8R0"
      },
      "source": [
        "optimizer = optim.Adam(model.parameters(), lr=0.001,)\n",
        "scheduler = torch.optim.lr_scheduler.ReduceLROnPlateau(optimizer)\n",
        "#optimizer = optim.SGD(model.parameters(),lr = 0.001,momentum=1)"
      ],
      "execution_count": null,
      "outputs": []
    },
    {
      "cell_type": "code",
      "metadata": {
        "colab": {
          "base_uri": "https://localhost:8080/"
        },
        "id": "UlIB6CsXaHE6",
        "outputId": "b8f9155e-3fb5-4c58-c9c3-1290028a2f30"
      },
      "source": [
        "epochs = 5\n",
        "#learning_rate = 0.001\n",
        "#decay_rate = learning_rate / epochs\n",
        "#optimizer = optim.Adagrad(model.parameters(),lr = learning_rate)\n",
        "print_every = 96\n",
        "\n",
        "for e in range(epochs):\n",
        "    running_loss = 0\n",
        "    print(f\"Epoch: {e+1}/{epochs}\")\n",
        "\n",
        "    for i, (images, labels) in enumerate(iter(trainloader)):\n",
        "\n",
        "        # turn it to float and resize\n",
        "        \n",
        "        images = images.resize_(images.size()[0], 64,64).float()\n",
        "        optimizer.zero_grad()\n",
        "        \n",
        "        output = model.forward(images)   # 1) Forward pass\n",
        "        losss = los(output, labels)     # 2) Compute loss\n",
        "        losss.backward()                  # 3) Backward pass\n",
        "        optimizer.step()                 # 4) Update model\n",
        "        \n",
        "        running_loss += losss.item()\n",
        "        \n",
        "        if i % print_every == 0:\n",
        "            print(f\"\\tIteration: {i}\\t Loss: {running_loss/len(trainloader):.3f}\")\n",
        "            running_loss = 0"
      ],
      "execution_count": 35,
      "outputs": [
        {
          "output_type": "stream",
          "name": "stdout",
          "text": [
            "Epoch: 1/5\n",
            "\tIteration: 0\t Loss: 0.008\n",
            "\tIteration: 96\t Loss: 0.430\n",
            "\tIteration: 192\t Loss: 0.261\n",
            "\tIteration: 288\t Loss: 0.194\n",
            "\tIteration: 384\t Loss: 0.158\n",
            "Epoch: 2/5\n",
            "\tIteration: 0\t Loss: 0.001\n",
            "\tIteration: 96\t Loss: 0.120\n",
            "\tIteration: 192\t Loss: 0.121\n",
            "\tIteration: 288\t Loss: 0.111\n",
            "\tIteration: 384\t Loss: 0.102\n",
            "Epoch: 3/5\n",
            "\tIteration: 0\t Loss: 0.001\n",
            "\tIteration: 96\t Loss: 0.083\n",
            "\tIteration: 192\t Loss: 0.086\n",
            "\tIteration: 288\t Loss: 0.089\n",
            "\tIteration: 384\t Loss: 0.085\n",
            "Epoch: 4/5\n",
            "\tIteration: 0\t Loss: 0.001\n",
            "\tIteration: 96\t Loss: 0.075\n",
            "\tIteration: 192\t Loss: 0.071\n",
            "\tIteration: 288\t Loss: 0.071\n",
            "\tIteration: 384\t Loss: 0.078\n",
            "Epoch: 5/5\n",
            "\tIteration: 0\t Loss: 0.000\n",
            "\tIteration: 96\t Loss: 0.065\n",
            "\tIteration: 192\t Loss: 0.065\n",
            "\tIteration: 288\t Loss: 0.066\n",
            "\tIteration: 384\t Loss: 0.062\n"
          ]
        }
      ]
    },
    {
      "cell_type": "code",
      "metadata": {
        "colab": {
          "base_uri": "https://localhost:8080/"
        },
        "id": "K1C0unbh0vuN",
        "outputId": "751e3039-0026-4471-8545-036b223d0500"
      },
      "source": [
        "test_size = len(test_ds)\n",
        "train_size = len(train_ds)\n",
        "r_labels = np.array([])\n",
        "preds  = np.array([])\n",
        "\n",
        "correct_preds = np.array([])\n",
        "\n",
        "\n",
        "for i, (images, labels) in enumerate(iter(testloader)):\n",
        "  model.eval()\n",
        "\n",
        "  # turn it to float and resize\n",
        "    \n",
        "  images = images.resize_(images.size()[0], 64,64).float()\n",
        "\n",
        "  outputs = model(images)\n",
        "\n",
        "  loss = los(outputs, labels)\n",
        "\n",
        "\n",
        "\n",
        "  r_labels = np.concatenate((r_labels, labels.numpy()))\n",
        "\n",
        "\n",
        "  for index, item in enumerate(outputs):\n",
        "      if r_labels[index] == torch.argmax(item):\n",
        "          correct_preds += 1\n",
        "\n",
        "      preds  = np.concatenate((preds, torch.argmax(item).unsqueeze(-1).detach().numpy()))\n",
        "\n",
        "\n",
        "conf_mat = confusion_matrix(r_labels, preds)\n",
        "\n",
        "\n",
        "accuracy_scores= a_s(r_labels, preds)\n",
        "\n",
        "print(f'Test results with respect to confusion matrix: \\n{conf_mat} \\nand the accuracy score is : \\n {accuracy_scores}')\n",
        "# it 92% so far\n"
      ],
      "execution_count": 36,
      "outputs": [
        {
          "output_type": "stream",
          "name": "stdout",
          "text": [
            "Test results with respect to confusion matrix: \n",
            "[[958   0   1   0  15   2   3   6   2   1   0   5   1   5   1]\n",
            " [  1 966  30   0   1   1   0   0   0   0   0   1   0   0   0]\n",
            " [  0  15 948  35   1   0   1   0   0   0   0   0   0   0   0]\n",
            " [  0   4  66 925   0   2   1   0   0   0   0   0   1   1   0]\n",
            " [  5   1   1   0 962   1   0   5   2   0   0  20   1   0   2]\n",
            " [  6   0   6  33   4 933   0   5   0   4   0   4   3   0   2]\n",
            " [ 10   4   8   1   2   3 913   6  17  11   8   3   9   4   1]\n",
            " [  1   2   4   1   0   1   4 963   4   7   7   0   2   1   3]\n",
            " [  2   0   0   0   1   0   5   0 984   4   0   1   0   0   3]\n",
            " [  6   0   2   1   2   3   2  11  15 943   0   4   1   3   7]\n",
            " [  2   5   1   0   1   0   2   5   3   2 959   1  19   0   0]\n",
            " [  6   3   2   0  13   7   2   6   5   2   0 930   6  14   4]\n",
            " [  3   2   0   2   1   0   3   5   4   0  35   3 936   4   2]\n",
            " [  7   2   0   0   1   1   5   1   5   6   2  20   2 946   2]\n",
            " [  4   3   2   0   7   5   1  10   8  23   1   3   2  10 921]] \n",
            "and the accuracy score is : \n",
            " 0.9458\n"
          ]
        }
      ]
    },
    {
      "cell_type": "code",
      "metadata": {
        "id": "ja_LTtpiA1f9"
      },
      "source": [
        "# dicto = {'九':9,'十 ':10,'百':100,'千':1000,'万':10000,'亿':100000000,'零':0,'一':1,'二':2,'三':3,'四':4,'五':5,'六':6,'七':7,'八':8}\n",
        "\n",
        "# dictt = {int(9):'九',int(10):'十',int(11):'百',\n",
        "#   int(12):'千',int(13):'万',int(14):'亿',\n",
        "#   int(0):'零',int(1):'一',int(2):'二',\n",
        "#   int(3):'三',int(4):'四',int(5):'五',\n",
        "#   int(6):'六',int(7):'七',int(8):'八'}"
      ],
      "execution_count": 43,
      "outputs": []
    },
    {
      "cell_type": "code",
      "metadata": {
        "id": "L_6JULh429t0"
      },
      "source": [
        "\n",
        "for i,(images,labels) in enumerate(iter(testloader)):\n",
        "    \n",
        "  with torch.no_grad():\n",
        "\n",
        "    images = images.resize_(images.size()[0], 64,64).float()\n",
        "    output = model(images)\n",
        "\n",
        "\n",
        "\n",
        "#dict[int(output[0])]\n",
        "#it works"
      ],
      "execution_count": 37,
      "outputs": []
    },
    {
      "cell_type": "code",
      "metadata": {
        "colab": {
          "base_uri": "https://localhost:8080/",
          "height": 286
        },
        "id": "1HbnjBgk90Xg",
        "outputId": "bd9216fa-b732-436b-99d4-b1338ad10c16"
      },
      "source": [
        "plt.imshow(images[1,:,:])\n",
        "print(dictt[output[1,:].argmax().item()])"
      ],
      "execution_count": 46,
      "outputs": [
        {
          "output_type": "stream",
          "name": "stdout",
          "text": [
            "四\n"
          ]
        },
        {
          "output_type": "display_data",
          "data": {
            "text/plain": [
              "<Figure size 432x288 with 1 Axes>"
            ],
            "image/png": "[encoded data removed]"
          },
          "metadata": {
            "needs_background": "light"
          }
        }
      ]
    },
    {
      "cell_type": "code",
      "metadata": {
        "colab": {
          "base_uri": "https://localhost:8080/"
        },
        "id": "2cUSr77u9v9y",
        "outputId": "31ec7f89-ed7a-47c8-d1f0-b9545303accf"
      },
      "source": [
        "\n"
      ],
      "execution_count": null,
      "outputs": [
        {
          "output_type": "stream",
          "name": "stdout",
          "text": [
            "五\n"
          ]
        }
      ]
    }
  ]
}