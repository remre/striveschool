{
  "nbformat": 4,
  "nbformat_minor": 0,
  "metadata": {
    "colab": {
      "name": "OOPStrive.ipynb",
      "provenance": [],
      "collapsed_sections": [],
      "authorship_tag": "ABX9TyMpwdkSNfwy7yERx41FC6zw",
      "include_colab_link": true
    },
    "kernelspec": {
      "name": "python3",
      "display_name": "Python 3"
    },
    "language_info": {
      "name": "python"
    }
  },
  "cells": [
    {
      "cell_type": "markdown",
      "metadata": {
        "id": "view-in-github",
        "colab_type": "text"
      },
      "source": [
        "<a href=\"https://colab.research.google.com/github/remre/striveschool/blob/main/OOPStrive.ipynb\" target=\"_parent\"><img src=\"https://colab.research.google.com/assets/colab-badge.svg\" alt=\"Open In Colab\"/></a>"
      ]
    },
    {
      "cell_type": "code",
      "metadata": {
        "id": "ws3E0IkZ5ATm"
      },
      "source": [
        "class Employee:#start with capital letter\n",
        "  #class attriutes\n",
        "  company = \"Strive\"\n",
        "  def __init__(self,p_name, p_surname, p_salary, p_age = None):#start with self (initiliaze) for optionalparameters *args or value = None\n",
        "    self.name = p_name\n",
        "    self.surnanme = p_surname\n",
        "    self.salary = p_salary\n",
        "    self.age = p_age\n",
        "    self.hours = 0\n",
        "    self.fullname = p_name +\" \"+p_surname\n",
        "    #self.full_name = p_name + \" \" + self.surname\n",
        "  def __str__(self):\n",
        "    return self.fullname\n",
        "  def __dir__(self):\n",
        "    return \n",
        "  "
      ],
      "execution_count": 47,
      "outputs": []
    },
    {
      "cell_type": "code",
      "metadata": {
        "id": "z8Q700867dWm"
      },
      "source": [
        ""
      ],
      "execution_count": 11,
      "outputs": []
    },
    {
      "cell_type": "code",
      "metadata": {
        "id": "yYgCpNiE5HGb"
      },
      "source": [
        "bob  = Employee(\"Bob\", \"Jones\", 65)#if u give a none value u dont need to give the age"
      ],
      "execution_count": 48,
      "outputs": []
    },
    {
      "cell_type": "code",
      "metadata": {
        "colab": {
          "base_uri": "https://localhost:8080/"
        },
        "id": "1AIZZJGP7d5D",
        "outputId": "01aa8798-220b-47b4-91e0-b1b22bd64a7a"
      },
      "source": [
        "bob.salary"
      ],
      "execution_count": 49,
      "outputs": [
        {
          "output_type": "execute_result",
          "data": {
            "text/plain": [
              "65"
            ]
          },
          "metadata": {},
          "execution_count": 49
        }
      ]
    },
    {
      "cell_type": "code",
      "metadata": {
        "colab": {
          "base_uri": "https://localhost:8080/",
          "height": 35
        },
        "id": "n7Db7A8CEp5g",
        "outputId": "23bf15d5-e86b-470b-b40e-0ee2ae374446"
      },
      "source": [
        "alice = Employee(\"Alice\",\"now\",5)\n",
        "str(alice)"
      ],
      "execution_count": 51,
      "outputs": [
        {
          "output_type": "execute_result",
          "data": {
            "application/vnd.google.colaboratory.intrinsic+json": {
              "type": "string"
            },
            "text/plain": [
              "'Alice now'"
            ]
          },
          "metadata": {},
          "execution_count": 51
        }
      ]
    },
    {
      "cell_type": "code",
      "metadata": {
        "id": "Gxa0t-pQ8MU4"
      },
      "source": [
        "def add_hours(self,hours):#self always first\n",
        "  self.hours += 8\n"
      ],
      "execution_count": null,
      "outputs": []
    },
    {
      "cell_type": "markdown",
      "metadata": {
        "id": "SkZDDglC-mJV"
      },
      "source": [
        "**when to use classes**\n",
        "\n",
        "inheritance reusability"
      ]
    },
    {
      "cell_type": "code",
      "metadata": {
        "id": "elK3Is_xGFJq"
      },
      "source": [
        ""
      ],
      "execution_count": null,
      "outputs": []
    }
  ]
}