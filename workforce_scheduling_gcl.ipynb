{
  "cells": [
    {
      "cell_type": "markdown",
      "metadata": {
        "id": "view-in-github",
        "colab_type": "text"
      },
      "source": [
        "<a href=\"https://colab.research.google.com/github/remre/striveschool/blob/main/workforce_scheduling_gcl.ipynb\" target=\"_parent\"><img src=\"https://colab.research.google.com/assets/colab-badge.svg\" alt=\"Open In Colab\"/></a>"
      ]
    },
    {
      "cell_type": "markdown",
      "metadata": {
        "id": "2f3gOrywj0C_"
      },
      "source": [
        "# Workforce Scheduling Problem\n",
        "\n",
        "## Objective and Prerequisites\n",
        "\n",
        "In this example, you’ll learn how to solve a critical, central problem in the services industry: workforce scheduling. We’ll demonstrate how you can use mathematical optimization to generate an optimal workforce schedule that meets your business requirements, maximizes employee fairness and satisfaction, and minimizes the number of temporary workers your company needs to hire.\n",
        "\n",
        "This modeling example is at the advanced level, where we assume that you know Python and the Gurobi Python API and that you have advanced knowledge of building mathematical optimization models. Typically, the objective function and/or constraints of these examples are complex or require advanced features of the Gurobi Python API.\n",
        "\n",
        "**Download the Repository** <br />\n",
        "You can download the repository containing this and other examples by clicking [here](https://github.com/Gurobi/modeling-examples/archive/master.zip). \n",
        "\n",
        "## Motivation\n",
        "People are the most important asset for companies in the services industry as well as their largest source of costs.\n",
        "Workforce allocation and personnel scheduling deal with the arrangement of work schedules  and the assignment of personnel shifts in order to cover the demand for resources that vary over time.\n",
        "\n",
        "These problems are very important for companies in the services industries who rely on workforce resources such as:\n",
        "- Telephone operators\n",
        "- Hospital nurses\n",
        "- Policemen\n",
        "- Transportation personnel (plane crews, bus drivers, etc.)\n",
        "- Hospitality personnel\n",
        "- Restaurant personnel\n",
        "\n",
        "## Problem Description\n",
        "\n",
        "Consider a service business, like a restaurant, that develops its workforce plans for the next two weeks (considering a 7-day week). The service requires only one set of skills. There are a number of employed workers with the same set of skills and with identical productivity that are available to work on some of the days during the two-week planning horizon. There is only one shift per workday. Each shift may have different resource (worker) requirements on each workday. The service business may hire extra (temp) workers from an agency to satisfy shift requirements. The service business wants to minimize the number of extra workers that it needs to hire, and as a secondary objective, it wants to balance the workload of employed workers to ensure fairness."
      ]
    },
    {
      "cell_type": "markdown",
      "metadata": {
        "id": "vxfR9zS0j0DI"
      },
      "source": [
        "## Model Formulation\n",
        "Mathematical programming is a declarative approach where the modeler formulates a mathematical optimization problem that captures the key features of a complex decision problem. The Gurobi Optimizer solves the mathematical optimization problem using state-of-the-art mathematics and computer science.\n",
        "\n",
        "A mathematical optimization model has five components:\n",
        "- Sets.\n",
        "- Parameters.\n",
        "- Decision variables.\n",
        "- Constraints.\n",
        "- Objective function(s).\n",
        "\n",
        "### Sets and Indices\n",
        "\n",
        "$s \\in \\text{shifts}$: Index and set of shifts.\n",
        "\n",
        "$w \\in workers$: Index and set of employed workers.\n",
        "\n",
        "$availability= \\{(w,s): w \\in workers \\; \\text{is available for} \\; s \\in \\text{shifts} \\}$: This set determines that the employed worker  $w$ is available to work on shift $s$.\n",
        "\n",
        "### Parameters\n",
        "\n",
        "$\\text{shiftRequirements}(s) \\in \\mathbb{N}$: This parameter represents the number of workers required at each shift \n",
        "$s \\in \\text{shifts}$.\n",
        "\n",
        "$pay(w) \\in \\mathbb{R^{+}}$: This parameter is the salary per day of each worker $w \\in workers$. \n",
        "\n",
        "$relTol$: This relative tolerance parameter  makes it possible to deviate from the optimal objective function value of the primary objective, when solving the model for the secondary objective. (See explanation below of the multi-objective optimization process).\n",
        "\n",
        "### Computed Parameters\n",
        "These parameters are derived from the input parameters and/or from the optimization process.\n",
        "\n",
        "$Opt(totSlack)$: This parameter is the minimum value of extra workers required to fill demand. \n",
        "\n",
        "### Decision Variables\n",
        "\n",
        "$x(w,s) \\in \\{0,1\\}$: This variable equals 1 if worker $w \\in workers$ is assigned to shift $s \\in \\text{shifts}$, \n",
        "and 0 otherwise.\n",
        "This decision variable is defined over the $availability$ set.\n",
        "\n",
        "$Slack(s) \\geq 0$: This variable is the number of extra workers required to satisfy the requirements of shift $s$.\n",
        "\n",
        "### Auxiliary Variables\n",
        "Auxiliary variables are derived from the values of the decision variables.\n",
        "\n",
        "$totSlack$: This variable counts the total number of extra workers required to satisfy the demand for shift workers.\n",
        "\n",
        "$\\text{totShifts}(w)$: This variable counts the total number of shifts worked by each worker $w \\in workers$.\n",
        "\n",
        "$\\text{minShift}$: This variable determines the minimum number of shifts allocated to workers. \n",
        "\n",
        "$\\text{maxShift}$: This variable  determines the maximum number of shifts allocated to workers.\n",
        "\n",
        "## Optimization Process\n",
        "\n",
        "In this modeling example, we tackle a multi-objective model where the primary objective is to minimize the number of extra workers required to satisfy shift requirements, and the secondary objective is to minimize the maximum difference in the number of shifts worked between any pair of workers. This secondary objective balances the workload allocated to workers.\n",
        " \n",
        "The hierarchical multi-objective optimization approach will first solve the following model with the primary objective.\n",
        "\n",
        "### Objective Function\n",
        "\n",
        "- **Primary objective:** The objective function is to minimize the number of extra workers allocated. \n",
        "\n",
        "\\begin{equation}\n",
        "\\text{Min} \\quad totSlack\n",
        "\\tag{0}\n",
        "\\end{equation}\n",
        "\n",
        "### Constraints\n",
        "\n",
        "- **Shift requirements:**  All shifts requirements most be satisfied.\n",
        "\n",
        "\\begin{equation}\n",
        "\\sum_{w \\: \\in \\: workers} x(w,s)  +  Slack(s) = \\text{shiftRequirements}(s) \\quad \\forall \\; s \\in \\text{shifts}\n",
        "\\tag{1}\n",
        "\\end{equation}\n",
        "\n",
        "- **Temps:** Compute the total number of extra workers required.\n",
        "\n",
        "\\begin{equation}\n",
        "\\sum_{s \\: \\in \\: \\text{shifts}} Slack(s) =  totSlack \n",
        "\\tag{2}\n",
        "\\end{equation}\n",
        "\n",
        "- **Shifts:**  Compute the total number of shifts for each worker.\n",
        "\n",
        "\\begin{equation}\n",
        "\\sum_{s \\: \\in \\: \\text{shifts}} x(w,s)  = \\text{totShifts}(w) \\quad \\forall \\; w \\in workers\n",
        "\\tag{3}\n",
        "\\end{equation}\n",
        "\n",
        "- **Binary and non-negativity constraints:**\n",
        "\n",
        "$$\n",
        "x(w,s) \\in \\{0, 1 \\}  \\quad \\forall \\; (w,s) \\in availability\n",
        "$$\n",
        "\n",
        "$$\n",
        "Slack(s) \\geq 0 \\quad  \\forall \\; s \\in \\text{shifts}\n",
        "$$\n",
        "\n",
        "$$\n",
        "\\text{totShifts}(w) \\geq 0 \\quad \\forall \\; w \\in workers\n",
        "$$\n",
        "\n",
        "$$\n",
        "totSlack  \\geq 0\n",
        "$$\n",
        "\n",
        "The parameter $Opt(totSlack)$ is set to be equal to the minimum number of extra workers required to satisfy demand. That is, $Opt(totSlack) = totSlack^{*} $, where $totSlack^{*} $ is the optimal value of the variable $totSlack$.\n",
        "\n",
        "For a given relative tolerance of primary objective $relTol$, we now solve the following model where we minimize the secondary objective.\n",
        "\n",
        "\n",
        "### Objective Function\n",
        "\n",
        "- **Secondary objective:** The objective function is to minimize the difference between the maximum number of shifts allocated to a worker, and the minimum number of shifts allocated to a worker. \n",
        "\n",
        "\\begin{equation}\n",
        "\\text{Min} \\quad ( \\text{maxShift} -  \\text{minShift} )\n",
        "\\tag{4}\n",
        "\\end{equation}\n",
        "\n",
        "### Constraints\n",
        "\n",
        "- **Shift requirements:**  All shifts requirements most be satisfied.\n",
        "\n",
        "\\begin{equation}\n",
        "\\sum_{w \\: \\in \\: workers} x(w,s)  +  Slack(s) = \\text{shiftRequirements}(s) \\quad \\forall \\; s \\in \\text{shifts}\n",
        "\\tag{1}\n",
        "\\end{equation}\n",
        "\n",
        "\n",
        "- **Relative tolerance:**  Ensure that the total number of extra workers (totSlack) minimized by the primary objective is satisfied up to a tolerance percentage.\n",
        "\n",
        "\\begin{equation}\n",
        "\\sum_{s \\: \\in \\: shifts} Slack(s) \\leq (1+relTol)*Opt(totSlack)\n",
        "\\tag{5}\n",
        "\\end{equation}\n",
        "\n",
        "- **Shifts:**  Compute the total number of shifts for each worker.\n",
        "\n",
        "\\begin{equation}\n",
        "\\sum_{s \\: \\in \\: \\text{shifts}} x(w,s)  = \\text{totShifts}(w) \\quad \\forall \\; w \\in workers\n",
        "\\tag{3}\n",
        "\\end{equation}\n",
        "\n",
        "- **Minimum shifts:**  Compute the minimum number of shifts allocated to an employed worker.\n",
        "\n",
        "\\begin{equation}\n",
        "\\text{minShift} = \\text{Min} \\{\\text{totShifts}(w): \\ w \\; in \\; workers \\}  \n",
        "\\tag{6}\n",
        "\\end{equation}\n",
        "\n",
        "\n",
        "- **Maximum shifts:**  Compute the maximum number of shifts allocated to an employed worker.\n",
        "\n",
        "\\begin{equation}\n",
        "\\text{maxShift} = \\text{Max} \\{\\text{totShifts}(w): \\ w \\; in \\; workers \\}\n",
        "\\tag{7}\n",
        "\\end{equation}\n",
        "\n",
        "- **Binary and non-negativity constraints:**\n",
        "\n",
        "$$\n",
        "x(w,s) \\in \\{0, 1 \\}  \\quad \\forall \\; (w,s) \\in availability\n",
        "$$\n",
        "\n",
        "$$\n",
        "Slack(s) \\geq 0 \\quad  \\forall \\; s \\in \\text{shifts}\n",
        "$$\n",
        "\n",
        "$$\n",
        "\\text{totShifts}(w) \\geq 0 \\quad   \\forall \\; w \\in workers\n",
        "$$\n",
        "\n",
        "$$\n",
        "\\text{maxShift},  \\text{minShift}   \\geq 0\n",
        "$$\n",
        "\n",
        "This optimization process is done automatically by the Gurobi Python API when using the following method: \n",
        "\n",
        "\"Model.setObjectiveN()\""
      ]
    },
    {
      "cell_type": "markdown",
      "metadata": {
        "id": "rw3R0zfLj0DO"
      },
      "source": [
        "## Python Implementation\n",
        "\n",
        "We now import the Gurobi Python Module. Then, we initialize the data structures with the given data."
      ]
    },
    {
      "cell_type": "code",
      "execution_count": 1,
      "metadata": {
        "id": "qYB3GCNoj0DO",
        "outputId": "dcd0e6df-90b4-45f4-c556-bc4f0b149f41",
        "colab": {
          "base_uri": "https://localhost:8080/"
        }
      },
      "outputs": [
        {
          "output_type": "stream",
          "name": "stdout",
          "text": [
            "Requirement already satisfied: gurobipy in /usr/local/lib/python3.7/dist-packages (9.5.0)\n"
          ]
        }
      ],
      "source": [
        "%pip install gurobipy"
      ]
    },
    {
      "cell_type": "code",
      "execution_count": 2,
      "metadata": {
        "id": "OI6nGjcsj0DP"
      },
      "outputs": [],
      "source": [
        "# This command imports the Gurobi functions and classes.\n",
        "\n",
        "import gurobipy as gp\n",
        "from gurobipy import GRB\n",
        "\n",
        "\n",
        "import pandas as pd\n",
        "from pylab import *\n",
        "import matplotlib\n",
        "import matplotlib.pyplot as plt"
      ]
    },
    {
      "cell_type": "markdown",
      "metadata": {
        "id": "CY8e3TfMj0DQ"
      },
      "source": [
        "## Input Data\n",
        "\n",
        "We define all the input data of the model.\n",
        "\n",
        "### Parameter\n",
        "\n",
        "$\\text{shiftRequirements}(s) \\in \\mathbb{N}$: This parameter represents the number of workers required at each shift \n",
        "$s \\in \\text{shifts}$."
      ]
    },
    {
      "cell_type": "code",
      "execution_count": 3,
      "metadata": {
        "id": "dE4ON0Rxj0DR"
      },
      "outputs": [],
      "source": [
        "# # Number of workers required for each shift.\n",
        "# shifts, shiftRequirements = gp.multidict({\n",
        "#   \"Mon1\":  2,\n",
        "#   \"Tue2\":  2,\n",
        "#   \"Wed3\":  2,\n",
        "#   \"Thu4\":  2,\n",
        "#   \"Fri5\":  2,\n",
        "#   \"Sat6\":  2,\n",
        "#   \"Sun7\":  2,\n",
        "#   \"Mon8\":  2,\n",
        "#   \"Tue9\":  2,\n",
        "#   \"Wed10\": 2,\n",
        "#   \"Thu11\": 2,\n",
        "#   \"Fri12\": 2,\n",
        "#   \"Sat13\": 2,\n",
        "#   \"Sun14\": 2,\n",
        "#   \"Mon15\":  2,\n",
        "#   \"Tue16\":  2,\n",
        "#   \"Wed17\":  2,\n",
        "#   \"Thu18\":  2,\n",
        "#   \"Fri19\":  2 })"
      ]
    },
    {
      "cell_type": "markdown",
      "metadata": {
        "id": "tgmPisRUj0DS"
      },
      "source": [
        "### Parameter\n",
        "\n",
        "$pay(w) \\in \\mathbb{R^{+}}$: This parameter is the salary per day of each worker $w \\in workers$. "
      ]
    },
    {
      "cell_type": "code",
      "execution_count": 4,
      "metadata": {
        "id": "LkvwYsv6j0DS"
      },
      "outputs": [],
      "source": [
        "# # Amount each worker is paid to work one shift.\n",
        "workers, pay = gp.multidict({\n",
        "  \n",
        "  \"Ahmet\":   12,\n",
        "  \"Betul\": 10,\n",
        "  \"Beyza\":   8,\n",
        "  \"Dila\":   150,\n",
        "  \"Muco\":    8,\n",
        "  })"
      ]
    },
    {
      "cell_type": "markdown",
      "metadata": {
        "id": "h_cQkIgej0DT"
      },
      "source": [
        "### Set\n",
        "\n",
        "$availability= \\{(w,s): w \\in workers \\; \\text{is available for} \\; s \\in \\text{shifts} \\}$: This set determines that the employed worker  $w$ is available to work on shift $s$.\n",
        "\n"
      ]
    },
    {
      "cell_type": "code",
      "source": [
        "# nE = 9            #number of employees\n",
        "# EMPLOYEE = [\"SMITH\", \"JOHNSON\", \"WILLIAMS\", \"JONES\", \"BROWN\",\"DAVIS\", \"MILLER\", \"WILSON\", \"MOORE\",]\n",
        "# nS = 3            #number of types of shifts\n",
        "# nD = 7            #number of days in the planning cycle 7\n",
        "# MIN = 1           #minimum number of consecutive working days 4\n",
        "# MAX = 5           #maximum number of consecutive working days 7                                     (LV:5)\n",
        "# aS = 2           # object of allowable sequence: N(2)-N(2), N(2)-B\n",
        "# uaS = range(2)   # unallowable sequence\n",
        "# Dem = [[2, 2, 2, 2, 2, 2, 2], [2, 2, 2, 3, 3, 3, 2], [2, 2, 2, 2, 2, 2, 2]] #daily demand for each working shift"
      ],
      "metadata": {
        "id": "Dc5XdZY7f9c2"
      },
      "execution_count": 5,
      "outputs": []
    },
    {
      "cell_type": "code",
      "source": [
        "x = range(1,29)\n",
        "Shifts  = []\n",
        "Shifts = [str(i) for i in x]"
      ],
      "metadata": {
        "id": "s6Zt_HTHoWjk"
      },
      "execution_count": 6,
      "outputs": []
    },
    {
      "cell_type": "code",
      "source": [
        "# Shifts = [\n",
        "#     \"1\", \"2\", \"3\", \"4\", \"5\", \"6\", \"7\", \"8\", \"9\",\n",
        "#     \"Wed10\", \"Thu11\", \"Fri12\", \"Sat13\", \"14\",\"15\",\"16\",\"17\",\"18\",\"19\",\"20\",\"21\",\"22\",\"\",\"\",\"\",\"\",\"\"\n",
        "#     ]\n",
        "\n",
        "# Number of workers required for each shift\n",
        "S = [1, 2, 2, 1, 1, 1, 2, 2, 2, 2, 1, 1, 1, 2,2, 2, 2,1, 1, 1,2,1,2,2,2,2,1,1,2]\n",
        "# Metin will work 4th and 22nd, Sura 11 and 18 \n",
        "# Erdem 9 16 25 28\n",
        "shiftRequirements = {s: S[i] for i, s in enumerate(Shifts)}\n",
        "\n",
        "# # Worker availability: 0 if the worker is unavailable for a shift\n",
        "# A = [\n",
        "#     [0, 1, 1, 0, 1, 0, 1, 0, 1, 1, 1, 1, 1, 1],\n",
        "#     [0, 1, 0, 0, 1, 1, 0, 1, 0, 0, 1, 0, 1, 0],\n",
        "#     [0, 0, 1, 1, 1, 0, 1, 1, 1, 1, 1, 1, 1, 1],\n",
        "#     [0, 1, 1, 0, 1, 1, 0, 1, 1, 1, 1, 1, 1, 1],\n",
        "#     [0, 1, 1, 1, 1, 0, 1, 1, 1, 0, 1, 0, 1, 1],\n",
        "#     [0, 1, 1, 0, 0, 1, 0, 1, 1, 0, 0, 1, 1, 1],\n",
        "#     ]\n",
        "# workers = [\"Dila\", \"Betul\", \"Beyza\", \"Ahmet\", \"Muco\",]\n",
        "\n",
        "# availability = {(w, s): A[j][i]\n",
        "#                 for i, s in enumerate(Shifts)\n",
        "#                 for j, w in enumerate(workers)}\n",
        "\n",
        "# solution  = []\n",
        "\n",
        "# for i, s in  shiftRequirements:\n",
        "  "
      ],
      "metadata": {
        "id": "k-ueUzc0lRNg"
      },
      "execution_count": 7,
      "outputs": []
    },
    {
      "cell_type": "code",
      "source": [
        "\n",
        "# #it seems very useful attention!!!!!\n",
        "\n",
        "# Assume everyone is available\n",
        "availability = pd.DataFrame(np.ones((len(workers), len(Shifts))), index=workers, columns=Shifts)\n",
        "\n",
        "# For illustration, assume following people are unavailable: EE02 on Tuesday1, EE05 on Saturday2, EE08 on Thursday1\n",
        "availability.at['Dila','1'] = 0\n",
        "availability.at['Betul','1'] = 0\n",
        "availability.at['Betul','9'] = 0\n",
        "availability.at['Betul','4'] = 0\n",
        "availability.at['Beyza','14'] = 0\n",
        "availability.at['Ahmet','1'] = 0\n",
        "availability.at['Ahmet','2'] = 0\n",
        "availability.at['Ahmet','3'] = 0\n",
        "availability.at['Ahmet','4'] = 0\n",
        "availability.at['Dila','23'] = 0\n",
        "availability.at['Dila','24'] = 0\n",
        "availability.at['Dila','22'] = 0\n",
        "availability.at['Dila','7'] = 0\n",
        "availability.at['Dila','5'] = 0\n",
        "availability.at['Dila','6'] = 0\n",
        "\n",
        "\n",
        "# Create availability dictionary to be used in decision variable bounding\n",
        "avail = {(w,s) : availability.loc[w,s] for w in workers for s in Shifts}"
      ],
      "metadata": {
        "id": "D8Q5yLEWeejl"
      },
      "execution_count": 8,
      "outputs": []
    },
    {
      "cell_type": "code",
      "source": [
        "avail.values()"
      ],
      "metadata": {
        "colab": {
          "base_uri": "https://localhost:8080/"
        },
        "id": "D0O6K0BmUfTu",
        "outputId": "2981d3a7-313a-4b0e-9c97-77bb85d7eaaa"
      },
      "execution_count": 9,
      "outputs": [
        {
          "output_type": "execute_result",
          "data": {
            "text/plain": [
              "dict_values([0.0, 0.0, 0.0, 0.0, 1.0, 1.0, 1.0, 1.0, 1.0, 1.0, 1.0, 1.0, 1.0, 1.0, 1.0, 1.0, 1.0, 1.0, 1.0, 1.0, 1.0, 1.0, 1.0, 1.0, 1.0, 1.0, 1.0, 1.0, 0.0, 1.0, 1.0, 0.0, 1.0, 1.0, 1.0, 1.0, 0.0, 1.0, 1.0, 1.0, 1.0, 1.0, 1.0, 1.0, 1.0, 1.0, 1.0, 1.0, 1.0, 1.0, 1.0, 1.0, 1.0, 1.0, 1.0, 1.0, 1.0, 1.0, 1.0, 1.0, 1.0, 1.0, 1.0, 1.0, 1.0, 1.0, 1.0, 1.0, 1.0, 0.0, 1.0, 1.0, 1.0, 1.0, 1.0, 1.0, 1.0, 1.0, 1.0, 1.0, 1.0, 1.0, 1.0, 1.0, 0.0, 1.0, 1.0, 1.0, 0.0, 0.0, 0.0, 1.0, 1.0, 1.0, 1.0, 1.0, 1.0, 1.0, 1.0, 1.0, 1.0, 1.0, 1.0, 1.0, 1.0, 0.0, 0.0, 0.0, 1.0, 1.0, 1.0, 1.0, 1.0, 1.0, 1.0, 1.0, 1.0, 1.0, 1.0, 1.0, 1.0, 1.0, 1.0, 1.0, 1.0, 1.0, 1.0, 1.0, 1.0, 1.0, 1.0, 1.0, 1.0, 1.0, 1.0, 1.0, 1.0, 1.0, 1.0, 1.0])"
            ]
          },
          "metadata": {},
          "execution_count": 9
        }
      ]
    },
    {
      "cell_type": "code",
      "source": [
        "# so in availability list sum each shift days and pick the necessary number of workers fairly regarding to shift requirements, wathc out for after day off "
      ],
      "metadata": {
        "id": "Clcvag7_i8Il"
      },
      "execution_count": 10,
      "outputs": []
    },
    {
      "cell_type": "code",
      "source": [
        "# for i in range(len(availability)):\n",
        "#   availability.keys()"
      ],
      "metadata": {
        "id": "Bc0SpMovibgC"
      },
      "execution_count": 11,
      "outputs": []
    },
    {
      "cell_type": "code",
      "source": [
        "# availability.keys()"
      ],
      "metadata": {
        "id": "zQXay8EAgm4b"
      },
      "execution_count": 12,
      "outputs": []
    },
    {
      "cell_type": "code",
      "source": [
        "shiftRequirements"
      ],
      "metadata": {
        "id": "-1Co5PUDyB3A",
        "colab": {
          "base_uri": "https://localhost:8080/"
        },
        "outputId": "504f1ed7-e7c2-409d-f627-41c4f0dc9ac1"
      },
      "execution_count": 13,
      "outputs": [
        {
          "output_type": "execute_result",
          "data": {
            "text/plain": [
              "{'1': 1,\n",
              " '10': 2,\n",
              " '11': 1,\n",
              " '12': 1,\n",
              " '13': 1,\n",
              " '14': 2,\n",
              " '15': 2,\n",
              " '16': 2,\n",
              " '17': 2,\n",
              " '18': 1,\n",
              " '19': 1,\n",
              " '2': 2,\n",
              " '20': 1,\n",
              " '21': 2,\n",
              " '22': 1,\n",
              " '23': 2,\n",
              " '24': 2,\n",
              " '25': 2,\n",
              " '26': 2,\n",
              " '27': 1,\n",
              " '28': 1,\n",
              " '3': 2,\n",
              " '4': 1,\n",
              " '5': 1,\n",
              " '6': 1,\n",
              " '7': 2,\n",
              " '8': 2,\n",
              " '9': 2}"
            ]
          },
          "metadata": {},
          "execution_count": 13
        }
      ]
    },
    {
      "cell_type": "markdown",
      "metadata": {
        "id": "CDKlrdWwj0DU"
      },
      "source": [
        "## Model Deployment"
      ]
    },
    {
      "cell_type": "code",
      "execution_count": 14,
      "metadata": {
        "id": "eXgzJfQtj0DV",
        "colab": {
          "base_uri": "https://localhost:8080/"
        },
        "outputId": "1c755de7-50ef-4ab1-fe07-6f3b4fc62578"
      },
      "outputs": [
        {
          "output_type": "stream",
          "name": "stdout",
          "text": [
            "Restricted license - for non-production use only - expires 2023-10-25\n"
          ]
        }
      ],
      "source": [
        "# Create initial model.\n",
        "m = gp.Model(\"workforce5\")"
      ]
    },
    {
      "cell_type": "markdown",
      "metadata": {
        "id": "sC1zZi1Qj0DX"
      },
      "source": [
        "### Decision Variables\n",
        "\n",
        "$x(w,s) \\in \\{0,1\\}$: This variable equals 1 if worker $w \\in workers$ is assigned to shift $s \\in \\text{shifts}$, \n",
        "and 0 otherwise.\n",
        "This decision variable is defined over the $availability$ set.\n",
        "\n",
        "$Slack(s) \\geq 0$: This variable is the number of extra workers required to satisfy the requirements of shift $s$."
      ]
    },
    {
      "cell_type": "code",
      "execution_count": 15,
      "metadata": {
        "id": "bVHwlypSj0DX"
      },
      "outputs": [],
      "source": [
        "# Initialize assignment decision variables.\n",
        "\n",
        "x = m.addVars(avail.keys(), vtype=GRB.BINARY, name=\"x\")"
      ]
    },
    {
      "cell_type": "code",
      "source": [
        "avail.keys()"
      ],
      "metadata": {
        "colab": {
          "base_uri": "https://localhost:8080/"
        },
        "id": "oq-a7rUKwDvi",
        "outputId": "6d69f48c-0b84-4745-98c9-07004c452096"
      },
      "execution_count": 16,
      "outputs": [
        {
          "output_type": "execute_result",
          "data": {
            "text/plain": [
              "dict_keys([('Ahmet', '1'), ('Ahmet', '2'), ('Ahmet', '3'), ('Ahmet', '4'), ('Ahmet', '5'), ('Ahmet', '6'), ('Ahmet', '7'), ('Ahmet', '8'), ('Ahmet', '9'), ('Ahmet', '10'), ('Ahmet', '11'), ('Ahmet', '12'), ('Ahmet', '13'), ('Ahmet', '14'), ('Ahmet', '15'), ('Ahmet', '16'), ('Ahmet', '17'), ('Ahmet', '18'), ('Ahmet', '19'), ('Ahmet', '20'), ('Ahmet', '21'), ('Ahmet', '22'), ('Ahmet', '23'), ('Ahmet', '24'), ('Ahmet', '25'), ('Ahmet', '26'), ('Ahmet', '27'), ('Ahmet', '28'), ('Betul', '1'), ('Betul', '2'), ('Betul', '3'), ('Betul', '4'), ('Betul', '5'), ('Betul', '6'), ('Betul', '7'), ('Betul', '8'), ('Betul', '9'), ('Betul', '10'), ('Betul', '11'), ('Betul', '12'), ('Betul', '13'), ('Betul', '14'), ('Betul', '15'), ('Betul', '16'), ('Betul', '17'), ('Betul', '18'), ('Betul', '19'), ('Betul', '20'), ('Betul', '21'), ('Betul', '22'), ('Betul', '23'), ('Betul', '24'), ('Betul', '25'), ('Betul', '26'), ('Betul', '27'), ('Betul', '28'), ('Beyza', '1'), ('Beyza', '2'), ('Beyza', '3'), ('Beyza', '4'), ('Beyza', '5'), ('Beyza', '6'), ('Beyza', '7'), ('Beyza', '8'), ('Beyza', '9'), ('Beyza', '10'), ('Beyza', '11'), ('Beyza', '12'), ('Beyza', '13'), ('Beyza', '14'), ('Beyza', '15'), ('Beyza', '16'), ('Beyza', '17'), ('Beyza', '18'), ('Beyza', '19'), ('Beyza', '20'), ('Beyza', '21'), ('Beyza', '22'), ('Beyza', '23'), ('Beyza', '24'), ('Beyza', '25'), ('Beyza', '26'), ('Beyza', '27'), ('Beyza', '28'), ('Dila', '1'), ('Dila', '2'), ('Dila', '3'), ('Dila', '4'), ('Dila', '5'), ('Dila', '6'), ('Dila', '7'), ('Dila', '8'), ('Dila', '9'), ('Dila', '10'), ('Dila', '11'), ('Dila', '12'), ('Dila', '13'), ('Dila', '14'), ('Dila', '15'), ('Dila', '16'), ('Dila', '17'), ('Dila', '18'), ('Dila', '19'), ('Dila', '20'), ('Dila', '21'), ('Dila', '22'), ('Dila', '23'), ('Dila', '24'), ('Dila', '25'), ('Dila', '26'), ('Dila', '27'), ('Dila', '28'), ('Muco', '1'), ('Muco', '2'), ('Muco', '3'), ('Muco', '4'), ('Muco', '5'), ('Muco', '6'), ('Muco', '7'), ('Muco', '8'), ('Muco', '9'), ('Muco', '10'), ('Muco', '11'), ('Muco', '12'), ('Muco', '13'), ('Muco', '14'), ('Muco', '15'), ('Muco', '16'), ('Muco', '17'), ('Muco', '18'), ('Muco', '19'), ('Muco', '20'), ('Muco', '21'), ('Muco', '22'), ('Muco', '23'), ('Muco', '24'), ('Muco', '25'), ('Muco', '26'), ('Muco', '27'), ('Muco', '28')])"
            ]
          },
          "metadata": {},
          "execution_count": 16
        }
      ]
    },
    {
      "cell_type": "code",
      "source": [
        "\n",
        "# Decision variables\n",
        "# Variables x are decision variables. Variables b, aux, z are auxiliary variables.\n",
        "# x = MODEL.addVars(EMPLOYEE, range(nS), range(nD), vtype=gurobipy.GRB.BINARY)"
      ],
      "metadata": {
        "id": "Fz9lyB6ldgw2"
      },
      "execution_count": 17,
      "outputs": []
    },
    {
      "cell_type": "code",
      "source": [
        "# x = m.addVars(availability.keys(), vtype=GRB.BINARY, name=\"x\")\n",
        "\n",
        "# New variables: z[w,s] == 1 if worker w works shift s, but not shift s-1\n",
        "# z = m.addVars(avail.keys(), vtype=GRB.BINARY, name=\"start\")\n"
      ],
      "metadata": {
        "id": "7S1_cztAzQFr"
      },
      "execution_count": 18,
      "outputs": []
    },
    {
      "cell_type": "code",
      "execution_count": 19,
      "metadata": {
        "id": "YwNiVn0jj0DX"
      },
      "outputs": [],
      "source": [
        "# Slack decision variables determine the number of extra workers required to satisfy the requirements \n",
        "# of each shift\n",
        "slacks = m.addVars(Shifts, name=\"Slack\")\n",
        "# if (x[w, s1], x[w, s2] for w in workers for s1,s2 in zip(Shifts, Shifts[2:]))"
      ]
    },
    {
      "cell_type": "code",
      "source": [
        "Shifts"
      ],
      "metadata": {
        "id": "xhq-76P0Ssqo"
      },
      "execution_count": null,
      "outputs": []
    },
    {
      "cell_type": "code",
      "source": [
        "slacks"
      ],
      "metadata": {
        "colab": {
          "base_uri": "https://localhost:8080/"
        },
        "id": "9oot7oH-3Hqz",
        "outputId": "0c371b34-11f5-4080-c689-a02592893f81"
      },
      "execution_count": 21,
      "outputs": [
        {
          "output_type": "execute_result",
          "data": {
            "text/plain": [
              "{'1': <gurobi.Var *Awaiting Model Update*>,\n",
              " '10': <gurobi.Var *Awaiting Model Update*>,\n",
              " '11': <gurobi.Var *Awaiting Model Update*>,\n",
              " '12': <gurobi.Var *Awaiting Model Update*>,\n",
              " '13': <gurobi.Var *Awaiting Model Update*>,\n",
              " '14': <gurobi.Var *Awaiting Model Update*>,\n",
              " '15': <gurobi.Var *Awaiting Model Update*>,\n",
              " '16': <gurobi.Var *Awaiting Model Update*>,\n",
              " '17': <gurobi.Var *Awaiting Model Update*>,\n",
              " '18': <gurobi.Var *Awaiting Model Update*>,\n",
              " '19': <gurobi.Var *Awaiting Model Update*>,\n",
              " '2': <gurobi.Var *Awaiting Model Update*>,\n",
              " '20': <gurobi.Var *Awaiting Model Update*>,\n",
              " '21': <gurobi.Var *Awaiting Model Update*>,\n",
              " '22': <gurobi.Var *Awaiting Model Update*>,\n",
              " '23': <gurobi.Var *Awaiting Model Update*>,\n",
              " '24': <gurobi.Var *Awaiting Model Update*>,\n",
              " '25': <gurobi.Var *Awaiting Model Update*>,\n",
              " '26': <gurobi.Var *Awaiting Model Update*>,\n",
              " '27': <gurobi.Var *Awaiting Model Update*>,\n",
              " '28': <gurobi.Var *Awaiting Model Update*>,\n",
              " '3': <gurobi.Var *Awaiting Model Update*>,\n",
              " '4': <gurobi.Var *Awaiting Model Update*>,\n",
              " '5': <gurobi.Var *Awaiting Model Update*>,\n",
              " '6': <gurobi.Var *Awaiting Model Update*>,\n",
              " '7': <gurobi.Var *Awaiting Model Update*>,\n",
              " '8': <gurobi.Var *Awaiting Model Update*>,\n",
              " '9': <gurobi.Var *Awaiting Model Update*>}"
            ]
          },
          "metadata": {},
          "execution_count": 21
        }
      ]
    },
    {
      "cell_type": "markdown",
      "metadata": {
        "id": "s6XjPEP_j0DY"
      },
      "source": [
        "### Auxiliary Variables\n",
        "Auxiliary variables are derived from the values of the decision variables.\n",
        "\n",
        "$totSlack$: This variable counts the total number of extra workers required to satisfy the demand for shift workers.\n",
        "\n",
        "$\\text{totShifts}(w)$: This variable counts the total number of shifts worked by each worker $w \\in workers$.\n",
        "\n",
        "$\\text{minShift}$: This variable determines the minimum number of shifts allocated to workers. \n",
        "\n",
        "$\\text{maxShift}$: This variable  determines the maximum number of shifts allocated to workers."
      ]
    },
    {
      "cell_type": "code",
      "execution_count": 22,
      "metadata": {
        "id": "rlSSEHiZj0DY"
      },
      "outputs": [],
      "source": [
        "# Auxiliary variable totSlack to represent the total number of extra workers required to satisfy the \n",
        "# requirements of all the shifts.\n",
        "totSlack = m.addVar(name='totSlack')"
      ]
    },
    {
      "cell_type": "code",
      "execution_count": 23,
      "metadata": {
        "id": "YR_L4cumj0DY"
      },
      "outputs": [],
      "source": [
        "# Auxiliary variable totShifts counts the total shifts worked by each employed worker\n",
        "totShifts = m.addVars(workers, name=\"TotShifts\")"
      ]
    },
    {
      "cell_type": "markdown",
      "metadata": {
        "id": "VH5TVtj2j0DZ"
      },
      "source": [
        "### Constraint\n",
        "\n",
        "$$\\sum_{w \\: \\in \\: workers} x(w,s) \\; + \\; Slack(s) \\; = \\; \\text{shiftRequirements}(s) \\; \\; \\; \\forall \\; s \\in shifts $$"
      ]
    },
    {
      "cell_type": "code",
      "source": [
        "# x.values()"
      ],
      "metadata": {
        "id": "_TnGS1-g_RXh"
      },
      "execution_count": 24,
      "outputs": []
    },
    {
      "cell_type": "code",
      "execution_count": 65,
      "metadata": {
        "id": "WM3iZ9TVj0DZ"
      },
      "outputs": [],
      "source": [
        "# Constraint: All shifts requirements most be satisfied.\n",
        "\n",
        "shift_reqmtsz = m.addConstrs((x.sum('*',w,s2,s1)<=2 for w in workers for s1,s2 in zip(Shifts, Shifts[2:])), name='shiftRequirement')\n",
        "shift_reqmts = m.addConstrs((x.sum('*',s) + slacks[s] == shiftRequirements[s] for s in Shifts), name='shiftRequirement')"
      ]
    },
    {
      "cell_type": "code",
      "source": [
        "shift_reqmtsz"
      ],
      "metadata": {
        "colab": {
          "base_uri": "https://localhost:8080/"
        },
        "id": "Zfii_DVhX7LG",
        "outputId": "f23d6c3d-6412-486f-ef0d-52f5e6ee5144"
      },
      "execution_count": 66,
      "outputs": [
        {
          "output_type": "execute_result",
          "data": {
            "text/plain": [
              "{('Ahmet', '1', '3'): <gurobi.Constr *Awaiting Model Update*>,\n",
              " ('Ahmet', '10', '12'): <gurobi.Constr *Awaiting Model Update*>,\n",
              " ('Ahmet', '11', '13'): <gurobi.Constr *Awaiting Model Update*>,\n",
              " ('Ahmet', '12', '14'): <gurobi.Constr *Awaiting Model Update*>,\n",
              " ('Ahmet', '13', '15'): <gurobi.Constr *Awaiting Model Update*>,\n",
              " ('Ahmet', '14', '16'): <gurobi.Constr *Awaiting Model Update*>,\n",
              " ('Ahmet', '15', '17'): <gurobi.Constr *Awaiting Model Update*>,\n",
              " ('Ahmet', '16', '18'): <gurobi.Constr *Awaiting Model Update*>,\n",
              " ('Ahmet', '17', '19'): <gurobi.Constr *Awaiting Model Update*>,\n",
              " ('Ahmet', '18', '20'): <gurobi.Constr *Awaiting Model Update*>,\n",
              " ('Ahmet', '19', '21'): <gurobi.Constr *Awaiting Model Update*>,\n",
              " ('Ahmet', '2', '4'): <gurobi.Constr *Awaiting Model Update*>,\n",
              " ('Ahmet', '20', '22'): <gurobi.Constr *Awaiting Model Update*>,\n",
              " ('Ahmet', '21', '23'): <gurobi.Constr *Awaiting Model Update*>,\n",
              " ('Ahmet', '22', '24'): <gurobi.Constr *Awaiting Model Update*>,\n",
              " ('Ahmet', '23', '25'): <gurobi.Constr *Awaiting Model Update*>,\n",
              " ('Ahmet', '24', '26'): <gurobi.Constr *Awaiting Model Update*>,\n",
              " ('Ahmet', '25', '27'): <gurobi.Constr *Awaiting Model Update*>,\n",
              " ('Ahmet', '26', '28'): <gurobi.Constr *Awaiting Model Update*>,\n",
              " ('Ahmet', '3', '5'): <gurobi.Constr *Awaiting Model Update*>,\n",
              " ('Ahmet', '4', '6'): <gurobi.Constr *Awaiting Model Update*>,\n",
              " ('Ahmet', '5', '7'): <gurobi.Constr *Awaiting Model Update*>,\n",
              " ('Ahmet', '6', '8'): <gurobi.Constr *Awaiting Model Update*>,\n",
              " ('Ahmet', '7', '9'): <gurobi.Constr *Awaiting Model Update*>,\n",
              " ('Ahmet', '8', '10'): <gurobi.Constr *Awaiting Model Update*>,\n",
              " ('Ahmet', '9', '11'): <gurobi.Constr *Awaiting Model Update*>,\n",
              " ('Betul', '1', '3'): <gurobi.Constr *Awaiting Model Update*>,\n",
              " ('Betul', '10', '12'): <gurobi.Constr *Awaiting Model Update*>,\n",
              " ('Betul', '11', '13'): <gurobi.Constr *Awaiting Model Update*>,\n",
              " ('Betul', '12', '14'): <gurobi.Constr *Awaiting Model Update*>,\n",
              " ('Betul', '13', '15'): <gurobi.Constr *Awaiting Model Update*>,\n",
              " ('Betul', '14', '16'): <gurobi.Constr *Awaiting Model Update*>,\n",
              " ('Betul', '15', '17'): <gurobi.Constr *Awaiting Model Update*>,\n",
              " ('Betul', '16', '18'): <gurobi.Constr *Awaiting Model Update*>,\n",
              " ('Betul', '17', '19'): <gurobi.Constr *Awaiting Model Update*>,\n",
              " ('Betul', '18', '20'): <gurobi.Constr *Awaiting Model Update*>,\n",
              " ('Betul', '19', '21'): <gurobi.Constr *Awaiting Model Update*>,\n",
              " ('Betul', '2', '4'): <gurobi.Constr *Awaiting Model Update*>,\n",
              " ('Betul', '20', '22'): <gurobi.Constr *Awaiting Model Update*>,\n",
              " ('Betul', '21', '23'): <gurobi.Constr *Awaiting Model Update*>,\n",
              " ('Betul', '22', '24'): <gurobi.Constr *Awaiting Model Update*>,\n",
              " ('Betul', '23', '25'): <gurobi.Constr *Awaiting Model Update*>,\n",
              " ('Betul', '24', '26'): <gurobi.Constr *Awaiting Model Update*>,\n",
              " ('Betul', '25', '27'): <gurobi.Constr *Awaiting Model Update*>,\n",
              " ('Betul', '26', '28'): <gurobi.Constr *Awaiting Model Update*>,\n",
              " ('Betul', '3', '5'): <gurobi.Constr *Awaiting Model Update*>,\n",
              " ('Betul', '4', '6'): <gurobi.Constr *Awaiting Model Update*>,\n",
              " ('Betul', '5', '7'): <gurobi.Constr *Awaiting Model Update*>,\n",
              " ('Betul', '6', '8'): <gurobi.Constr *Awaiting Model Update*>,\n",
              " ('Betul', '7', '9'): <gurobi.Constr *Awaiting Model Update*>,\n",
              " ('Betul', '8', '10'): <gurobi.Constr *Awaiting Model Update*>,\n",
              " ('Betul', '9', '11'): <gurobi.Constr *Awaiting Model Update*>,\n",
              " ('Beyza', '1', '3'): <gurobi.Constr *Awaiting Model Update*>,\n",
              " ('Beyza', '10', '12'): <gurobi.Constr *Awaiting Model Update*>,\n",
              " ('Beyza', '11', '13'): <gurobi.Constr *Awaiting Model Update*>,\n",
              " ('Beyza', '12', '14'): <gurobi.Constr *Awaiting Model Update*>,\n",
              " ('Beyza', '13', '15'): <gurobi.Constr *Awaiting Model Update*>,\n",
              " ('Beyza', '14', '16'): <gurobi.Constr *Awaiting Model Update*>,\n",
              " ('Beyza', '15', '17'): <gurobi.Constr *Awaiting Model Update*>,\n",
              " ('Beyza', '16', '18'): <gurobi.Constr *Awaiting Model Update*>,\n",
              " ('Beyza', '17', '19'): <gurobi.Constr *Awaiting Model Update*>,\n",
              " ('Beyza', '18', '20'): <gurobi.Constr *Awaiting Model Update*>,\n",
              " ('Beyza', '19', '21'): <gurobi.Constr *Awaiting Model Update*>,\n",
              " ('Beyza', '2', '4'): <gurobi.Constr *Awaiting Model Update*>,\n",
              " ('Beyza', '20', '22'): <gurobi.Constr *Awaiting Model Update*>,\n",
              " ('Beyza', '21', '23'): <gurobi.Constr *Awaiting Model Update*>,\n",
              " ('Beyza', '22', '24'): <gurobi.Constr *Awaiting Model Update*>,\n",
              " ('Beyza', '23', '25'): <gurobi.Constr *Awaiting Model Update*>,\n",
              " ('Beyza', '24', '26'): <gurobi.Constr *Awaiting Model Update*>,\n",
              " ('Beyza', '25', '27'): <gurobi.Constr *Awaiting Model Update*>,\n",
              " ('Beyza', '26', '28'): <gurobi.Constr *Awaiting Model Update*>,\n",
              " ('Beyza', '3', '5'): <gurobi.Constr *Awaiting Model Update*>,\n",
              " ('Beyza', '4', '6'): <gurobi.Constr *Awaiting Model Update*>,\n",
              " ('Beyza', '5', '7'): <gurobi.Constr *Awaiting Model Update*>,\n",
              " ('Beyza', '6', '8'): <gurobi.Constr *Awaiting Model Update*>,\n",
              " ('Beyza', '7', '9'): <gurobi.Constr *Awaiting Model Update*>,\n",
              " ('Beyza', '8', '10'): <gurobi.Constr *Awaiting Model Update*>,\n",
              " ('Beyza', '9', '11'): <gurobi.Constr *Awaiting Model Update*>,\n",
              " ('Dila', '1', '3'): <gurobi.Constr *Awaiting Model Update*>,\n",
              " ('Dila', '10', '12'): <gurobi.Constr *Awaiting Model Update*>,\n",
              " ('Dila', '11', '13'): <gurobi.Constr *Awaiting Model Update*>,\n",
              " ('Dila', '12', '14'): <gurobi.Constr *Awaiting Model Update*>,\n",
              " ('Dila', '13', '15'): <gurobi.Constr *Awaiting Model Update*>,\n",
              " ('Dila', '14', '16'): <gurobi.Constr *Awaiting Model Update*>,\n",
              " ('Dila', '15', '17'): <gurobi.Constr *Awaiting Model Update*>,\n",
              " ('Dila', '16', '18'): <gurobi.Constr *Awaiting Model Update*>,\n",
              " ('Dila', '17', '19'): <gurobi.Constr *Awaiting Model Update*>,\n",
              " ('Dila', '18', '20'): <gurobi.Constr *Awaiting Model Update*>,\n",
              " ('Dila', '19', '21'): <gurobi.Constr *Awaiting Model Update*>,\n",
              " ('Dila', '2', '4'): <gurobi.Constr *Awaiting Model Update*>,\n",
              " ('Dila', '20', '22'): <gurobi.Constr *Awaiting Model Update*>,\n",
              " ('Dila', '21', '23'): <gurobi.Constr *Awaiting Model Update*>,\n",
              " ('Dila', '22', '24'): <gurobi.Constr *Awaiting Model Update*>,\n",
              " ('Dila', '23', '25'): <gurobi.Constr *Awaiting Model Update*>,\n",
              " ('Dila', '24', '26'): <gurobi.Constr *Awaiting Model Update*>,\n",
              " ('Dila', '25', '27'): <gurobi.Constr *Awaiting Model Update*>,\n",
              " ('Dila', '26', '28'): <gurobi.Constr *Awaiting Model Update*>,\n",
              " ('Dila', '3', '5'): <gurobi.Constr *Awaiting Model Update*>,\n",
              " ('Dila', '4', '6'): <gurobi.Constr *Awaiting Model Update*>,\n",
              " ('Dila', '5', '7'): <gurobi.Constr *Awaiting Model Update*>,\n",
              " ('Dila', '6', '8'): <gurobi.Constr *Awaiting Model Update*>,\n",
              " ('Dila', '7', '9'): <gurobi.Constr *Awaiting Model Update*>,\n",
              " ('Dila', '8', '10'): <gurobi.Constr *Awaiting Model Update*>,\n",
              " ('Dila', '9', '11'): <gurobi.Constr *Awaiting Model Update*>,\n",
              " ('Muco', '1', '3'): <gurobi.Constr *Awaiting Model Update*>,\n",
              " ('Muco', '10', '12'): <gurobi.Constr *Awaiting Model Update*>,\n",
              " ('Muco', '11', '13'): <gurobi.Constr *Awaiting Model Update*>,\n",
              " ('Muco', '12', '14'): <gurobi.Constr *Awaiting Model Update*>,\n",
              " ('Muco', '13', '15'): <gurobi.Constr *Awaiting Model Update*>,\n",
              " ('Muco', '14', '16'): <gurobi.Constr *Awaiting Model Update*>,\n",
              " ('Muco', '15', '17'): <gurobi.Constr *Awaiting Model Update*>,\n",
              " ('Muco', '16', '18'): <gurobi.Constr *Awaiting Model Update*>,\n",
              " ('Muco', '17', '19'): <gurobi.Constr *Awaiting Model Update*>,\n",
              " ('Muco', '18', '20'): <gurobi.Constr *Awaiting Model Update*>,\n",
              " ('Muco', '19', '21'): <gurobi.Constr *Awaiting Model Update*>,\n",
              " ('Muco', '2', '4'): <gurobi.Constr *Awaiting Model Update*>,\n",
              " ('Muco', '20', '22'): <gurobi.Constr *Awaiting Model Update*>,\n",
              " ('Muco', '21', '23'): <gurobi.Constr *Awaiting Model Update*>,\n",
              " ('Muco', '22', '24'): <gurobi.Constr *Awaiting Model Update*>,\n",
              " ('Muco', '23', '25'): <gurobi.Constr *Awaiting Model Update*>,\n",
              " ('Muco', '24', '26'): <gurobi.Constr *Awaiting Model Update*>,\n",
              " ('Muco', '25', '27'): <gurobi.Constr *Awaiting Model Update*>,\n",
              " ('Muco', '26', '28'): <gurobi.Constr *Awaiting Model Update*>,\n",
              " ('Muco', '3', '5'): <gurobi.Constr *Awaiting Model Update*>,\n",
              " ('Muco', '4', '6'): <gurobi.Constr *Awaiting Model Update*>,\n",
              " ('Muco', '5', '7'): <gurobi.Constr *Awaiting Model Update*>,\n",
              " ('Muco', '6', '8'): <gurobi.Constr *Awaiting Model Update*>,\n",
              " ('Muco', '7', '9'): <gurobi.Constr *Awaiting Model Update*>,\n",
              " ('Muco', '8', '10'): <gurobi.Constr *Awaiting Model Update*>,\n",
              " ('Muco', '9', '11'): <gurobi.Constr *Awaiting Model Update*>}"
            ]
          },
          "metadata": {},
          "execution_count": 66
        }
      ]
    },
    {
      "cell_type": "code",
      "source": [
        "shift_reqmts"
      ],
      "metadata": {
        "id": "7dJCtXYGWBbB"
      },
      "execution_count": null,
      "outputs": []
    },
    {
      "cell_type": "code",
      "source": [
        "m.addVars((x.sum(w,s1,s2) for w in workers for s1,s2 in zip(Shifts, Shifts[2:])), name='ThisisITt!')"
      ],
      "metadata": {
        "colab": {
          "base_uri": "https://localhost:8080/",
          "height": 235
        },
        "id": "sYrowd_PVEAX",
        "outputId": "a8abe0b9-3c0c-46d2-b075-a05c6ef750ed"
      },
      "execution_count": 70,
      "outputs": [
        {
          "output_type": "error",
          "ename": "TypeError",
          "evalue": "ignored",
          "traceback": [
            "\u001b[0;31m---------------------------------------------------------------------------\u001b[0m",
            "\u001b[0;31mTypeError\u001b[0m                                 Traceback (most recent call last)",
            "\u001b[0;32m<ipython-input-70-8133327514a6>\u001b[0m in \u001b[0;36m<module>\u001b[0;34m()\u001b[0m\n\u001b[0;32m----> 1\u001b[0;31m \u001b[0mm\u001b[0m\u001b[0;34m.\u001b[0m\u001b[0maddVars\u001b[0m\u001b[0;34m(\u001b[0m\u001b[0;34m(\u001b[0m\u001b[0mx\u001b[0m\u001b[0;34m.\u001b[0m\u001b[0msum\u001b[0m\u001b[0;34m(\u001b[0m\u001b[0mw\u001b[0m\u001b[0;34m,\u001b[0m\u001b[0ms1\u001b[0m\u001b[0;34m,\u001b[0m\u001b[0ms2\u001b[0m\u001b[0;34m)\u001b[0m \u001b[0;32mfor\u001b[0m \u001b[0mw\u001b[0m \u001b[0;32min\u001b[0m \u001b[0mworkers\u001b[0m \u001b[0;32mfor\u001b[0m \u001b[0ms1\u001b[0m\u001b[0;34m,\u001b[0m\u001b[0ms2\u001b[0m \u001b[0;32min\u001b[0m \u001b[0mzip\u001b[0m\u001b[0;34m(\u001b[0m\u001b[0mShifts\u001b[0m\u001b[0;34m,\u001b[0m \u001b[0mShifts\u001b[0m\u001b[0;34m[\u001b[0m\u001b[0;36m2\u001b[0m\u001b[0;34m:\u001b[0m\u001b[0;34m]\u001b[0m\u001b[0;34m)\u001b[0m\u001b[0;34m)\u001b[0m\u001b[0;34m,\u001b[0m \u001b[0mname\u001b[0m\u001b[0;34m=\u001b[0m\u001b[0;34m'ThisisITt!'\u001b[0m\u001b[0;34m)\u001b[0m\u001b[0;34m\u001b[0m\u001b[0;34m\u001b[0m\u001b[0m\n\u001b[0m",
            "\u001b[0;32msrc/gurobipy/model.pxi\u001b[0m in \u001b[0;36mgenexpr\u001b[0;34m()\u001b[0m\n",
            "\u001b[0;32msrc/gurobipy/tupledict.pxi\u001b[0m in \u001b[0;36mgurobipy.tupledict.__init__\u001b[0;34m()\u001b[0m\n",
            "\u001b[0;31mTypeError\u001b[0m: unhashable type: 'gurobipy.LinExpr'"
          ]
        }
      ]
    },
    {
      "cell_type": "code",
      "source": [
        "m"
      ],
      "metadata": {
        "colab": {
          "base_uri": "https://localhost:8080/"
        },
        "id": "HmQq658-YWP8",
        "outputId": "acfa7362-eb75-4e7a-a684-d33cfec2d491"
      },
      "execution_count": 69,
      "outputs": [
        {
          "output_type": "execute_result",
          "data": {
            "text/plain": [
              "<gurobi.Model MIP instance workforce5: 309 constrs, 176 vars, No parameter changes>"
            ]
          },
          "metadata": {},
          "execution_count": 69
        }
      ]
    },
    {
      "cell_type": "code",
      "source": [
        "\n",
        "\n",
        "\n",
        "# k = m.getVars()"
      ],
      "metadata": {
        "id": "AjRMT4TaDSps"
      },
      "execution_count": 28,
      "outputs": []
    },
    {
      "cell_type": "markdown",
      "metadata": {
        "id": "-xtDR9kAj0DZ"
      },
      "source": [
        "### Constraint\n",
        "\n",
        "$$ \\sum_{s \\: \\in \\: shifts} Slack(s) \\; = \\; totSlack  $$"
      ]
    },
    {
      "cell_type": "code",
      "execution_count": 30,
      "metadata": {
        "id": "tcFt3Uv6j0DZ"
      },
      "outputs": [],
      "source": [
        "# Constraint: set the auxiliary variable (totSlack) equal to the total number of extra workers \n",
        "# required to satisfy shift requirements\n",
        "num_temps = m.addConstr(totSlack == slacks.sum(), name='totSlack')"
      ]
    },
    {
      "cell_type": "markdown",
      "metadata": {
        "id": "z8-1VvLxj0Da"
      },
      "source": [
        "### Constraint\n",
        "\n",
        "$$\\sum_{s \\: \\in \\: shifts} x(w,s) \\; = \\; \\text{totShifts}(w) \\; \\; \\forall \\ w \\; in \\; workers$$"
      ]
    },
    {
      "cell_type": "code",
      "execution_count": 31,
      "metadata": {
        "id": "vJQle_4Nj0Da"
      },
      "outputs": [],
      "source": [
        "# Constraint: compute the total number of shifts for each worker\n",
        "\n",
        "num_shifts = m.addConstrs((totShifts[w] == x.sum(w,'*') for w in workers), name='totShifts')"
      ]
    },
    {
      "cell_type": "markdown",
      "metadata": {
        "id": "c0u_xFb2j0Da"
      },
      "source": [
        "The variable $\\text{minShift}$ determines the minimum numbers of shifts allocated to workers. This variable is calculated as follows:\n",
        "$\\text{minShift} = Min \\{\\text{totShifts}(w): \\ w \\; in \\; workers \\} $\n",
        "\n",
        "The variable $\\text{maxShift}$ determines the maximum numbers of shifts allocated to workers. This variable is calculated as follows:\n",
        "$\\text{maxShift} = Max \\{\\text{totShifts}(w): \\ w \\; in \\; workers \\} $"
      ]
    },
    {
      "cell_type": "code",
      "execution_count": 64,
      "metadata": {
        "id": "zvFYV_Gmj0Da",
        "colab": {
          "base_uri": "https://localhost:8080/",
          "height": 269
        },
        "outputId": "efbfbcf3-d385-4bc3-ceae-58664a5755f6"
      },
      "outputs": [
        {
          "output_type": "error",
          "ename": "AttributeError",
          "evalue": "ignored",
          "traceback": [
            "\u001b[0;31m---------------------------------------------------------------------------\u001b[0m",
            "\u001b[0;31mAttributeError\u001b[0m                            Traceback (most recent call last)",
            "\u001b[0;32m<ipython-input-64-3bf0bc0913e7>\u001b[0m in \u001b[0;36m<module>\u001b[0;34m()\u001b[0m\n\u001b[1;32m      7\u001b[0m \u001b[0mmaxShift\u001b[0m \u001b[0;34m=\u001b[0m \u001b[0mm\u001b[0m\u001b[0;34m.\u001b[0m\u001b[0maddVar\u001b[0m\u001b[0;34m(\u001b[0m\u001b[0mname\u001b[0m\u001b[0;34m=\u001b[0m\u001b[0;34m'maxShift'\u001b[0m\u001b[0;34m)\u001b[0m\u001b[0;34m\u001b[0m\u001b[0;34m\u001b[0m\u001b[0m\n\u001b[1;32m      8\u001b[0m \u001b[0;31m# eod = m.addVar((x[w, s1] + x[w, s2] for w in workers for s1,s2 in zip(Shifts, Shifts[2:])), name='ThisisITt!')\u001b[0m\u001b[0;34m\u001b[0m\u001b[0;34m\u001b[0m\u001b[0;34m\u001b[0m\u001b[0m\n\u001b[0;32m----> 9\u001b[0;31m \u001b[0meodcons\u001b[0m \u001b[0;34m=\u001b[0m \u001b[0mm\u001b[0m\u001b[0;34m.\u001b[0m\u001b[0maddGenConstrMin\u001b[0m\u001b[0;34m(\u001b[0m\u001b[0;34m(\u001b[0m\u001b[0mx\u001b[0m\u001b[0;34m.\u001b[0m\u001b[0msum\u001b[0m\u001b[0;34m(\u001b[0m\u001b[0;34m'*'\u001b[0m\u001b[0;34m,\u001b[0m\u001b[0mw\u001b[0m\u001b[0;34m,\u001b[0m\u001b[0ms2\u001b[0m\u001b[0;34m,\u001b[0m\u001b[0ms1\u001b[0m\u001b[0;34m)\u001b[0m \u001b[0;32mfor\u001b[0m \u001b[0mw\u001b[0m \u001b[0;32min\u001b[0m \u001b[0mworkers\u001b[0m \u001b[0;32mfor\u001b[0m \u001b[0ms1\u001b[0m\u001b[0;34m,\u001b[0m\u001b[0ms2\u001b[0m \u001b[0;32min\u001b[0m \u001b[0mzip\u001b[0m\u001b[0;34m(\u001b[0m\u001b[0mShifts\u001b[0m\u001b[0;34m,\u001b[0m \u001b[0mShifts\u001b[0m\u001b[0;34m[\u001b[0m\u001b[0;36m2\u001b[0m\u001b[0;34m:\u001b[0m\u001b[0;34m]\u001b[0m\u001b[0;34m)\u001b[0m\u001b[0;34m)\u001b[0m\u001b[0;34m,\u001b[0m\u001b[0mtotShifts\u001b[0m\u001b[0;34m,\u001b[0m \u001b[0mname\u001b[0m\u001b[0;34m=\u001b[0m\u001b[0;34m'shiftRequirement'\u001b[0m\u001b[0;34m)\u001b[0m\u001b[0;34m\u001b[0m\u001b[0;34m\u001b[0m\u001b[0m\n\u001b[0m\u001b[1;32m     10\u001b[0m \u001b[0;34m\u001b[0m\u001b[0m\n\u001b[1;32m     11\u001b[0m \u001b[0;31m# Constraint:\u001b[0m\u001b[0;34m\u001b[0m\u001b[0;34m\u001b[0m\u001b[0;34m\u001b[0m\u001b[0m\n",
            "\u001b[0;32msrc/gurobipy/model.pxi\u001b[0m in \u001b[0;36mgurobipy.Model.addGenConstrMin\u001b[0;34m()\u001b[0m\n",
            "\u001b[0;31mAttributeError\u001b[0m: 'generator' object has no attribute '__cindex__'"
          ]
        }
      ],
      "source": [
        "# Auxiliary variables. \n",
        "# minShift is the minimum number of shifts allocated to workers \n",
        "# maxShiworkers\n",
        "# ft is the maximum number of shifts allocated to \n",
        "minShift = m.addVar(name='minShift')\n",
        "\n",
        "maxShift = m.addVar(name='maxShift')\n",
        "# eod = m.addVar((x[w, s1] + x[w, s2] for w in workers for s1,s2 in zip(Shifts, Shifts[2:])), name='ThisisITt!')\n",
        "# eodcons = m.addGenConstrMin((x.sum('*',w,s2,s1) for w in workers for s1,s2 in zip(Shifts, Shifts[2:])),totShifts, name='shiftRequirement')\n",
        "\n",
        "# Constraint: \n",
        "# The addGenConstrMin() method of the model object m adds a new general constraint that \n",
        "# determines the minimum value among a set of variables. \n",
        "# The first argument is the variable whose value will be equal to the minimum of the other variables, \n",
        "# minShift in this case. \n",
        "# The second argument is the set variables over which the minimum will be taken, (totShifts) in \n",
        "# this case.\n",
        "# Recall that the totShifts variable is defined over the set of worker and determines the number of \n",
        "# shifts that an employed worker will work. The third argument is the name of this constraint.\n",
        "\n",
        "min_constr = m.addGenConstrMin(minShift, totShifts, name='minShift')\n",
        "\n",
        "# Constraint:\n",
        "# Similarly, the addGenConstrMax() method of the model object m adds a new general \n",
        "# constraint that determines the maximum value among a set of variables.\n",
        "\n",
        "max_constr = m.addGenConstrMax(maxShift, totShifts, name='maxShift')\n"
      ]
    },
    {
      "cell_type": "code",
      "source": [
        "minShift"
      ],
      "metadata": {
        "id": "qECAyMeijTUj",
        "colab": {
          "base_uri": "https://localhost:8080/"
        },
        "outputId": "56b3d11a-c9ed-41f7-a73c-d799e24eb4d5"
      },
      "execution_count": 33,
      "outputs": [
        {
          "output_type": "execute_result",
          "data": {
            "text/plain": [
              "<gurobi.Var *Awaiting Model Update*>"
            ]
          },
          "metadata": {},
          "execution_count": 33
        }
      ]
    },
    {
      "cell_type": "code",
      "source": [
        "# # Range of shifts that every workers is required to stay between\n",
        "minShifts = 8\n",
        "maxShifts = 10\n",
        "maxShiftsD = 7"
      ],
      "metadata": {
        "id": "2CCz0Vr_gYA0"
      },
      "execution_count": 34,
      "outputs": []
    },
    {
      "cell_type": "code",
      "source": [
        "minShiftsConstr = m.addConstrs(((\n",
        "    x.sum(w,'*') >= minShifts for w in workers)\n",
        "), name='minShifts')\n"
      ],
      "metadata": {
        "id": "3dudSeFOt8gJ"
      },
      "execution_count": 35,
      "outputs": []
    },
    {
      "cell_type": "code",
      "source": [
        "maxShiftsConstr = m.addConstrs(((\n",
        "    x.sum(w,'*') <= maxShifts for w in workers)\n",
        "), name='maxShifts')\n"
      ],
      "metadata": {
        "id": "Sbiy6Mtp1zPh"
      },
      "execution_count": 36,
      "outputs": []
    },
    {
      "cell_type": "code",
      "source": [
        "# maxShiftsConstr = m.addConstr(((\n",
        "#     x.sum('Dila','*') <= maxShiftsD )\n",
        "# ), name='maxShiftsD')"
      ],
      "metadata": {
        "id": "CVErNcPDcQxK"
      },
      "execution_count": 37,
      "outputs": []
    },
    {
      "cell_type": "markdown",
      "metadata": {
        "id": "64ERoPP4j0Db"
      },
      "source": [
        "We have a primary and a secondary objective which both aim to minimize."
      ]
    },
    {
      "cell_type": "code",
      "execution_count": 38,
      "metadata": {
        "id": "FgrbpOQuj0Db"
      },
      "outputs": [],
      "source": [
        "# Set global sense for ALL objectives.\n",
        "# This means that all objectives of the model object m are going to be minimized\n",
        "\n",
        "\n",
        "\n",
        "# m.ModelSense = GRB.MINIMIZE"
      ]
    },
    {
      "cell_type": "code",
      "source": [
        "# x = MODEL.addVars(EMPLOYEE, range(nS), range(nD), vtype=gurobipy.GRB.BINARY)"
      ],
      "metadata": {
        "id": "55M7ohqEIUvW"
      },
      "execution_count": 39,
      "outputs": []
    },
    {
      "cell_type": "code",
      "source": [
        "# Constraints3:Maximum number of consecutive working days TODO\n",
        "# MODEL.addConstrs(gurobipy.quicksum(x[e, i, j]\n",
        "#                                    for i in range(nS)\n",
        "#                                    for j in range(sD1, sD1 + MAX)) <= MAX\n",
        "#                  for sD1 in range(nD - MAX)\n",
        "#                  for e in EMPLOYEE)"
      ],
      "metadata": {
        "id": "C7qfk70NIU0n"
      },
      "execution_count": 40,
      "outputs": []
    },
    {
      "cell_type": "code",
      "source": [
        "dayoffcons = m.addConstrs((x[w, s1] + x[w, s2] <= 1 for w in workers for s1,s2 in zip(Shifts, Shifts[1:])), name='ThisisIT!')"
      ],
      "metadata": {
        "id": "2CrMIoYHiVMQ"
      },
      "execution_count": 41,
      "outputs": []
    },
    {
      "cell_type": "code",
      "source": [
        "# dayoffcons"
      ],
      "metadata": {
        "id": "B8T7YDBj8PHb"
      },
      "execution_count": 42,
      "outputs": []
    },
    {
      "cell_type": "code",
      "source": [
        "# dayoffconsz = m.addConstrs(x[w, s1] + x[w, s2] <= 2 for w in workers for s1,s2 in zip(Shifts, Shifts[2:]), name='ThisisITt!')"
      ],
      "metadata": {
        "id": "qONuzNVt00Fh"
      },
      "execution_count": 43,
      "outputs": []
    },
    {
      "cell_type": "code",
      "source": [
        "# k= []\n",
        "# m.addConstrs((for i in len(5):\n",
        "#                   for s1,s2 in zip(Shifts, Shifts[2:]):\n",
        "#                     for w in workers:\n",
        "#                       if x[w,s1] + x[w,s2] = > 2:\n",
        "#                         k.append(i)\n",
        "#                   len(k)<=2),name='ThisisITt!')\n",
        "# m.addConstrs((i<=2 if x[w,s1] + x[w,s2] =>2  for i in len(5) for w in workers for s1,s2 in zip(Shifts, Shifts[2:] ), name = \"hehrere\")"
      ],
      "metadata": {
        "id": "grhBHofx5sWS"
      },
      "execution_count": 44,
      "outputs": []
    },
    {
      "cell_type": "code",
      "source": [
        "# dayoffconsz"
      ],
      "metadata": {
        "id": "YaOnBWeK0onK"
      },
      "execution_count": 45,
      "outputs": []
    },
    {
      "cell_type": "code",
      "source": [
        "# [sum(x[w, s1] + x[w, s2])  for w in workers for s1,s2 in zip(Shifts, Shifts[2:])]"
      ],
      "metadata": {
        "id": "cJ2uDP587zsX"
      },
      "execution_count": 46,
      "outputs": []
    },
    {
      "cell_type": "code",
      "source": [
        "# consdayslimit = m.addConstrs((x[w, s1] + x[w, s2] <= 1 for w in workers for s1,s2 in zip(Shifts, Shifts[1:])), name='ThisisIT!')"
      ],
      "metadata": {
        "id": "9nIceAeEwLO2"
      },
      "execution_count": 47,
      "outputs": []
    },
    {
      "cell_type": "code",
      "source": [
        "# print(x[w,s1] for w in workers for s1,s2 in zip(Shifts, Shifts[1:]))"
      ],
      "metadata": {
        "id": "Wmp1HNrRppC_"
      },
      "execution_count": 48,
      "outputs": []
    },
    {
      "cell_type": "markdown",
      "metadata": {
        "id": "WynjXL31j0Db"
      },
      "source": [
        "## Objective Function\n",
        "\n",
        "The primary objective is to minimize the total number of extra workers requirBeyza to satisfy shift requirements. \n",
        "$$\n",
        "\\text{Min} \\; totSlack \\; = \\; \\sum_{s \\: \\in \\: shifts} Slack(s) \n",
        "$$\n",
        "\n",
        "For this objective we allow a degradation tolerance of up to certain percentage. If reltol = 0.2, then we allow a degradation\n",
        "tolerance of 20%. "
      ]
    },
    {
      "cell_type": "code",
      "source": [
        "\n",
        "\n",
        "# # Ensure each worker stays within min and max shift bounds\n",
        "\n",
        "# minShiftsConstr = m.addConstrs(((\n",
        "#     x.sum(w,'*') >= minShifts for w in workers)\n",
        "# ), name='minShifts')\n",
        "\n",
        "# maxShiftsConstr = m.addConstrs(((\n",
        "#     x.sum(w,'*') <= maxShifts for w in workers)\n",
        "# ), name='maxShifts')"
      ],
      "metadata": {
        "id": "5RFUuHVqgWLW"
      },
      "execution_count": 49,
      "outputs": []
    },
    {
      "cell_type": "code",
      "execution_count": 50,
      "metadata": {
        "id": "z-AvkHbpj0Db"
      },
      "outputs": [],
      "source": [
        "# Set up primary objective.\n",
        "\n",
        "# The setObjectiveN() method of the model object m allows to define multiple objectives.\n",
        "# The first argument is the linear expression defining the most important objective, called primary \n",
        "# objective, in this case it is the minimization of extra workers required to satisfy shift \n",
        "# requirements. \n",
        "# The second argument is the index of the objective function, we set the index of the primary \n",
        "# objective to be equal to 0. \n",
        "# The third argument is the priority of the objective.\n",
        "# The fourth argument is the relative tolerance to degrade this objective when a lower priority\n",
        "# objective is optimized. The fifth argument is the name of this objective.\n",
        "# A hierarchical or lexicographic approach assigns a priority to each objective, and optimizes \n",
        "# for the objectives in decreasing priority order. \n",
        "# For this problem, we have two objectives, and the primary objective has the highest priority \n",
        "# which is equal to 2. \n",
        "# When the secondary objective is minimized, since the relative tolerance is 0.2, we can only \n",
        "# increase the minimum number of extra workers up to 20%. \n",
        "# For example if the minimum number extra workers is 10, then when optimizing the secondary objective \n",
        "# we can have up to 12 extra workers.\n",
        "\n",
        "# here how we can add salarise to our objective as minimum\n",
        "# m.setObjective(gp.quicksum(pay[w]*x[w, s] for w, s in avail.keys()), GRB.MINIMIZE)\n",
        "\n",
        "\n",
        "\n",
        "m.setObjectiveN(totSlack, index=0, priority=2, reltol=0.2, name='TotalSlack')"
      ]
    },
    {
      "cell_type": "markdown",
      "metadata": {
        "id": "EODumeorj0Db"
      },
      "source": [
        "The secondary objective is to balance workload among workers. To do so, we minimize the difference between the maximum \n",
        "number of shifts allocated to a worker, and the minimum number of shifts allocated to a worker. That is\n",
        "$$\n",
        "\\text{Min} \\; (\\text{maxShift}  -  \\text{minShift}) \n",
        "$$ "
      ]
    },
    {
      "cell_type": "code",
      "execution_count": 51,
      "metadata": {
        "id": "S_d5YuRJj0Dc"
      },
      "outputs": [],
      "source": [
        "# Set up secondary objective.\n",
        "\n",
        "# The secondary objective is called fairness and its goal is to balance the workload assigned \n",
        "# to the employed workers. \n",
        "# To balance the workload assigned to the employed workers, we can minimize the difference \n",
        "# between the maximum number of shifts assigned to an employed worker and the minimum number \n",
        "# of shifts assigned to an employed worker.\n",
        "\n",
        "m.setObjectiveN(maxShift - minShift, index=1, priority=2, name='Fairness')"
      ]
    },
    {
      "cell_type": "code",
      "execution_count": 52,
      "metadata": {
        "id": "7DAZddK4j0Dc"
      },
      "outputs": [],
      "source": [
        "# Save model formulation for inspection\n",
        "\n",
        "m.write('workforce.lp')"
      ]
    },
    {
      "cell_type": "code",
      "execution_count": 53,
      "metadata": {
        "id": "g2lPgU_jj0Dc",
        "colab": {
          "base_uri": "https://localhost:8080/"
        },
        "outputId": "33f45ddf-2c0b-4933-cd19-c9d6bc0260b1"
      },
      "outputs": [
        {
          "output_type": "stream",
          "name": "stdout",
          "text": [
            "Gurobi Optimizer version 9.5.0 build v9.5.0rc5 (linux64)\n",
            "Thread count: 1 physical cores, 2 logical processors, using up to 2 threads\n",
            "Optimize a model with 309 rows, 176 columns and 892 nonzeros\n",
            "Model fingerprint: 0xaf888661\n",
            "Model has 2 general constraints\n",
            "Variable types: 36 continuous, 140 integer (140 binary)\n",
            "Coefficient statistics:\n",
            "  Matrix range     [1e+00, 1e+00]\n",
            "  Objective range  [1e+00, 1e+00]\n",
            "  Bounds range     [1e+00, 1e+00]\n",
            "  RHS range        [1e+00, 1e+01]\n",
            "\n",
            "---------------------------------------------------------------------------\n",
            "Multi-objectives: starting optimization with 2 objectives (1 combined) ...\n",
            "---------------------------------------------------------------------------\n",
            "---------------------------------------------------------------------------\n",
            "\n",
            "Multi-objectives: optimize objective 1 (weighted) ...\n",
            "---------------------------------------------------------------------------\n",
            "\n",
            "Optimize a model with 309 rows, 176 columns and 892 nonzeros\n",
            "Model fingerprint: 0x2e11aa6b\n",
            "Model has 2 general constraints\n",
            "Variable types: 36 continuous, 140 integer (140 binary)\n",
            "Coefficient statistics:\n",
            "  Matrix range     [1e+00, 1e+00]\n",
            "  Objective range  [1e+00, 1e+00]\n",
            "  Bounds range     [1e+00, 1e+00]\n",
            "  RHS range        [1e+00, 1e+01]\n",
            "Presolve removed 131 rows and 29 columns\n",
            "Presolve time: 0.00s\n",
            "Presolved: 178 rows, 147 columns, 575 nonzeros\n",
            "Variable types: 0 continuous, 147 integer (140 binary)\n",
            "\n",
            "Root relaxation: objective -7.105427e-15, 103 iterations, 0.00 seconds (0.00 work units)\n",
            "\n",
            "    Nodes    |    Current Node    |     Objective Bounds      |     Work\n",
            " Expl Unexpl |  Obj  Depth IntInf | Incumbent    BestBd   Gap | It/Node Time\n",
            "\n",
            "     0     0    0.00000    0   15          -    0.00000      -     -    0s\n",
            "H    0     0                       3.0000000    0.00000   100%     -    0s\n",
            "H    0     0                       1.0000000    0.00000   100%     -    0s\n",
            "\n",
            "Explored 1 nodes (234 simplex iterations) in 0.09 seconds (0.00 work units)\n",
            "Thread count was 2 (of 2 available processors)\n",
            "\n",
            "Solution count 2: 1 3 \n",
            "\n",
            "Optimal solution found (tolerance 1.00e-04)\n",
            "Best objective 1.000000000000e+00, best bound 1.000000000000e+00, gap 0.0000%\n",
            "\n",
            "---------------------------------------------------------------------------\n",
            "Multi-objectives: solved in 0.10 seconds (0.00 work units), solution count 2\n",
            "\n"
          ]
        }
      ],
      "source": [
        "# Optimize\n",
        "# This method runs the optimization engine to solve the MIP problem in the model object m\n",
        "m.optimize()"
      ]
    },
    {
      "cell_type": "code",
      "execution_count": 54,
      "metadata": {
        "id": "uAB5mec2j0Dc"
      },
      "outputs": [],
      "source": [
        "# The Status attribute  provides current optimization status of the model object m\n",
        "# In workforce model, we check if the model is infeasible or unbounded and report this situation\n",
        "status = m.Status\n",
        "if status == GRB.Status.INF_OR_UNBD or status == GRB.Status.INFEASIBLE  or status == GRB.Status.UNBOUNDED:\n",
        "    print('The model cannot be solved because it is infeasible or unbounded')\n",
        "    sys.exit(0)\n",
        "# If the optimization status of the model is not optimal for some other reason, we report that \n",
        "# situation.\n",
        "if status != GRB.Status.OPTIMAL:\n",
        "    print('Optimization was stopped with status ' + str(status))\n",
        "    sys.exit(0)"
      ]
    },
    {
      "cell_type": "code",
      "execution_count": 55,
      "metadata": {
        "id": "zWsDO8jwj0Dd",
        "colab": {
          "base_uri": "https://localhost:8080/",
          "height": 630
        },
        "outputId": "6be67f50-d327-4859-91b4-b166aa1cd97f"
      },
      "outputs": [
        {
          "output_type": "stream",
          "name": "stdout",
          "text": [
            "                    KPI Value\n",
            "0  Total slack required   0.0\n",
            "--------------------------------------------------\n",
            "Shifts\n",
            "  Worker  Number of shifts\n",
            "0  Ahmet               9.0\n",
            "1  Betul               8.0\n",
            "2  Beyza               8.0\n",
            "3   Dila               9.0\n",
            "4   Muco               9.0\n"
          ]
        },
        {
          "output_type": "display_data",
          "data": {
            "image/png": "[encoded data removed]",
            "text/plain": [
              "<Figure size 432x288 with 1 Axes>"
            ]
          },
          "metadata": {
            "needs_background": "light"
          }
        },
        {
          "output_type": "stream",
          "name": "stdout",
          "text": [
            "--------------------------------------------------\n",
            "Assigments\n",
            "Symbols: '-': not working, '*': working\n",
            "  worker  1  2  3  4  5  6  7  8  9 10 11  ... 17 18 19 20 21 22 23 24 25 26 27 28\n",
            "0  Ahmet  -  -  *  -  *  -  -  *  -  *  -  ...  *  -  -  -  *  -  -  -  -  *  -  *\n",
            "1  Betul  -  *  -  -  -  -  *  -  *  -  -  ...  -  -  -  -  *  -  *  -  *  -  -  -\n",
            "2  Beyza  *  -  *  -  -  -  -  *  -  -  -  ...  -  *  -  *  -  -  *  -  *  -  -  -\n",
            "3   Dila  -  *  -  *  -  *  -  -  -  *  -  ...  -  -  *  -  -  -  -  *  -  -  *  -\n",
            "4   Muco  -  -  -  -  -  -  *  -  *  -  *  ...  *  -  -  -  -  *  -  *  -  *  -  -\n",
            "\n",
            "[5 rows x 29 columns]\n"
          ]
        }
      ],
      "source": [
        "\n",
        "# Print total slack and the number of shifts worked for each worker\n",
        "# The KPIs for this optimization number is the number of extra worked required to satisfy \n",
        "# demand and the number of shifts that each employed worker is working.\n",
        "solution = {}\n",
        "shifts_sol = {}\n",
        "solution['Total slack required'] = str(totSlack.X)\n",
        "assignments_all = {}\n",
        "gant={}\n",
        "\n",
        "assignments = dict()\n",
        "for [w, s] in avail:\n",
        "    if x[w, s].x == 1:\n",
        "        if w in assignments:\n",
        "            assignments[w].append(s)\n",
        "        else:\n",
        "            assignments[w] = [s]\n",
        "\n",
        "\n",
        "\n",
        "print(pd.DataFrame.from_records(list(solution.items()), columns=['KPI', 'Value']))\n",
        "print('-'*50)\n",
        "\n",
        "for w in workers:\n",
        "    shifts_sol[w]=totShifts[w].X\n",
        "    assignments_all[w]=assignments.get(w, [])\n",
        "\n",
        "print('Shifts')\n",
        "print(pd.DataFrame.from_records(list(shifts_sol.items()), columns=['Worker', 'Number of shifts']))\n",
        "    \n",
        "y_pos = np.arange(len(shifts_sol.keys())) \n",
        "plt.bar(y_pos,shifts_sol.values() , align='center')\n",
        "plt.xticks(y_pos, shifts_sol.keys())\n",
        "plt.show()\n",
        "\n",
        "print('-'*50)\n",
        "for w in assignments_all:\n",
        "    gant[w] = [w]\n",
        "    for d in Shifts:\n",
        "        gant[w].append('*' if d in assignments_all[w] else '-')\n",
        "\n",
        "print('Assigments')\n",
        "print('Symbols: \\'-\\': not working, \\'*\\': working')\n",
        "pd.set_option('display.width', 1000)\n",
        "df = pd.DataFrame.from_records(list(gant.values()), columns=['worker']+Shifts)\n",
        "print(pd.DataFrame.from_records(list(gant.values()), columns=['worker']+Shifts))"
      ]
    },
    {
      "cell_type": "code",
      "source": [
        "df\n",
        "# 13/27 \n",
        "# 6si buetulden dila  dila +1  betul -1\n",
        "# ahmet 21i betule betukl +1 ahmet -1 \n",
        "# dila 23u ahmete ahmet +1 dila -1 "
      ],
      "metadata": {
        "colab": {
          "base_uri": "https://localhost:8080/",
          "height": 206
        },
        "id": "fCw2mON3qc9T",
        "outputId": "9589d2ed-e01c-40a0-9e79-30e2246413e3"
      },
      "execution_count": 56,
      "outputs": [
        {
          "output_type": "execute_result",
          "data": {
            "text/html": [
              "\n",
              "  <div id=\"df-672c725c-0dec-4b45-8c74-dc1f4061291d\">\n",
              "    <div class=\"colab-df-container\">\n",
              "      <div>\n",
              "<style scoped>\n",
              "    .dataframe tbody tr th:only-of-type {\n",
              "        vertical-align: middle;\n",
              "    }\n",
              "\n",
              "    .dataframe tbody tr th {\n",
              "        vertical-align: top;\n",
              "    }\n",
              "\n",
              "    .dataframe thead th {\n",
              "        text-align: right;\n",
              "    }\n",
              "</style>\n",
              "<table border=\"1\" class=\"dataframe\">\n",
              "  <thead>\n",
              "    <tr style=\"text-align: right;\">\n",
              "      <th></th>\n",
              "      <th>worker</th>\n",
              "      <th>1</th>\n",
              "      <th>2</th>\n",
              "      <th>3</th>\n",
              "      <th>4</th>\n",
              "      <th>5</th>\n",
              "      <th>6</th>\n",
              "      <th>7</th>\n",
              "      <th>8</th>\n",
              "      <th>9</th>\n",
              "      <th>10</th>\n",
              "      <th>11</th>\n",
              "      <th>12</th>\n",
              "      <th>13</th>\n",
              "      <th>14</th>\n",
              "      <th>15</th>\n",
              "      <th>16</th>\n",
              "      <th>17</th>\n",
              "      <th>18</th>\n",
              "      <th>19</th>\n",
              "      <th>20</th>\n",
              "      <th>21</th>\n",
              "      <th>22</th>\n",
              "      <th>23</th>\n",
              "      <th>24</th>\n",
              "      <th>25</th>\n",
              "      <th>26</th>\n",
              "      <th>27</th>\n",
              "      <th>28</th>\n",
              "    </tr>\n",
              "  </thead>\n",
              "  <tbody>\n",
              "    <tr>\n",
              "      <th>0</th>\n",
              "      <td>Ahmet</td>\n",
              "      <td>-</td>\n",
              "      <td>-</td>\n",
              "      <td>*</td>\n",
              "      <td>-</td>\n",
              "      <td>*</td>\n",
              "      <td>-</td>\n",
              "      <td>-</td>\n",
              "      <td>*</td>\n",
              "      <td>-</td>\n",
              "      <td>*</td>\n",
              "      <td>-</td>\n",
              "      <td>-</td>\n",
              "      <td>-</td>\n",
              "      <td>-</td>\n",
              "      <td>*</td>\n",
              "      <td>-</td>\n",
              "      <td>*</td>\n",
              "      <td>-</td>\n",
              "      <td>-</td>\n",
              "      <td>-</td>\n",
              "      <td>*</td>\n",
              "      <td>-</td>\n",
              "      <td>-</td>\n",
              "      <td>-</td>\n",
              "      <td>-</td>\n",
              "      <td>*</td>\n",
              "      <td>-</td>\n",
              "      <td>*</td>\n",
              "    </tr>\n",
              "    <tr>\n",
              "      <th>1</th>\n",
              "      <td>Betul</td>\n",
              "      <td>-</td>\n",
              "      <td>*</td>\n",
              "      <td>-</td>\n",
              "      <td>-</td>\n",
              "      <td>-</td>\n",
              "      <td>-</td>\n",
              "      <td>*</td>\n",
              "      <td>-</td>\n",
              "      <td>*</td>\n",
              "      <td>-</td>\n",
              "      <td>-</td>\n",
              "      <td>*</td>\n",
              "      <td>-</td>\n",
              "      <td>-</td>\n",
              "      <td>-</td>\n",
              "      <td>*</td>\n",
              "      <td>-</td>\n",
              "      <td>-</td>\n",
              "      <td>-</td>\n",
              "      <td>-</td>\n",
              "      <td>*</td>\n",
              "      <td>-</td>\n",
              "      <td>*</td>\n",
              "      <td>-</td>\n",
              "      <td>*</td>\n",
              "      <td>-</td>\n",
              "      <td>-</td>\n",
              "      <td>-</td>\n",
              "    </tr>\n",
              "    <tr>\n",
              "      <th>2</th>\n",
              "      <td>Beyza</td>\n",
              "      <td>*</td>\n",
              "      <td>-</td>\n",
              "      <td>*</td>\n",
              "      <td>-</td>\n",
              "      <td>-</td>\n",
              "      <td>-</td>\n",
              "      <td>-</td>\n",
              "      <td>*</td>\n",
              "      <td>-</td>\n",
              "      <td>-</td>\n",
              "      <td>-</td>\n",
              "      <td>-</td>\n",
              "      <td>-</td>\n",
              "      <td>*</td>\n",
              "      <td>-</td>\n",
              "      <td>-</td>\n",
              "      <td>-</td>\n",
              "      <td>*</td>\n",
              "      <td>-</td>\n",
              "      <td>*</td>\n",
              "      <td>-</td>\n",
              "      <td>-</td>\n",
              "      <td>*</td>\n",
              "      <td>-</td>\n",
              "      <td>*</td>\n",
              "      <td>-</td>\n",
              "      <td>-</td>\n",
              "      <td>-</td>\n",
              "    </tr>\n",
              "    <tr>\n",
              "      <th>3</th>\n",
              "      <td>Dila</td>\n",
              "      <td>-</td>\n",
              "      <td>*</td>\n",
              "      <td>-</td>\n",
              "      <td>*</td>\n",
              "      <td>-</td>\n",
              "      <td>*</td>\n",
              "      <td>-</td>\n",
              "      <td>-</td>\n",
              "      <td>-</td>\n",
              "      <td>*</td>\n",
              "      <td>-</td>\n",
              "      <td>-</td>\n",
              "      <td>-</td>\n",
              "      <td>*</td>\n",
              "      <td>-</td>\n",
              "      <td>*</td>\n",
              "      <td>-</td>\n",
              "      <td>-</td>\n",
              "      <td>*</td>\n",
              "      <td>-</td>\n",
              "      <td>-</td>\n",
              "      <td>-</td>\n",
              "      <td>-</td>\n",
              "      <td>*</td>\n",
              "      <td>-</td>\n",
              "      <td>-</td>\n",
              "      <td>*</td>\n",
              "      <td>-</td>\n",
              "    </tr>\n",
              "    <tr>\n",
              "      <th>4</th>\n",
              "      <td>Muco</td>\n",
              "      <td>-</td>\n",
              "      <td>-</td>\n",
              "      <td>-</td>\n",
              "      <td>-</td>\n",
              "      <td>-</td>\n",
              "      <td>-</td>\n",
              "      <td>*</td>\n",
              "      <td>-</td>\n",
              "      <td>*</td>\n",
              "      <td>-</td>\n",
              "      <td>*</td>\n",
              "      <td>-</td>\n",
              "      <td>*</td>\n",
              "      <td>-</td>\n",
              "      <td>*</td>\n",
              "      <td>-</td>\n",
              "      <td>*</td>\n",
              "      <td>-</td>\n",
              "      <td>-</td>\n",
              "      <td>-</td>\n",
              "      <td>-</td>\n",
              "      <td>*</td>\n",
              "      <td>-</td>\n",
              "      <td>*</td>\n",
              "      <td>-</td>\n",
              "      <td>*</td>\n",
              "      <td>-</td>\n",
              "      <td>-</td>\n",
              "    </tr>\n",
              "  </tbody>\n",
              "</table>\n",
              "</div>\n",
              "      <button class=\"colab-df-convert\" onclick=\"convertToInteractive('df-672c725c-0dec-4b45-8c74-dc1f4061291d')\"\n",
              "              title=\"Convert this dataframe to an interactive table.\"\n",
              "              style=\"display:none;\">\n",
              "        \n",
              "  <svg xmlns=\"http://www.w3.org/2000/svg\" height=\"24px\"viewBox=\"0 0 24 24\"\n",
              "       width=\"24px\">\n",
              "    <path d=\"M0 0h24v24H0V0z\" fill=\"none\"/>\n",
              "    <path d=\"M18.56 5.44l.94 2.06.94-2.06 2.06-.94-2.06-.94-.94-2.06-.94 2.06-2.06.94zm-11 1L8.5 8.5l.94-2.06 2.06-.94-2.06-.94L8.5 2.5l-.94 2.06-2.06.94zm10 10l.94 2.06.94-2.06 2.06-.94-2.06-.94-.94-2.06-.94 2.06-2.06.94z\"/><path d=\"M17.41 7.96l-1.37-1.37c-.4-.4-.92-.59-1.43-.59-.52 0-1.04.2-1.43.59L10.3 9.45l-7.72 7.72c-.78.78-.78 2.05 0 2.83L4 21.41c.39.39.9.59 1.41.59.51 0 1.02-.2 1.41-.59l7.78-7.78 2.81-2.81c.8-.78.8-2.07 0-2.86zM5.41 20L4 18.59l7.72-7.72 1.47 1.35L5.41 20z\"/>\n",
              "  </svg>\n",
              "      </button>\n",
              "      \n",
              "  <style>\n",
              "    .colab-df-container {\n",
              "      display:flex;\n",
              "      flex-wrap:wrap;\n",
              "      gap: 12px;\n",
              "    }\n",
              "\n",
              "    .colab-df-convert {\n",
              "      background-color: #E8F0FE;\n",
              "      border: none;\n",
              "      border-radius: 50%;\n",
              "      cursor: pointer;\n",
              "      display: none;\n",
              "      fill: #1967D2;\n",
              "      height: 32px;\n",
              "      padding: 0 0 0 0;\n",
              "      width: 32px;\n",
              "    }\n",
              "\n",
              "    .colab-df-convert:hover {\n",
              "      background-color: #E2EBFA;\n",
              "      box-shadow: 0px 1px 2px rgba(60, 64, 67, 0.3), 0px 1px 3px 1px rgba(60, 64, 67, 0.15);\n",
              "      fill: #174EA6;\n",
              "    }\n",
              "\n",
              "    [theme=dark] .colab-df-convert {\n",
              "      background-color: #3B4455;\n",
              "      fill: #D2E3FC;\n",
              "    }\n",
              "\n",
              "    [theme=dark] .colab-df-convert:hover {\n",
              "      background-color: #434B5C;\n",
              "      box-shadow: 0px 1px 3px 1px rgba(0, 0, 0, 0.15);\n",
              "      filter: drop-shadow(0px 1px 2px rgba(0, 0, 0, 0.3));\n",
              "      fill: #FFFFFF;\n",
              "    }\n",
              "  </style>\n",
              "\n",
              "      <script>\n",
              "        const buttonEl =\n",
              "          document.querySelector('#df-672c725c-0dec-4b45-8c74-dc1f4061291d button.colab-df-convert');\n",
              "        buttonEl.style.display =\n",
              "          google.colab.kernel.accessAllowed ? 'block' : 'none';\n",
              "\n",
              "        async function convertToInteractive(key) {\n",
              "          const element = document.querySelector('#df-672c725c-0dec-4b45-8c74-dc1f4061291d');\n",
              "          const dataTable =\n",
              "            await google.colab.kernel.invokeFunction('convertToInteractive',\n",
              "                                                     [key], {});\n",
              "          if (!dataTable) return;\n",
              "\n",
              "          const docLinkHtml = 'Like what you see? Visit the ' +\n",
              "            '<a target=\"_blank\" href=https://colab.research.google.com/notebooks/data_table.ipynb>data table notebook</a>'\n",
              "            + ' to learn more about interactive tables.';\n",
              "          element.innerHTML = '';\n",
              "          dataTable['output_type'] = 'display_data';\n",
              "          await google.colab.output.renderOutput(dataTable, element);\n",
              "          const docLink = document.createElement('div');\n",
              "          docLink.innerHTML = docLinkHtml;\n",
              "          element.appendChild(docLink);\n",
              "        }\n",
              "      </script>\n",
              "    </div>\n",
              "  </div>\n",
              "  "
            ],
            "text/plain": [
              "  worker  1  2  3  4  5  6  7  8  9 10 11  ... 17 18 19 20 21 22 23 24 25 26 27 28\n",
              "0  Ahmet  -  -  *  -  *  -  -  *  -  *  -  ...  *  -  -  -  *  -  -  -  -  *  -  *\n",
              "1  Betul  -  *  -  -  -  -  *  -  *  -  -  ...  -  -  -  -  *  -  *  -  *  -  -  -\n",
              "2  Beyza  *  -  *  -  -  -  -  *  -  -  -  ...  -  *  -  *  -  -  *  -  *  -  -  -\n",
              "3   Dila  -  *  -  *  -  *  -  -  -  *  -  ...  -  -  *  -  -  -  -  *  -  -  *  -\n",
              "4   Muco  -  -  -  -  -  -  *  -  *  -  *  ...  *  -  -  -  -  *  -  *  -  *  -  -\n",
              "\n",
              "[5 rows x 29 columns]"
            ]
          },
          "metadata": {},
          "execution_count": 56
        }
      ]
    },
    {
      "cell_type": "code",
      "source": [
        "df.to_csv('first.csv',index= False)"
      ],
      "metadata": {
        "id": "0Uzo1qCQ6bsA"
      },
      "execution_count": 57,
      "outputs": []
    },
    {
      "cell_type": "markdown",
      "metadata": {
        "id": "qq_pGcJ4j0Dd"
      },
      "source": [
        "## Analysis\n",
        "\n",
        "The total number of extra workers required to satisfy the shift requirements during the planning horizon is seven.\n",
        "\n",
        "The bar chart shows the number of shifts that each employed worker will work during the planning horizon. Observe that with seven extra workers, the workload of employed workers is quite balanced.\n",
        "\n",
        "The last table shows which day during the planning horizon each employed worker is working."
      ]
    },
    {
      "cell_type": "code",
      "source": [
        "m.addConstrs((x[w, s2] - x[w, s1] <= z[w, s2]) for w in Workers for s1,s2 in zip(Shifts, Shifts[1:]))\n",
        "m.addConstrs(x[w, Shifts[0]] == z[w, Shifts[0]] for w in Workers)"
      ],
      "metadata": {
        "id": "pHotl_Wo0JoN",
        "colab": {
          "base_uri": "https://localhost:8080/",
          "height": 130
        },
        "outputId": "f87bbcce-db12-4af1-aa26-dfb4a959d288"
      },
      "execution_count": null,
      "outputs": [
        {
          "output_type": "error",
          "ename": "SyntaxError",
          "evalue": "ignored",
          "traceback": [
            "\u001b[0;36m  File \u001b[0;32m\"<ipython-input-44-a99d03a1e596>\"\u001b[0;36m, line \u001b[0;32m1\u001b[0m\n\u001b[0;31m    m.addConstrs(x[w, s2]+ x[w, s1]) < 2 for w in workers for s1,s2 in zip(Shifts, Shifts[1:])\u001b[0m\n\u001b[0m                                           ^\u001b[0m\n\u001b[0;31mSyntaxError\u001b[0m\u001b[0;31m:\u001b[0m invalid syntax\n"
          ]
        }
      ]
    },
    {
      "cell_type": "code",
      "source": [
        "while w == w:\n",
        "  for s1,s2 in zip(Shifts, Shifts[1:]):\n",
        "    k = (x[w, s2] + x[w, s1])<2"
      ],
      "metadata": {
        "colab": {
          "base_uri": "https://localhost:8080/",
          "height": 235
        },
        "id": "EHX1yhJ0Jjor",
        "outputId": "462bd656-3ffd-474d-9e26-ea6bdb3218d4"
      },
      "execution_count": null,
      "outputs": [
        {
          "output_type": "error",
          "ename": "NotImplementedError",
          "evalue": "ignored",
          "traceback": [
            "\u001b[0;31m---------------------------------------------------------------------------\u001b[0m",
            "\u001b[0;31mNotImplementedError\u001b[0m                       Traceback (most recent call last)",
            "\u001b[0;32m<ipython-input-36-379834d42f7c>\u001b[0m in \u001b[0;36m<module>\u001b[0;34m()\u001b[0m\n\u001b[1;32m      1\u001b[0m \u001b[0;32mwhile\u001b[0m \u001b[0mw\u001b[0m \u001b[0;34m==\u001b[0m \u001b[0mw\u001b[0m\u001b[0;34m:\u001b[0m\u001b[0;34m\u001b[0m\u001b[0;34m\u001b[0m\u001b[0m\n\u001b[1;32m      2\u001b[0m   \u001b[0;32mfor\u001b[0m \u001b[0ms1\u001b[0m\u001b[0;34m,\u001b[0m\u001b[0ms2\u001b[0m \u001b[0;32min\u001b[0m \u001b[0mzip\u001b[0m\u001b[0;34m(\u001b[0m\u001b[0mShifts\u001b[0m\u001b[0;34m,\u001b[0m \u001b[0mShifts\u001b[0m\u001b[0;34m[\u001b[0m\u001b[0;36m1\u001b[0m\u001b[0;34m:\u001b[0m\u001b[0;34m]\u001b[0m\u001b[0;34m)\u001b[0m\u001b[0;34m:\u001b[0m\u001b[0;34m\u001b[0m\u001b[0;34m\u001b[0m\u001b[0m\n\u001b[0;32m----> 3\u001b[0;31m     \u001b[0mk\u001b[0m \u001b[0;34m=\u001b[0m \u001b[0;34m(\u001b[0m\u001b[0mx\u001b[0m\u001b[0;34m[\u001b[0m\u001b[0mw\u001b[0m\u001b[0;34m,\u001b[0m \u001b[0ms2\u001b[0m\u001b[0;34m]\u001b[0m \u001b[0;34m+\u001b[0m \u001b[0mx\u001b[0m\u001b[0;34m[\u001b[0m\u001b[0mw\u001b[0m\u001b[0;34m,\u001b[0m \u001b[0ms1\u001b[0m\u001b[0;34m]\u001b[0m\u001b[0;34m)\u001b[0m\u001b[0;34m<\u001b[0m\u001b[0;36m2\u001b[0m\u001b[0;34m\u001b[0m\u001b[0;34m\u001b[0m\u001b[0m\n\u001b[0m",
            "\u001b[0;32msrc/gurobipy/linexpr.pxi\u001b[0m in \u001b[0;36mgurobipy.LinExpr.__richcmp__\u001b[0;34m()\u001b[0m\n",
            "\u001b[0;31mNotImplementedError\u001b[0m: "
          ]
        }
      ]
    },
    {
      "cell_type": "code",
      "source": [
        "m.addConstrs(while w == w:\n",
        "              for s1,s2 in zip(Shifts, Shifts[1:]):\n",
        "                (x[w, s2] + x[w, s1])<2\n",
        "    )"
      ],
      "metadata": {
        "colab": {
          "base_uri": "https://localhost:8080/",
          "height": 130
        },
        "id": "flBViLf9Ipya",
        "outputId": "7094e793-a8e8-451e-ce9a-23051f12c3f8"
      },
      "execution_count": null,
      "outputs": [
        {
          "output_type": "error",
          "ename": "SyntaxError",
          "evalue": "ignored",
          "traceback": [
            "\u001b[0;36m  File \u001b[0;32m\"<ipython-input-35-1700812e2ae4>\"\u001b[0;36m, line \u001b[0;32m2\u001b[0m\n\u001b[0;31m    while w == w:\u001b[0m\n\u001b[0m        ^\u001b[0m\n\u001b[0;31mSyntaxError\u001b[0m\u001b[0;31m:\u001b[0m invalid syntax\n"
          ]
        }
      ]
    },
    {
      "cell_type": "markdown",
      "metadata": {
        "id": "nKEefBqhj0Dd"
      },
      "source": [
        "## Conclusion\n",
        "\n",
        "In this Jupyter Notebook, we discussed a workforce scheduling optimization problem that is common in the services industry.\n",
        "Consider a service business that develops its workforce plans for the next two weeks. There is only one shift per workday. Each shift may have different workers requirements on each workday. The service business may hire extra workers from an agency to satisfy shift requirements. The service business wants to minimize the number of extra workers that needs to hire, and as a secondary objective, it wants to balance the workload of employed workers.\n",
        "\n",
        "The problem was formulated as a multi-objective mixed-integer-programming (MIP) model,\n",
        "and implemented using the Gurobi Python API and solved using the Gurobi Optimizer.\n",
        "\n",
        "The hierarchical  approach to tackling multi-objective function problems was explained in detail.\n"
      ]
    },
    {
      "cell_type": "markdown",
      "metadata": {
        "id": "szYrJhsGj0Dd"
      },
      "source": [
        "Copyright © 2020 Gurobi Optimization, LLC"
      ]
    },
    {
      "cell_type": "code",
      "source": [
        "%pip install gurobipy"
      ],
      "metadata": {
        "colab": {
          "base_uri": "https://localhost:8080/"
        },
        "id": "L9tElCziHP0_",
        "outputId": "6f5457d3-8f97-4d2e-abd8-9df983a1fe98"
      },
      "execution_count": null,
      "outputs": [
        {
          "output_type": "stream",
          "name": "stdout",
          "text": [
            "Collecting gurobipy\n",
            "  Downloading gurobipy-9.5.0-cp37-cp37m-manylinux2014_x86_64.whl (11.5 MB)\n",
            "\u001b[K     |████████████████████████████████| 11.5 MB 10.0 MB/s \n",
            "\u001b[?25hInstalling collected packages: gurobipy\n",
            "Successfully installed gurobipy-9.5.0\n"
          ]
        }
      ]
    },
    {
      "cell_type": "code",
      "source": [
        "import gurobipy as gp\n",
        "# Development of model\n",
        "from gurobipy import Model\n"
      ],
      "metadata": {
        "id": "M3kCKr0ani8Q"
      },
      "execution_count": null,
      "outputs": []
    },
    {
      "cell_type": "code",
      "source": [
        "nE = 9            #number of employees\n",
        "EMPLOYEE = [\"SMITH\", \"JOHNSON\", \"WILLIAMS\", \"JONES\", \"BROWN\",\"DAVIS\", \"MILLER\", ]\n",
        "nS = 1            #number of types of shifts\n",
        "nD = 7            #number of days in the planning cycle 7\n",
        "MIN = 0           #minimum number of consecutive working days 4\n",
        "Shifts = [\n",
        "    \"Mon1\", \"Tue2\", \"Wed3\", \"Thu4\", \"Fri5\", \"Sat6\", \"Sun7\", \"Mon8\", \"Tue9\",\n",
        "    \"Wed10\", \"Thu11\", \"Fri12\", \"Sat13\", \"Sun14\"\n",
        "    ]\n",
        "MAX = 0           #maximum number of consecutive working days 7                                     (LV:5)\n",
        "aS = 2           # object of allowable sequence: N(2)-N(2), N(2)-B\n",
        "uaS = range(2)   # unallowable sequence\n",
        "Dem = [[2, 2, 2, 2, 2, 1, 2], [2, 2, 2, 2, 3, 2, 1], [2, 2, 2, 2, 2, 1, 1]] #daily demand for each working shift s"
      ],
      "metadata": {
        "id": "uBTyff5hni-v"
      },
      "execution_count": null,
      "outputs": []
    },
    {
      "cell_type": "code",
      "source": [
        "m = gp.Model(\"employee_scheduling\")"
      ],
      "metadata": {
        "id": "xY_u3ky9H0N3"
      },
      "execution_count": null,
      "outputs": []
    },
    {
      "cell_type": "code",
      "source": [
        "# m = gp.Model(\"employee_scheduling\")\n",
        "\n",
        "# Decision variables\n",
        "x = m.addVars(EMPLOYEE, range(nS), range(nD), vtype=gp.GRB.BINARY, name=\"x\")\n",
        "y = m.addVars(EMPLOYEE, range(nD), vtype=gp.GRB.BINARY, name=\"y\")\n",
        "\n",
        "# Objective function\n",
        "m.setObjective(x.sum(), sense=gp.GRB.MINIMIZE)\n",
        "\n",
        "# Constraints 1: Each employee is assigned to at most on one shift per day\n",
        "m.addConstrs(x.sum(e, \"*\", j) <= 1 for e in EMPLOYEE for j in range(nD))\n",
        "\n",
        "# Constraints 2: Demand\n",
        "m.addConstrs(x.sum(\"*\", i, j) >= Dem[i][j] for i in range(nS) for j in range(nD))\n",
        "\n",
        "\n",
        "# shift_reqmts = m.addConstrs((x.sum('*',s) + slacks[s] == shiftRequirements[s] for s in shifts), name='shiftRequirement')\n",
        "\n",
        "# New Constraints enforcing the relationship between x and y\n",
        "m.addConstrs(\n",
        "    ((y[e, j] == 1) >> (x.sum(e, \"*\", j) == 1)) for e in EMPLOYEE for j in range(nD)\n",
        ")\n",
        "\n",
        "m.addConstrs(\n",
        "    ((y[e, j] == 0) >> (x.sum(e, \"*\", j) == 0)) for e in EMPLOYEE for j in range(nD)\n",
        ")\n",
        "\n",
        "# Constraints 3: Maximum limit on the number of consecutive working days\n",
        "m.addConstrs(\n",
        "   (\n",
        "        (y[e, sD1] == 1)\n",
        "        >> (\n",
        "            gp.quicksum(\n",
        "                x.sum(e, \"*\", j)\n",
        "                for j in range(max(0, sD1 - MAX + 1), min(sD1 + MAX, nD))\n",
        "           )\n",
        "           <= MAX\n",
        "       )\n",
        "   )\n",
        "   for sD1 in range(nD)\n",
        "   for e in EMPLOYEE\n",
        ")\n",
        "\n",
        "# Constraints 4: Minimum limit on the number of consecutive working days\n",
        "m.addConstrs(\n",
        "    (\n",
        "        (y[e, sD1] == 1)\n",
        "        >> (\n",
        "           gp.quicksum(\n",
        "               x.sum(e, \"*\", j)\n",
        "               for j in range(max(0, sD1 - MIN + 1), min(sD1 + MIN, nD))\n",
        "          )\n",
        "          >= MIN\n",
        "        )\n",
        "    )\n",
        "    for sD1 in range(nD)\n",
        "    for e in EMPLOYEE\n",
        ")\n",
        "\n",
        "m.optimize()\n",
        "\n",
        "\n",
        "status = m.Status\n",
        "if status == GRB.Status.INF_OR_UNBD or status == GRB.Status.INFEASIBLE  or status == GRB.Status.UNBOUNDED:\n",
        "    print('The model cannot be solved because it is infeasible or unbounded')\n",
        "    sys.exit(0)\n",
        "# If the optimization status of the model is not optimal for some other reason, we report that \n",
        "# situation.\n",
        "if status != GRB.Status.OPTIMAL:\n",
        "    print('Optimization was stopped with status ' + str(status))\n",
        "    sys.exit(0)\n",
        "\n",
        "\n",
        "\n",
        "solution = {}\n",
        "shifts_sol = {}\n",
        "# solution['Total slack required'] = str(totSlack.X)\n",
        "assignments_all = {}\n",
        "gant={}\n",
        "\n",
        "# assignments = dict()\n",
        "# for [w, s] in availability:\n",
        "#     if x[w, s].x == 1:\n",
        "#         if w in assignments:\n",
        "#             assignments[w].append(s)\n",
        "#         else:\n",
        "#             assignments[w] = [s]\n",
        "\n",
        "\n",
        "# print(pd.DataFrame.from_records(list(solution.items()), columns=['KPI', 'Value']))\n",
        "# print('-'*50)\n",
        "\n",
        "for w in EMPLOYEE:\n",
        "    shifts_sol[w]=totShifts[w].X\n",
        "    assignments_all[w]=assignments.get(w, [])\n",
        "\n",
        "print('Shifts')\n",
        "print(pd.DataFrame.from_records(list(shifts_sol.items()), columns=['Worker', 'Number of shifts']))\n",
        "    \n",
        "y_pos = np.arange(len(shifts_sol.keys())) \n",
        "plt.bar(y_pos,shifts_sol.values() , align='center')\n",
        "plt.xticks(y_pos, shifts_sol.keys())\n",
        "plt.show()\n",
        "\n",
        "print('-'*50)\n",
        "for w in assignments_all:\n",
        "    gant[w] = [w]\n",
        "    for d in Shifts:\n",
        "        gant[w].append('*' if d in assignments_all[w] else '-')\n",
        "\n",
        "print('Assigments')\n",
        "print('Symbols: \\'-\\': not working, \\'*\\': working')\n",
        "pd.set_option('display.width', 1000)\n",
        "df = pd.DataFrame.from_records(list(gant.values()), columns=['worker']+Shifts)\n",
        "print(pd.DataFrame.from_records(list(gant.values()), columns=['worker']+Shifts))"
      ],
      "metadata": {
        "colab": {
          "base_uri": "https://localhost:8080/",
          "height": 721
        },
        "id": "5SZ5dHbPnjBK",
        "outputId": "7a265623-709c-44ea-d898-b120fffa6a68"
      },
      "execution_count": null,
      "outputs": [
        {
          "output_type": "stream",
          "name": "stdout",
          "text": [
            "Gurobi Optimizer version 9.5.0 build v9.5.0rc5 (linux64)\n",
            "Thread count: 1 physical cores, 2 logical processors, using up to 2 threads\n",
            "Optimize a model with 224 rows, 399 columns and 392 nonzeros\n",
            "Model fingerprint: 0x5d6d56de\n",
            "Model has 784 general constraints\n",
            "Variable types: 7 continuous, 392 integer (392 binary)\n",
            "Coefficient statistics:\n",
            "  Matrix range     [1e+00, 1e+00]\n",
            "  Objective range  [1e+00, 1e+00]\n",
            "  Bounds range     [1e+00, 1e+00]\n",
            "  RHS range        [1e+00, 2e+00]\n",
            "  GenCon rhs range [1e+00, 1e+00]\n",
            "  GenCon coe range [1e+00, 1e+00]\n",
            "\n",
            "MIP start from previous solve produced solution with objective 13 (0.03s)\n",
            "Loaded MIP start from previous solve with objective 13\n",
            "\n",
            "Presolve removed 224 rows and 399 columns\n",
            "Presolve time: 0.01s\n",
            "Presolve: All rows and columns removed\n",
            "\n",
            "Explored 0 nodes (0 simplex iterations) in 0.06 seconds (0.00 work units)\n",
            "Thread count was 1 (of 2 available processors)\n",
            "\n",
            "Solution count 1: 13 \n",
            "\n",
            "Optimal solution found (tolerance 1.00e-04)\n",
            "Best objective 1.300000000000e+01, best bound 1.300000000000e+01, gap 0.0000%\n"
          ]
        },
        {
          "output_type": "error",
          "ename": "NameError",
          "evalue": "ignored",
          "traceback": [
            "\u001b[0;31m---------------------------------------------------------------------------\u001b[0m",
            "\u001b[0;31mNameError\u001b[0m                                 Traceback (most recent call last)",
            "\u001b[0;32m<ipython-input-15-b89b66a10c18>\u001b[0m in \u001b[0;36m<module>\u001b[0;34m()\u001b[0m\n\u001b[1;32m     93\u001b[0m \u001b[0;32mfor\u001b[0m \u001b[0mw\u001b[0m \u001b[0;32min\u001b[0m \u001b[0mEMPLOYEE\u001b[0m\u001b[0;34m:\u001b[0m\u001b[0;34m\u001b[0m\u001b[0;34m\u001b[0m\u001b[0m\n\u001b[1;32m     94\u001b[0m     \u001b[0mshifts_sol\u001b[0m\u001b[0;34m[\u001b[0m\u001b[0mw\u001b[0m\u001b[0;34m]\u001b[0m\u001b[0;34m=\u001b[0m\u001b[0mtotShifts\u001b[0m\u001b[0;34m[\u001b[0m\u001b[0mw\u001b[0m\u001b[0;34m]\u001b[0m\u001b[0;34m.\u001b[0m\u001b[0mX\u001b[0m\u001b[0;34m\u001b[0m\u001b[0;34m\u001b[0m\u001b[0m\n\u001b[0;32m---> 95\u001b[0;31m     \u001b[0massignments_all\u001b[0m\u001b[0;34m[\u001b[0m\u001b[0mw\u001b[0m\u001b[0;34m]\u001b[0m\u001b[0;34m=\u001b[0m\u001b[0massignments\u001b[0m\u001b[0;34m.\u001b[0m\u001b[0mget\u001b[0m\u001b[0;34m(\u001b[0m\u001b[0mw\u001b[0m\u001b[0;34m,\u001b[0m \u001b[0;34m[\u001b[0m\u001b[0;34m]\u001b[0m\u001b[0;34m)\u001b[0m\u001b[0;34m\u001b[0m\u001b[0;34m\u001b[0m\u001b[0m\n\u001b[0m\u001b[1;32m     96\u001b[0m \u001b[0;34m\u001b[0m\u001b[0m\n\u001b[1;32m     97\u001b[0m \u001b[0mprint\u001b[0m\u001b[0;34m(\u001b[0m\u001b[0;34m'Shifts'\u001b[0m\u001b[0;34m)\u001b[0m\u001b[0;34m\u001b[0m\u001b[0;34m\u001b[0m\u001b[0m\n",
            "\u001b[0;31mNameError\u001b[0m: name 'assignments' is not defined"
          ]
        }
      ]
    },
    {
      "cell_type": "code",
      "source": [
        "x"
      ],
      "metadata": {
        "id": "-pyMHo3DnjDe"
      },
      "execution_count": null,
      "outputs": []
    },
    {
      "cell_type": "code",
      "source": [
        "y"
      ],
      "metadata": {
        "id": "92yH6YauqzYY"
      },
      "execution_count": null,
      "outputs": []
    },
    {
      "cell_type": "markdown",
      "source": [
        "#Google OrTOOLS"
      ],
      "metadata": {
        "id": "jMnxTjcisZIL"
      }
    },
    {
      "cell_type": "code",
      "source": [
        "from ortools.sat.python import cp_model"
      ],
      "metadata": {
        "id": "hDwlEHNnrEvm"
      },
      "execution_count": null,
      "outputs": []
    },
    {
      "cell_type": "code",
      "source": [
        ""
      ],
      "metadata": {
        "id": "HuWbJYK4sMgr"
      },
      "execution_count": null,
      "outputs": []
    }
  ],
  "metadata": {
    "kernelspec": {
      "display_name": "Python 3",
      "language": "python",
      "name": "python3"
    },
    "language_info": {
      "codemirror_mode": {
        "name": "ipython",
        "version": 3
      },
      "file_extension": ".py",
      "mimetype": "text/x-python",
      "name": "python",
      "nbconvert_exporter": "python",
      "pygments_lexer": "ipython3",
      "version": "3.7.1"
    },
    "colab": {
      "name": "workforce_scheduling_gcl.ipynb",
      "provenance": [],
      "collapsed_sections": [],
      "include_colab_link": true
    }
  },
  "nbformat": 4,
  "nbformat_minor": 0
}