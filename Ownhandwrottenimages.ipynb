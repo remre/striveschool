{
  "nbformat": 4,
  "nbformat_minor": 0,
  "metadata": {
    "colab": {
      "name": "Ownhandwrottenimages.ipynb",
      "provenance": [],
      "mount_file_id": "1p1RmwSreKn1Ybmst5R9wbfgiRpSXEtdx",
      "authorship_tag": "ABX9TyP5OjFyVjxcpoiDVXANNPVo",
      "include_colab_link": true
    },
    "kernelspec": {
      "name": "python3",
      "display_name": "Python 3"
    },
    "language_info": {
      "name": "python"
    }
  },
  "cells": [
    {
      "cell_type": "markdown",
      "metadata": {
        "id": "view-in-github",
        "colab_type": "text"
      },
      "source": [
        "<a href=\"https://colab.research.google.com/github/remre/striveschool/blob/main/Ownhandwrottenimages.ipynb\" target=\"_parent\"><img src=\"https://colab.research.google.com/assets/colab-badge.svg\" alt=\"Open In Colab\"/></a>"
      ]
    },
    {
      "cell_type": "markdown",
      "source": [
        "# Ready Your Own Handwriting with OpenCV to CNN Model\n",
        "This notebook shows how to process your own handwriting files to CNN models "
      ],
      "metadata": {
        "id": "hoW5Z7dIHTav"
      }
    },
    {
      "cell_type": "code",
      "execution_count": 1,
      "metadata": {
        "id": "KogKsY8eHNX0"
      },
      "outputs": [],
      "source": [
        "# necesary libraries\n",
        "import cv2\n",
        "import matplotlib.pyplot as plt\n",
        "import numpy as np\n",
        "from google.colab.patches import cv2_imshow"
      ]
    },
    {
      "cell_type": "code",
      "source": [
        "# read the files \n",
        "eight = cv2.imread('/content/drive/MyDrive/dataAI/mnisthandwritten/eight.png')\n",
        "three = cv2.imread('/content/drive/MyDrive/dataAI/mnisthandwritten/three.png')\n",
        "four = cv2.imread('/content/drive/MyDrive/dataAI/mnisthandwritten/four.png')\n",
        "five = cv2.imread('/content/drive/MyDrive/dataAI/mnisthandwritten/five.png')\n",
        "six = cv2.imread('/content/drive/MyDrive/dataAI/mnisthandwritten/six.png')\n",
        "seven = cv2.imread('/content/drive/MyDrive/dataAI/mnisthandwritten/seven.png')\n",
        "nine = cv2.imread('/content/drive/MyDrive/dataAI/mnisthandwritten/nine.png')\n",
        "one = cv2.imread('/content/drive/MyDrive/dataAI/mnisthandwritten/one.png')\n",
        "two = cv2.imread('/content/drive/MyDrive/dataAI/mnisthandwritten/two.png')"
      ],
      "metadata": {
        "id": "_0kzu401HqYP"
      },
      "execution_count": 9,
      "outputs": []
    },
    {
      "cell_type": "code",
      "source": [
        "plt.imshow(seven)"
      ],
      "metadata": {
        "colab": {
          "base_uri": "https://localhost:8080/",
          "height": 286
        },
        "id": "AQz0BQ6YHvbF",
        "outputId": "53a263af-2500-413e-b048-114ceae04523"
      },
      "execution_count": 10,
      "outputs": [
        {
          "output_type": "execute_result",
          "data": {
            "text/plain": [
              "<matplotlib.image.AxesImage at 0x7f1e6182c2d0>"
            ]
          },
          "metadata": {},
          "execution_count": 10
        },
        {
          "output_type": "display_data",
          "data": {
            "text/plain": [
              "<Figure size 432x288 with 1 Axes>"
            ],
            "image/png": "[encoded data removed]"
          },
          "metadata": {
            "needs_background": "light"
          }
        }
      ]
    },
    {
      "cell_type": "code",
      "source": [
        "fourone = four.copy()\n",
        "kernel = np.ones((7,7))\n",
        "fourone = cv2.bitwise_not(fourone)\n",
        "fourone = cv2.cvtColor(fourone, cv2.COLOR_BGR2RGB)\n",
        "closing = cv2.morphologyEx(fourone,cv2.MORPH_DILATE,kernel,)\n",
        "plt.imshow(closing)"
      ],
      "metadata": {
        "colab": {
          "base_uri": "https://localhost:8080/",
          "height": 286
        },
        "id": "iRGDJcVxH9iE",
        "outputId": "2a228830-ab78-437a-a1ac-48be630e2bd9"
      },
      "execution_count": 11,
      "outputs": [
        {
          "output_type": "execute_result",
          "data": {
            "text/plain": [
              "<matplotlib.image.AxesImage at 0x7f1e61813a10>"
            ]
          },
          "metadata": {},
          "execution_count": 11
        },
        {
          "output_type": "display_data",
          "data": {
            "text/plain": [
              "<Figure size 432x288 with 1 Axes>"
            ],
            "image/png": "[encoded data removed]"
          },
          "metadata": {
            "needs_background": "light"
          }
        }
      ]
    },
    {
      "cell_type": "code",
      "source": [
        "def mnist(img):\n",
        "    img1 = img.copy()\n",
        "    #_, img = cv2.threshold(img, 150, 255, cv2.THRESH_TRUNC)\n",
        "    img1 = cv2.bitwise_not(img1)\n",
        "    \n",
        "    kernel = np.ones((7,7), np.uint8)\n",
        "    img1  = cv2.cvtColor(img1,cv2.COLOR_BGR2RGB)\n",
        "    img1  = cv2.cvtColor(img1,cv2.COLOR_RGB2GRAY)\n",
        "    img1 = cv2.dilate(img1, kernel) # two thicken the hand writing\n",
        "    #closing = cv2.morphologyEx(img,cv2.MORPH_CLOSE,kernel,)\n",
        "    #_, img = cv2.threshold(img, 127, 255, cv2.THRESH_BINARY)\n",
        "    \n",
        "    #img = cv2.GaussianBlur(img, (5,5),0) # no need it i guess\n",
        "    closing = cv2.morphologyEx(img1,cv2.MORPH_CLOSE,kernel,)\n",
        "    img1 = cv2.resize(closing, (28, 28), interpolation=cv2.INTER_LINEAR) # the size of mnist is 28x28\n",
        "    \n",
        "    return img1"
      ],
      "metadata": {
        "id": "0j0AeEZoIfSV"
      },
      "execution_count": 12,
      "outputs": []
    },
    {
      "cell_type": "code",
      "source": [
        "plt.imshow(mnist(three))"
      ],
      "metadata": {
        "colab": {
          "base_uri": "https://localhost:8080/",
          "height": 282
        },
        "id": "dlkVMKLAIpd0",
        "outputId": "f724e4b6-ac8d-48e8-f886-4f6a6b5a45fb"
      },
      "execution_count": 13,
      "outputs": [
        {
          "output_type": "execute_result",
          "data": {
            "text/plain": [
              "<matplotlib.image.AxesImage at 0x7f1e61789e50>"
            ]
          },
          "metadata": {},
          "execution_count": 13
        },
        {
          "output_type": "display_data",
          "data": {
            "text/plain": [
              "<Figure size 432x288 with 1 Axes>"
            ],
            "image/png": "[encoded data removed]"
          },
          "metadata": {
            "needs_background": "light"
          }
        }
      ]
    },
    {
      "cell_type": "code",
      "source": [
        "mnist(three).shape"
      ],
      "metadata": {
        "colab": {
          "base_uri": "https://localhost:8080/"
        },
        "id": "GpAeNjshIqeB",
        "outputId": "f3f9c4e6-d1f6-4340-e232-377971c8f903"
      },
      "execution_count": 14,
      "outputs": [
        {
          "output_type": "execute_result",
          "data": {
            "text/plain": [
              "(28, 28)"
            ]
          },
          "metadata": {},
          "execution_count": 14
        }
      ]
    },
    {
      "cell_type": "code",
      "source": [
        "threeone = three.copy()\n",
        "img = cv2.bitwise_not(threeone)\n",
        "\n",
        "#img  = cv2.cvtColor(img,cv2.COLOR_BGR2RGB)\n",
        "#img = cv2.GaussianBlur(img, (5,5),0)\n",
        "img = cv2.dilate(img, kernel)\n",
        "img = cv2.resize(img, (28, 28))\n",
        "plt.imshow(img)"
      ],
      "metadata": {
        "colab": {
          "base_uri": "https://localhost:8080/",
          "height": 282
        },
        "id": "dxGB1j__IrOE",
        "outputId": "2540d7f2-84be-49fc-e917-6368ef0de742"
      },
      "execution_count": 15,
      "outputs": [
        {
          "output_type": "execute_result",
          "data": {
            "text/plain": [
              "<matplotlib.image.AxesImage at 0x7f1e61773610>"
            ]
          },
          "metadata": {},
          "execution_count": 15
        },
        {
          "output_type": "display_data",
          "data": {
            "text/plain": [
              "<Figure size 432x288 with 1 Axes>"
            ],
            "image/png": "[encoded data removed]"
          },
          "metadata": {
            "needs_background": "light"
          }
        }
      ]
    },
    {
      "cell_type": "code",
      "source": [
        ""
      ],
      "metadata": {
        "id": "5uNn0EOfIwWA"
      },
      "execution_count": null,
      "outputs": []
    }
  ]
}